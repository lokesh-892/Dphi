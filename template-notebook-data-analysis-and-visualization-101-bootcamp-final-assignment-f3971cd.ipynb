{
  "cells": [
    {
      "cell_type": "markdown",
      "metadata": {
        "id": "00IJ1Sz_-o2P"
      },
      "source": [
        "# Overview\r\n",
        "Throughout this assignment, you will be performing certain well-defined tasks that’ll not only strengthen your concepts of Plotly and Dash, but will also help you learn a number of new concepts that are useful in analyzing, summarizing and visualizing data in the real world. \r\n",
        "\r\n",
        "Here is a template notebook with all the tasks mentioned in detail. **Please complete the tasks within the designated section only.**\r\n"
      ]
    },
    {
      "cell_type": "markdown",
      "metadata": {
        "id": "ZTfhIScP_AHG"
      },
      "source": [
        "## Task 1: Data Loading and Data Aggregation\r\n",
        "* Load the 3 data files into the variables data_18, data_19, data_20. \r\n",
        "\r\n",
        "* Data aggregation is the process of gathering data and presenting it in a summarized format. The data may be gathered from multiple data sources with the intent of combining these data sources into a summary for data analysis.         \r\n",
        "Similar to how this dataset involves 3 data files, you’ll often be working on combining information from 2 or more files and analysing it. More often than not, GroupBy is a very useful tool for this purpose. \r\n",
        "\r\n",
        "  Go through this article to learn more some helpful aggregation tools in Python: https://www.bmc.com/blogs/pandas-group-merge-concatenate-join/ \r\n",
        "\r\n",
        "  **You don't need to aggregate/ merge the datasets in this assignment, it is only for reading purposes.**"
      ]
    },
    {
      "cell_type": "code",
      "execution_count": 140,
      "metadata": {
        "id": "dJJ-zNZl-HzF"
      },
      "outputs": [],
      "source": [
        "import pandas as pd \n",
        "data_18=pd.read_csv(\"/Users/lokeshmamidisetti/Desktop/Survey_2018.csv\")\n",
        "data_19=pd.read_csv(\"/Users/lokeshmamidisetti/Desktop/Survey_2019.csv\")\n",
        "data_20=pd.read_csv(\"/Users/lokeshmamidisetti/Desktop/Survey_2020.csv\")\n"
      ]
    },
    {
      "cell_type": "markdown",
      "metadata": {
        "id": "Bfin9S4pACEA"
      },
      "source": [
        "## Task 2: Data Analysis\r\n",
        "* Display the first 5 rows of the 2018 survey data\r\n",
        "* Display a concise summary of the 2020 data and list out 3 observations/inferences that you observe from the result. For this you will need to use the info() method.\r\n",
        "* Display the descriptive statistics of the 2018 survey data\r\n",
        "* Display the number of missing values in each column of the 2018 survey data\r\n",
        "How many people responded to the survey in each of the 3 years? Has the number increased or decreased over the years?\r\n",
        "* Display all the unique values and their frequency in the column - “Number of vacation days” of 2020 data. Write down your observations (at least one) for this result. \r\n"
      ]
    },
    {
      "cell_type": "code",
      "execution_count": 99,
      "metadata": {
        "id": "I0uRKB6QAW3O"
      },
      "outputs": [
        {
          "data": {
            "text/html": "<div>\n<style scoped>\n    .dataframe tbody tr th:only-of-type {\n        vertical-align: middle;\n    }\n\n    .dataframe tbody tr th {\n        vertical-align: top;\n    }\n\n    .dataframe thead th {\n        text-align: right;\n    }\n</style>\n<table border=\"1\" class=\"dataframe\">\n  <thead>\n    <tr style=\"text-align: right;\">\n      <th></th>\n      <th>Timestamp</th>\n      <th>Age</th>\n      <th>Gender</th>\n      <th>City</th>\n      <th>Position</th>\n      <th>Years of experience</th>\n      <th>Your level</th>\n      <th>Current Salary</th>\n      <th>Salary one year ago</th>\n      <th>Salary two years ago</th>\n      <th>Are you getting any Stock Options?</th>\n      <th>Main language at work</th>\n      <th>Company size</th>\n      <th>Company type</th>\n    </tr>\n  </thead>\n  <tbody>\n    <tr>\n      <th>0</th>\n      <td>14/12/2018 12:41:33</td>\n      <td>43.0</td>\n      <td>M</td>\n      <td>München</td>\n      <td>QA Ingenieur</td>\n      <td>11.0</td>\n      <td>Senior</td>\n      <td>77000.0</td>\n      <td>76200.0</td>\n      <td>68000.0</td>\n      <td>No</td>\n      <td>Deutsch</td>\n      <td>100-1000</td>\n      <td>Product</td>\n    </tr>\n    <tr>\n      <th>1</th>\n      <td>14/12/2018 12:42:09</td>\n      <td>33.0</td>\n      <td>F</td>\n      <td>München</td>\n      <td>Senior PHP Magento developer</td>\n      <td>8.0</td>\n      <td>Senior</td>\n      <td>65000.0</td>\n      <td>55000.0</td>\n      <td>55000.0</td>\n      <td>No</td>\n      <td>Deutsch</td>\n      <td>50-100</td>\n      <td>Product</td>\n    </tr>\n    <tr>\n      <th>2</th>\n      <td>14/12/2018 12:47:36</td>\n      <td>32.0</td>\n      <td>M</td>\n      <td>München</td>\n      <td>Software Engineer</td>\n      <td>10.0</td>\n      <td>Senior</td>\n      <td>88000.0</td>\n      <td>73000.0</td>\n      <td>54000.0</td>\n      <td>No</td>\n      <td>Deutsch</td>\n      <td>1000+</td>\n      <td>Product</td>\n    </tr>\n    <tr>\n      <th>3</th>\n      <td>14/12/2018 12:50:15</td>\n      <td>25.0</td>\n      <td>M</td>\n      <td>München</td>\n      <td>Senior Frontend Developer</td>\n      <td>6.0</td>\n      <td>Senior</td>\n      <td>78000.0</td>\n      <td>55000.0</td>\n      <td>45000.0</td>\n      <td>Yes</td>\n      <td>English</td>\n      <td>1000+</td>\n      <td>Product</td>\n    </tr>\n    <tr>\n      <th>4</th>\n      <td>14/12/2018 12:50:31</td>\n      <td>39.0</td>\n      <td>M</td>\n      <td>München</td>\n      <td>UX Designer</td>\n      <td>10.0</td>\n      <td>Senior</td>\n      <td>69000.0</td>\n      <td>60000.0</td>\n      <td>52000.0</td>\n      <td>No</td>\n      <td>English</td>\n      <td>100-1000</td>\n      <td>Ecom retailer</td>\n    </tr>\n  </tbody>\n</table>\n</div>",
            "text/plain": "             Timestamp   Age Gender     City                       Position  \\\n0  14/12/2018 12:41:33  43.0      M  München                   QA Ingenieur   \n1  14/12/2018 12:42:09  33.0      F  München  Senior PHP Magento developer    \n2  14/12/2018 12:47:36  32.0      M  München              Software Engineer   \n3  14/12/2018 12:50:15  25.0      M  München      Senior Frontend Developer   \n4  14/12/2018 12:50:31  39.0      M  München                    UX Designer   \n\n   Years of experience Your level  Current Salary  Salary one year ago  \\\n0                 11.0     Senior         77000.0              76200.0   \n1                  8.0     Senior         65000.0              55000.0   \n2                 10.0     Senior         88000.0              73000.0   \n3                  6.0     Senior         78000.0              55000.0   \n4                 10.0     Senior         69000.0              60000.0   \n\n   Salary two years ago Are you getting any Stock Options?  \\\n0               68000.0                                 No   \n1               55000.0                                 No   \n2               54000.0                                 No   \n3               45000.0                                Yes   \n4               52000.0                                 No   \n\n  Main language at work Company size   Company type  \n0               Deutsch     100-1000        Product  \n1               Deutsch       50-100        Product  \n2               Deutsch        1000+        Product  \n3               English        1000+        Product  \n4               English     100-1000  Ecom retailer  "
          },
          "execution_count": 99,
          "metadata": {},
          "output_type": "execute_result"
        }
      ],
      "source": [
        "data_18.head(5)"
      ]
    },
    {
      "cell_type": "code",
      "execution_count": 100,
      "metadata": {},
      "outputs": [
        {
          "name": "stdout",
          "output_type": "stream",
          "text": [
            "<class 'pandas.core.frame.DataFrame'>\n",
            "RangeIndex: 1253 entries, 0 to 1252\n",
            "Data columns (total 23 columns):\n",
            " #   Column                                                                                                                   Non-Null Count  Dtype  \n",
            "---  ------                                                                                                                   --------------  -----  \n",
            " 0   Timestamp                                                                                                                1253 non-null   object \n",
            " 1   Age                                                                                                                      1226 non-null   float64\n",
            " 2   Gender                                                                                                                   1243 non-null   object \n",
            " 3   City                                                                                                                     1253 non-null   object \n",
            " 4   Position                                                                                                                 1247 non-null   object \n",
            " 5   Total years of experience                                                                                                1237 non-null   object \n",
            " 6   Years of experience in Germany                                                                                           1221 non-null   object \n",
            " 7   Seniority level                                                                                                          1241 non-null   object \n",
            " 8   Your main technology / programming language                                                                              1126 non-null   object \n",
            " 9   Other technologies/programming languages you use often                                                                   1096 non-null   object \n",
            " 10  Yearly brutto salary (without bonus and stocks) in EUR                                                                   1253 non-null   float64\n",
            " 11  Yearly bonus + stocks in EUR                                                                                             829 non-null    object \n",
            " 12  Annual brutto salary (without bonus and stocks) one year ago. Only answer if staying in the same country                 885 non-null    float64\n",
            " 13  Annual bonus+stocks one year ago. Only answer if staying in same country                                                 614 non-null    object \n",
            " 14  Number of vacation days                                                                                                  1185 non-null   object \n",
            " 15  Employment status                                                                                                        1236 non-null   object \n",
            " 16  Сontract duration                                                                                                        1224 non-null   object \n",
            " 17  Main language at work                                                                                                    1237 non-null   object \n",
            " 18  Company size                                                                                                             1235 non-null   object \n",
            " 19  Company type                                                                                                             1228 non-null   object \n",
            " 20  Have you lost your job due to the coronavirus outbreak?                                                                  1233 non-null   object \n",
            " 21  Have you been forced to have a shorter working week (Kurzarbeit)? If yes, how many hours per week                        373 non-null    float64\n",
            " 22  Have you received additional monetary support from your employer due to Work From Home? If yes, how much in 2020 in EUR  462 non-null    object \n",
            "dtypes: float64(4), object(19)\n",
            "memory usage: 225.3+ KB\n"
          ]
        }
      ],
      "source": [
        "data_20.info()"
      ]
    },
    {
      "cell_type": "markdown",
      "metadata": {},
      "source": [
        "#1.there are null values in every column except timestamp column\n",
        "#2.there are a total of 23 columns in the dataset\n",
        "#3.there are data types of float64(4), object(19)"
      ]
    },
    {
      "cell_type": "code",
      "execution_count": 101,
      "metadata": {},
      "outputs": [
        {
          "data": {
            "text/html": "<div>\n<style scoped>\n    .dataframe tbody tr th:only-of-type {\n        vertical-align: middle;\n    }\n\n    .dataframe tbody tr th {\n        vertical-align: top;\n    }\n\n    .dataframe thead th {\n        text-align: right;\n    }\n</style>\n<table border=\"1\" class=\"dataframe\">\n  <thead>\n    <tr style=\"text-align: right;\">\n      <th></th>\n      <th>Age</th>\n      <th>Years of experience</th>\n      <th>Current Salary</th>\n      <th>Salary one year ago</th>\n      <th>Salary two years ago</th>\n    </tr>\n  </thead>\n  <tbody>\n    <tr>\n      <th>count</th>\n      <td>672.000000</td>\n      <td>732.000000</td>\n      <td>750.000000</td>\n      <td>596.000000</td>\n      <td>463.000000</td>\n    </tr>\n    <tr>\n      <th>mean</th>\n      <td>32.183036</td>\n      <td>8.548497</td>\n      <td>68381.765333</td>\n      <td>62187.278523</td>\n      <td>58013.475162</td>\n    </tr>\n    <tr>\n      <th>std</th>\n      <td>5.107268</td>\n      <td>4.729557</td>\n      <td>21196.306557</td>\n      <td>20163.008663</td>\n      <td>20413.048908</td>\n    </tr>\n    <tr>\n      <th>min</th>\n      <td>21.000000</td>\n      <td>0.000000</td>\n      <td>10300.000000</td>\n      <td>10001.000000</td>\n      <td>10001.000000</td>\n    </tr>\n    <tr>\n      <th>25%</th>\n      <td>29.000000</td>\n      <td>5.000000</td>\n      <td>57000.000000</td>\n      <td>52000.000000</td>\n      <td>48000.000000</td>\n    </tr>\n    <tr>\n      <th>50%</th>\n      <td>32.000000</td>\n      <td>8.000000</td>\n      <td>65000.000000</td>\n      <td>60000.000000</td>\n      <td>56000.000000</td>\n    </tr>\n    <tr>\n      <th>75%</th>\n      <td>35.000000</td>\n      <td>11.000000</td>\n      <td>75000.000000</td>\n      <td>70000.000000</td>\n      <td>67000.000000</td>\n    </tr>\n    <tr>\n      <th>max</th>\n      <td>60.000000</td>\n      <td>38.000000</td>\n      <td>200000.000000</td>\n      <td>200000.000000</td>\n      <td>150000.000000</td>\n    </tr>\n  </tbody>\n</table>\n</div>",
            "text/plain": "              Age  Years of experience  Current Salary  Salary one year ago  \\\ncount  672.000000           732.000000      750.000000           596.000000   \nmean    32.183036             8.548497    68381.765333         62187.278523   \nstd      5.107268             4.729557    21196.306557         20163.008663   \nmin     21.000000             0.000000    10300.000000         10001.000000   \n25%     29.000000             5.000000    57000.000000         52000.000000   \n50%     32.000000             8.000000    65000.000000         60000.000000   \n75%     35.000000            11.000000    75000.000000         70000.000000   \nmax     60.000000            38.000000   200000.000000        200000.000000   \n\n       Salary two years ago  \ncount            463.000000  \nmean           58013.475162  \nstd            20413.048908  \nmin            10001.000000  \n25%            48000.000000  \n50%            56000.000000  \n75%            67000.000000  \nmax           150000.000000  "
          },
          "execution_count": 101,
          "metadata": {},
          "output_type": "execute_result"
        }
      ],
      "source": [
        "data_18.describe()"
      ]
    },
    {
      "cell_type": "code",
      "execution_count": 102,
      "metadata": {},
      "outputs": [
        {
          "data": {
            "text/plain": "Timestamp                               0\nAge                                    93\nGender                                 14\nCity                                   29\nPosition                               28\nYears of experience                    33\nYour level                             22\nCurrent Salary                         15\nSalary one year ago                   169\nSalary two years ago                  302\nAre you getting any Stock Options?     23\nMain language at work                  15\nCompany size                           15\nCompany type                           35\ndtype: int64"
          },
          "execution_count": 102,
          "metadata": {},
          "output_type": "execute_result"
        }
      ],
      "source": [
        "#null values in the 2018 data set\n",
        "data_18.isnull().sum()"
      ]
    },
    {
      "cell_type": "code",
      "execution_count": 103,
      "metadata": {},
      "outputs": [
        {
          "name": "stdout",
          "output_type": "stream",
          "text": [
            "765\n",
            "991\n",
            "1253\n"
          ]
        }
      ],
      "source": [
        "response_18=data_18['Timestamp'].count()\n",
        "response_19=data_19['Zeitstempel'].count()\n",
        "response_20=data_20['Timestamp'].count()\n",
        "print(response_18)\n",
        "print(response_19)\n",
        "print(response_20)"
      ]
    },
    {
      "cell_type": "markdown",
      "metadata": {},
      "source": [
        "we can see that number of responses had increased over the years\n"
      ]
    },
    {
      "cell_type": "code",
      "execution_count": 104,
      "metadata": {},
      "outputs": [
        {
          "data": {
            "text/plain": "array(['30', '28', '24', '29', '27', nan, '25', '31', '26', '60', '20',\n       '22', '38', '35', '32', '40', '365', '36', '23', '33', '21',\n       'unlimited', '14', 'unlimited ', '(no idea)',\n       '30 in contract (but theoretically unlimited)', '0', 'Unlimited ',\n       '15', '16', '3', '45', '~25', '12', '50', '23+', '99', 'Unlimited',\n       '24 labour days', '37.5', '1', '5', '37', '39', '34', '10'],\n      dtype=object)"
          },
          "execution_count": 104,
          "metadata": {},
          "output_type": "execute_result"
        }
      ],
      "source": [
        "data_20['Number of vacation days'].unique()"
      ]
    },
    {
      "cell_type": "markdown",
      "metadata": {},
      "source": [
        "#mispelled unlimited found many times in the data."
      ]
    },
    {
      "cell_type": "markdown",
      "metadata": {
        "id": "wptPzyquAXbR"
      },
      "source": [
        "## Task 3: Data Cleaning\r\n",
        "* Rename the column ‘Position ‘ in the 2020 data to ‘Position’. (without the blank space)\r\n",
        "* Check for missing values in 2020 data for all the columns. If there are no missing values, proceed to the next step. If there are missing values in the dataset,\r\n",
        "  * For categorical variables, fill the missing values with the mode of the data. Remember if the data type of any variable is ‘object’, it is categorical variable. \r\n",
        "  * For numerical variables, fill the missing values with the mean of the data.\r\n",
        "\r\n",
        "Here's a good blog that displays multiple methods of filling (imputing) missing values: https://jamesrledoux.com/code/imputation \r\n",
        "* Drop the timestamp column for all the three years data since the date and time at which a person filled the survey is irrelevant to us. The year matters and we already know that from the dataset’s name.\r\n",
        "* Perform any other data cleaning steps you believe are necessary. (removing outliers, handling missing values in a way to beautify visualizations, making the categories uniform i.e python and Python should mean the same thing etc.) Note that the same steps will have to be performed for all 3 data files."
      ]
    },
    {
      "cell_type": "code",
      "execution_count": 105,
      "metadata": {
        "id": "Eqjj9eYhCP3T"
      },
      "outputs": [],
      "source": [
        "data_20.rename(columns={'Position ':'Position'},inplace=True,errors='raise')\n"
      ]
    },
    {
      "cell_type": "code",
      "execution_count": 106,
      "metadata": {},
      "outputs": [
        {
          "data": {
            "text/plain": "Index(['Timestamp', 'Age', 'Gender', 'City', 'Position',\n       'Total years of experience', 'Years of experience in Germany',\n       'Seniority level', 'Your main technology / programming language',\n       'Other technologies/programming languages you use often',\n       'Yearly brutto salary (without bonus and stocks) in EUR',\n       'Yearly bonus + stocks in EUR',\n       'Annual brutto salary (without bonus and stocks) one year ago. Only answer if staying in the same country',\n       'Annual bonus+stocks one year ago. Only answer if staying in same country',\n       'Number of vacation days', 'Employment status', 'Сontract duration',\n       'Main language at work', 'Company size', 'Company type',\n       'Have you lost your job due to the coronavirus outbreak?',\n       'Have you been forced to have a shorter working week (Kurzarbeit)? If yes, how many hours per week',\n       'Have you received additional monetary support from your employer due to Work From Home? If yes, how much in 2020 in EUR'],\n      dtype='object')"
          },
          "execution_count": 106,
          "metadata": {},
          "output_type": "execute_result"
        }
      ],
      "source": [
        "data_20.columns"
      ]
    },
    {
      "cell_type": "code",
      "execution_count": 107,
      "metadata": {},
      "outputs": [
        {
          "name": "stdout",
          "output_type": "stream",
          "text": [
            "<class 'pandas.core.frame.DataFrame'>\n",
            "RangeIndex: 1253 entries, 0 to 1252\n",
            "Data columns (total 23 columns):\n",
            " #   Column                                                                                                                   Non-Null Count  Dtype  \n",
            "---  ------                                                                                                                   --------------  -----  \n",
            " 0   Timestamp                                                                                                                1253 non-null   object \n",
            " 1   Age                                                                                                                      1226 non-null   float64\n",
            " 2   Gender                                                                                                                   1243 non-null   object \n",
            " 3   City                                                                                                                     1253 non-null   object \n",
            " 4   Position                                                                                                                 1247 non-null   object \n",
            " 5   Total years of experience                                                                                                1237 non-null   object \n",
            " 6   Years of experience in Germany                                                                                           1221 non-null   object \n",
            " 7   Seniority level                                                                                                          1241 non-null   object \n",
            " 8   Your main technology / programming language                                                                              1126 non-null   object \n",
            " 9   Other technologies/programming languages you use often                                                                   1096 non-null   object \n",
            " 10  Yearly brutto salary (without bonus and stocks) in EUR                                                                   1253 non-null   float64\n",
            " 11  Yearly bonus + stocks in EUR                                                                                             829 non-null    object \n",
            " 12  Annual brutto salary (without bonus and stocks) one year ago. Only answer if staying in the same country                 885 non-null    float64\n",
            " 13  Annual bonus+stocks one year ago. Only answer if staying in same country                                                 614 non-null    object \n",
            " 14  Number of vacation days                                                                                                  1185 non-null   object \n",
            " 15  Employment status                                                                                                        1236 non-null   object \n",
            " 16  Сontract duration                                                                                                        1224 non-null   object \n",
            " 17  Main language at work                                                                                                    1237 non-null   object \n",
            " 18  Company size                                                                                                             1235 non-null   object \n",
            " 19  Company type                                                                                                             1228 non-null   object \n",
            " 20  Have you lost your job due to the coronavirus outbreak?                                                                  1233 non-null   object \n",
            " 21  Have you been forced to have a shorter working week (Kurzarbeit)? If yes, how many hours per week                        373 non-null    float64\n",
            " 22  Have you received additional monetary support from your employer due to Work From Home? If yes, how much in 2020 in EUR  462 non-null    object \n",
            "dtypes: float64(4), object(19)\n",
            "memory usage: 225.3+ KB\n"
          ]
        }
      ],
      "source": [
        "data_20.info()"
      ]
    },
    {
      "cell_type": "code",
      "execution_count": 111,
      "metadata": {},
      "outputs": [
        {
          "data": {
            "text/plain": "Timestamp                                                                                                                    0\nAge                                                                                                                         27\nGender                                                                                                                      10\nCity                                                                                                                         0\nPosition                                                                                                                     6\nTotal years of experience                                                                                                   16\nYears of experience in Germany                                                                                              32\nSeniority level                                                                                                             12\nYour main technology / programming language                                                                                127\nOther technologies/programming languages you use often                                                                     157\nYearly brutto salary (without bonus and stocks) in EUR                                                                       0\nYearly bonus + stocks in EUR                                                                                               424\nAnnual brutto salary (without bonus and stocks) one year ago. Only answer if staying in the same country                   368\nAnnual bonus+stocks one year ago. Only answer if staying in same country                                                   639\nNumber of vacation days                                                                                                     68\nEmployment status                                                                                                           17\nСontract duration                                                                                                           29\nMain language at work                                                                                                       16\nCompany size                                                                                                                18\nCompany type                                                                                                                25\nHave you lost your job due to the coronavirus outbreak?                                                                     20\nHave you been forced to have a shorter working week (Kurzarbeit)? If yes, how many hours per week                          880\nHave you received additional monetary support from your employer due to Work From Home? If yes, how much in 2020 in EUR    790\ndtype: int64"
          },
          "execution_count": 111,
          "metadata": {},
          "output_type": "execute_result"
        }
      ],
      "source": [
        "data_20.isnull().sum()"
      ]
    },
    {
      "cell_type": "code",
      "execution_count": 150,
      "metadata": {},
      "outputs": [
        {
          "data": {
            "text/html": "<div>\n<style scoped>\n    .dataframe tbody tr th:only-of-type {\n        vertical-align: middle;\n    }\n\n    .dataframe tbody tr th {\n        vertical-align: top;\n    }\n\n    .dataframe thead th {\n        text-align: right;\n    }\n</style>\n<table border=\"1\" class=\"dataframe\">\n  <thead>\n    <tr style=\"text-align: right;\">\n      <th></th>\n      <th>Timestamp</th>\n      <th>Age</th>\n      <th>Gender</th>\n      <th>City</th>\n      <th>Position</th>\n      <th>Total years of experience</th>\n      <th>Years of experience in Germany</th>\n      <th>Seniority level</th>\n      <th>Your main technology / programming language</th>\n      <th>Other technologies/programming languages you use often</th>\n      <th>...</th>\n      <th>Annual bonus+stocks one year ago. Only answer if staying in same country</th>\n      <th>Number of vacation days</th>\n      <th>Employment status</th>\n      <th>Сontract duration</th>\n      <th>Main language at work</th>\n      <th>Company size</th>\n      <th>Company type</th>\n      <th>Have you lost your job due to the coronavirus outbreak?</th>\n      <th>Have you been forced to have a shorter working week (Kurzarbeit)? If yes, how many hours per week</th>\n      <th>Have you received additional monetary support from your employer due to Work From Home? If yes, how much in 2020 in EUR</th>\n    </tr>\n  </thead>\n  <tbody>\n    <tr>\n      <th>11</th>\n      <td>24/11/2020 11:18:16</td>\n      <td>NaN</td>\n      <td>Male</td>\n      <td>Berlin</td>\n      <td>Software Engineer</td>\n      <td>25</td>\n      <td>11</td>\n      <td>Senior</td>\n      <td>C++</td>\n      <td>Python, C/C++, SQL</td>\n      <td>...</td>\n      <td>13000</td>\n      <td>24</td>\n      <td>Self-employed (freelancer)</td>\n      <td>Temporary contract</td>\n      <td>English</td>\n      <td>11-50</td>\n      <td>Product</td>\n      <td>Yes</td>\n      <td>NaN</td>\n      <td>NaN</td>\n    </tr>\n    <tr>\n      <th>12</th>\n      <td>24/11/2020 11:18:22</td>\n      <td>NaN</td>\n      <td>NaN</td>\n      <td>Berlin</td>\n      <td>Software Engineer</td>\n      <td>NaN</td>\n      <td>NaN</td>\n      <td>Lead</td>\n      <td>PHP</td>\n      <td>NaN</td>\n      <td>...</td>\n      <td>NaN</td>\n      <td>NaN</td>\n      <td>Full-time employee</td>\n      <td>Unlimited contract</td>\n      <td>English</td>\n      <td>1000+</td>\n      <td>NaN</td>\n      <td>No</td>\n      <td>NaN</td>\n      <td>1000</td>\n    </tr>\n    <tr>\n      <th>28</th>\n      <td>24/11/2020 11:25:35</td>\n      <td>NaN</td>\n      <td>Male</td>\n      <td>Berlin</td>\n      <td>DevOps</td>\n      <td>14</td>\n      <td>5</td>\n      <td>Senior</td>\n      <td>NaN</td>\n      <td>Python, Go, AWS, Kubernetes, Docker</td>\n      <td>...</td>\n      <td>NaN</td>\n      <td>30</td>\n      <td>Full-time employee</td>\n      <td>Unlimited contract</td>\n      <td>English</td>\n      <td>101-1000</td>\n      <td>Product</td>\n      <td>No</td>\n      <td>NaN</td>\n      <td>NaN</td>\n    </tr>\n    <tr>\n      <th>55</th>\n      <td>24/11/2020 11:33:08</td>\n      <td>NaN</td>\n      <td>Male</td>\n      <td>Berlin</td>\n      <td>Software Engineer</td>\n      <td>NaN</td>\n      <td>1</td>\n      <td>Senior</td>\n      <td>PHP</td>\n      <td>NaN</td>\n      <td>...</td>\n      <td>NaN</td>\n      <td>NaN</td>\n      <td>Full-time employee</td>\n      <td>NaN</td>\n      <td>English</td>\n      <td>NaN</td>\n      <td>NaN</td>\n      <td>No</td>\n      <td>0.0</td>\n      <td>NaN</td>\n    </tr>\n    <tr>\n      <th>113</th>\n      <td>24/11/2020 11:56:25</td>\n      <td>NaN</td>\n      <td>Male</td>\n      <td>Berlin</td>\n      <td>QA Engineer</td>\n      <td>6</td>\n      <td>6</td>\n      <td>Middle</td>\n      <td>Javascript</td>\n      <td>Javascript / Typescript, AWS</td>\n      <td>...</td>\n      <td>NaN</td>\n      <td>30</td>\n      <td>Full-time employee</td>\n      <td>Unlimited contract</td>\n      <td>English</td>\n      <td>101-1000</td>\n      <td>Product</td>\n      <td>No</td>\n      <td>0.0</td>\n      <td>NaN</td>\n    </tr>\n    <tr>\n      <th>300</th>\n      <td>24/11/2020 15:47:19</td>\n      <td>NaN</td>\n      <td>Male</td>\n      <td>Berlin</td>\n      <td>Data Engineer</td>\n      <td>7.5</td>\n      <td>1.5</td>\n      <td>Middle</td>\n      <td>SQL</td>\n      <td>Python, SQL, AWS, Kubernetes, Docker</td>\n      <td>...</td>\n      <td>0</td>\n      <td>30</td>\n      <td>Full-time employee</td>\n      <td>Unlimited contract</td>\n      <td>English</td>\n      <td>101-1000</td>\n      <td>Product</td>\n      <td>No</td>\n      <td>NaN</td>\n      <td>NaN</td>\n    </tr>\n    <tr>\n      <th>330</th>\n      <td>24/11/2020 17:29:51</td>\n      <td>NaN</td>\n      <td>NaN</td>\n      <td>Munich</td>\n      <td>Data Scientist</td>\n      <td>2</td>\n      <td>2</td>\n      <td>Middle</td>\n      <td>Python</td>\n      <td>NaN</td>\n      <td>...</td>\n      <td>NaN</td>\n      <td>20</td>\n      <td>Full-time employee</td>\n      <td>Unlimited contract</td>\n      <td>English</td>\n      <td>51-100</td>\n      <td>Product</td>\n      <td>No</td>\n      <td>NaN</td>\n      <td>NaN</td>\n    </tr>\n    <tr>\n      <th>340</th>\n      <td>24/11/2020 17:40:38</td>\n      <td>NaN</td>\n      <td>Male</td>\n      <td>Hamburg</td>\n      <td>Support Engineer</td>\n      <td>NaN</td>\n      <td>2</td>\n      <td>Senior</td>\n      <td>NaN</td>\n      <td>Kubernetes, Docker</td>\n      <td>...</td>\n      <td>NaN</td>\n      <td>28</td>\n      <td>Full-time employee</td>\n      <td>Unlimited contract</td>\n      <td>English</td>\n      <td>NaN</td>\n      <td>NaN</td>\n      <td>No</td>\n      <td>NaN</td>\n      <td>100</td>\n    </tr>\n    <tr>\n      <th>365</th>\n      <td>24/11/2020 18:31:25</td>\n      <td>NaN</td>\n      <td>Male</td>\n      <td>Berlin</td>\n      <td>Software Engineer</td>\n      <td>9</td>\n      <td>1</td>\n      <td>Lead</td>\n      <td>Java</td>\n      <td>AWS, Docker</td>\n      <td>...</td>\n      <td>NaN</td>\n      <td>24</td>\n      <td>Full-time employee</td>\n      <td>Unlimited contract</td>\n      <td>English</td>\n      <td>1000+</td>\n      <td>Startup</td>\n      <td>No</td>\n      <td>20.0</td>\n      <td>No</td>\n    </tr>\n    <tr>\n      <th>374</th>\n      <td>24/11/2020 18:48:30</td>\n      <td>NaN</td>\n      <td>Male</td>\n      <td>Karlsruhe</td>\n      <td>Backend Developer</td>\n      <td>8</td>\n      <td>8</td>\n      <td>Lead</td>\n      <td>Python</td>\n      <td>Python, C/C++, Javascript / Typescript, Java /...</td>\n      <td>...</td>\n      <td>5400</td>\n      <td>29</td>\n      <td>Part-time employee</td>\n      <td>Unlimited contract</td>\n      <td>English</td>\n      <td>up to 10</td>\n      <td>Product</td>\n      <td>No</td>\n      <td>39.0</td>\n      <td>10000</td>\n    </tr>\n    <tr>\n      <th>418</th>\n      <td>24/11/2020 20:26:20</td>\n      <td>NaN</td>\n      <td>Male</td>\n      <td>Munich</td>\n      <td>Software Engineer</td>\n      <td>4</td>\n      <td>3</td>\n      <td>Middle</td>\n      <td>Java</td>\n      <td>Javascript / Typescript, AWS, Kubernetes</td>\n      <td>...</td>\n      <td>0</td>\n      <td>NaN</td>\n      <td>Full-time employee</td>\n      <td>Unlimited contract</td>\n      <td>English</td>\n      <td>1000+</td>\n      <td>Product</td>\n      <td>No</td>\n      <td>NaN</td>\n      <td>0</td>\n    </tr>\n    <tr>\n      <th>473</th>\n      <td>25/11/2020 03:27:34</td>\n      <td>NaN</td>\n      <td>NaN</td>\n      <td>Berlin</td>\n      <td>NaN</td>\n      <td>NaN</td>\n      <td>NaN</td>\n      <td>NaN</td>\n      <td>NaN</td>\n      <td>NaN</td>\n      <td>...</td>\n      <td>NaN</td>\n      <td>NaN</td>\n      <td>NaN</td>\n      <td>NaN</td>\n      <td>NaN</td>\n      <td>NaN</td>\n      <td>NaN</td>\n      <td>NaN</td>\n      <td>NaN</td>\n      <td>NaN</td>\n    </tr>\n    <tr>\n      <th>529</th>\n      <td>25/11/2020 10:58:13</td>\n      <td>NaN</td>\n      <td>Male</td>\n      <td>Berlin</td>\n      <td>Software Engineer</td>\n      <td>15</td>\n      <td>NaN</td>\n      <td>Senior</td>\n      <td>Java</td>\n      <td>NaN</td>\n      <td>...</td>\n      <td>NaN</td>\n      <td>NaN</td>\n      <td>Full-time employee</td>\n      <td>NaN</td>\n      <td>English</td>\n      <td>NaN</td>\n      <td>NaN</td>\n      <td>No</td>\n      <td>NaN</td>\n      <td>NaN</td>\n    </tr>\n    <tr>\n      <th>530</th>\n      <td>25/11/2020 11:03:17</td>\n      <td>NaN</td>\n      <td>Male</td>\n      <td>Leipzig</td>\n      <td>Frontend Developer</td>\n      <td>NaN</td>\n      <td>6</td>\n      <td>Middle</td>\n      <td>JavaScript</td>\n      <td>PHP</td>\n      <td>...</td>\n      <td>NaN</td>\n      <td>28</td>\n      <td>Full-time employee</td>\n      <td>Unlimited contract</td>\n      <td>German</td>\n      <td>101-1000</td>\n      <td>Product</td>\n      <td>No</td>\n      <td>30.0</td>\n      <td>NaN</td>\n    </tr>\n    <tr>\n      <th>708</th>\n      <td>25/11/2020 22:18:59</td>\n      <td>NaN</td>\n      <td>Male</td>\n      <td>Frankfurt</td>\n      <td>Software Engineer</td>\n      <td>18</td>\n      <td>1</td>\n      <td>Senior</td>\n      <td>NaN</td>\n      <td>Javascript / Typescript, .NET, SQL, Google Cloud</td>\n      <td>...</td>\n      <td>NaN</td>\n      <td>30</td>\n      <td>Full-time employee</td>\n      <td>Unlimited contract</td>\n      <td>English</td>\n      <td>1000+</td>\n      <td>Product</td>\n      <td>No</td>\n      <td>0.0</td>\n      <td>0</td>\n    </tr>\n    <tr>\n      <th>726</th>\n      <td>26/11/2020 04:26:30</td>\n      <td>NaN</td>\n      <td>Male</td>\n      <td>Berlin</td>\n      <td>DevOps</td>\n      <td>10</td>\n      <td>5</td>\n      <td>Senior</td>\n      <td>NaN</td>\n      <td>Python, Go</td>\n      <td>...</td>\n      <td>NaN</td>\n      <td>NaN</td>\n      <td>Full-time employee</td>\n      <td>Unlimited contract</td>\n      <td>English</td>\n      <td>1000+</td>\n      <td>Product</td>\n      <td>No</td>\n      <td>NaN</td>\n      <td>NaN</td>\n    </tr>\n    <tr>\n      <th>829</th>\n      <td>27/11/2020 12:20:51</td>\n      <td>NaN</td>\n      <td>Male</td>\n      <td>Berlin</td>\n      <td>data engineer</td>\n      <td>11</td>\n      <td>1</td>\n      <td>Middle</td>\n      <td>python</td>\n      <td>Python, SQL, AWS, Google Cloud</td>\n      <td>...</td>\n      <td>NaN</td>\n      <td>28</td>\n      <td>Full-time employee</td>\n      <td>Unlimited contract</td>\n      <td>English</td>\n      <td>1000+</td>\n      <td>Product</td>\n      <td>No</td>\n      <td>28.0</td>\n      <td>0</td>\n    </tr>\n    <tr>\n      <th>832</th>\n      <td>27/11/2020 12:33:03</td>\n      <td>NaN</td>\n      <td>Male</td>\n      <td>Hamburg</td>\n      <td>Software Engineer</td>\n      <td>12</td>\n      <td>12</td>\n      <td>Senior</td>\n      <td>Java</td>\n      <td>Python, Kotlin, Javascript / Typescript, Java ...</td>\n      <td>...</td>\n      <td>NaN</td>\n      <td>30</td>\n      <td>Self-employed (freelancer)</td>\n      <td>Temporary contract</td>\n      <td>German</td>\n      <td>NaN</td>\n      <td>Consulting / Agency</td>\n      <td>No</td>\n      <td>NaN</td>\n      <td>NaN</td>\n    </tr>\n    <tr>\n      <th>848</th>\n      <td>27/11/2020 14:34:16</td>\n      <td>NaN</td>\n      <td>Female</td>\n      <td>Berlin</td>\n      <td>Data Scientist</td>\n      <td>1</td>\n      <td>8</td>\n      <td>Junior</td>\n      <td>Python</td>\n      <td>Python, R, SQL, Azure</td>\n      <td>...</td>\n      <td>NaN</td>\n      <td>30</td>\n      <td>Full-time employee</td>\n      <td>Unlimited contract</td>\n      <td>English</td>\n      <td>1000+</td>\n      <td>Product</td>\n      <td>No</td>\n      <td>NaN</td>\n      <td>No</td>\n    </tr>\n    <tr>\n      <th>904</th>\n      <td>29/11/2020 12:27:03</td>\n      <td>NaN</td>\n      <td>Male</td>\n      <td>Berlin</td>\n      <td>Software Engineer</td>\n      <td>10</td>\n      <td>10</td>\n      <td>Senior</td>\n      <td>.net</td>\n      <td>.NET, SQL, Azure</td>\n      <td>...</td>\n      <td>NaN</td>\n      <td>30</td>\n      <td>Full-time employee</td>\n      <td>Unlimited contract</td>\n      <td>German</td>\n      <td>1000+</td>\n      <td>NaN</td>\n      <td>No</td>\n      <td>NaN</td>\n      <td>0</td>\n    </tr>\n    <tr>\n      <th>961</th>\n      <td>30/11/2020 13:50:56</td>\n      <td>NaN</td>\n      <td>Male</td>\n      <td>Berlin</td>\n      <td>Data Scientist</td>\n      <td>4</td>\n      <td>4</td>\n      <td>Head</td>\n      <td>python</td>\n      <td>R, SQL, AWS, Docker</td>\n      <td>...</td>\n      <td>0</td>\n      <td>unlimited</td>\n      <td>Full-time employee</td>\n      <td>Unlimited contract</td>\n      <td>German</td>\n      <td>11-50</td>\n      <td>Consulting / Agency</td>\n      <td>No</td>\n      <td>NaN</td>\n      <td>NaN</td>\n    </tr>\n    <tr>\n      <th>1039</th>\n      <td>01/12/2020 18:09:57</td>\n      <td>NaN</td>\n      <td>Male</td>\n      <td>Berlin</td>\n      <td>Backend Developer</td>\n      <td>15</td>\n      <td>6</td>\n      <td>Middle</td>\n      <td>Elixir</td>\n      <td>Python, Ruby, Kubernetes, Docker</td>\n      <td>...</td>\n      <td>NaN</td>\n      <td>30</td>\n      <td>Full-time employee</td>\n      <td>Unlimited contract</td>\n      <td>English</td>\n      <td>101-1000</td>\n      <td>Consulting / Agency</td>\n      <td>No</td>\n      <td>NaN</td>\n      <td>NaN</td>\n    </tr>\n    <tr>\n      <th>1063</th>\n      <td>02/12/2020 21:39:34</td>\n      <td>NaN</td>\n      <td>Male</td>\n      <td>Munich</td>\n      <td>Frontend Developer</td>\n      <td>5</td>\n      <td>3</td>\n      <td>Lead</td>\n      <td>javascript</td>\n      <td>Javascript / Typescript</td>\n      <td>...</td>\n      <td>NaN</td>\n      <td>24</td>\n      <td>Full-time employee</td>\n      <td>Unlimited contract</td>\n      <td>English</td>\n      <td>11-50</td>\n      <td>Startup</td>\n      <td>No</td>\n      <td>NaN</td>\n      <td>NaN</td>\n    </tr>\n    <tr>\n      <th>1148</th>\n      <td>11/12/2020 22:36:22</td>\n      <td>NaN</td>\n      <td>NaN</td>\n      <td>Frankfurt</td>\n      <td>Software Engineer</td>\n      <td>10</td>\n      <td>10</td>\n      <td>Senior</td>\n      <td>Python</td>\n      <td>Python, C/C++, Docker</td>\n      <td>...</td>\n      <td>7000</td>\n      <td>30</td>\n      <td>Full-time employee</td>\n      <td>Unlimited contract</td>\n      <td>German</td>\n      <td>101-1000</td>\n      <td>Product</td>\n      <td>No</td>\n      <td>0.0</td>\n      <td>NaN</td>\n    </tr>\n    <tr>\n      <th>1180</th>\n      <td>20/12/2020 00:30:53</td>\n      <td>NaN</td>\n      <td>NaN</td>\n      <td>Berlin</td>\n      <td>NaN</td>\n      <td>NaN</td>\n      <td>NaN</td>\n      <td>NaN</td>\n      <td>NaN</td>\n      <td>NaN</td>\n      <td>...</td>\n      <td>NaN</td>\n      <td>NaN</td>\n      <td>NaN</td>\n      <td>NaN</td>\n      <td>NaN</td>\n      <td>NaN</td>\n      <td>NaN</td>\n      <td>NaN</td>\n      <td>NaN</td>\n      <td>NaN</td>\n    </tr>\n    <tr>\n      <th>1181</th>\n      <td>20/12/2020 00:31:23</td>\n      <td>NaN</td>\n      <td>NaN</td>\n      <td>Berlin</td>\n      <td>NaN</td>\n      <td>NaN</td>\n      <td>NaN</td>\n      <td>NaN</td>\n      <td>NaN</td>\n      <td>NaN</td>\n      <td>...</td>\n      <td>NaN</td>\n      <td>NaN</td>\n      <td>NaN</td>\n      <td>NaN</td>\n      <td>NaN</td>\n      <td>NaN</td>\n      <td>NaN</td>\n      <td>NaN</td>\n      <td>NaN</td>\n      <td>NaN</td>\n    </tr>\n    <tr>\n      <th>1231</th>\n      <td>08/01/2021 12:52:08</td>\n      <td>NaN</td>\n      <td>NaN</td>\n      <td>Munich</td>\n      <td>NaN</td>\n      <td>NaN</td>\n      <td>NaN</td>\n      <td>NaN</td>\n      <td>NaN</td>\n      <td>NaN</td>\n      <td>...</td>\n      <td>NaN</td>\n      <td>NaN</td>\n      <td>NaN</td>\n      <td>NaN</td>\n      <td>NaN</td>\n      <td>NaN</td>\n      <td>NaN</td>\n      <td>NaN</td>\n      <td>NaN</td>\n      <td>NaN</td>\n    </tr>\n  </tbody>\n</table>\n<p>27 rows × 23 columns</p>\n</div>",
            "text/plain": "                Timestamp  Age  Gender        City           Position   \\\n11    24/11/2020 11:18:16  NaN    Male      Berlin   Software Engineer   \n12    24/11/2020 11:18:22  NaN     NaN      Berlin   Software Engineer   \n28    24/11/2020 11:25:35  NaN    Male      Berlin              DevOps   \n55    24/11/2020 11:33:08  NaN    Male      Berlin   Software Engineer   \n113   24/11/2020 11:56:25  NaN    Male      Berlin         QA Engineer   \n300   24/11/2020 15:47:19  NaN    Male      Berlin       Data Engineer   \n330   24/11/2020 17:29:51  NaN     NaN      Munich      Data Scientist   \n340   24/11/2020 17:40:38  NaN    Male     Hamburg    Support Engineer   \n365   24/11/2020 18:31:25  NaN    Male      Berlin   Software Engineer   \n374   24/11/2020 18:48:30  NaN    Male  Karlsruhe    Backend Developer   \n418   24/11/2020 20:26:20  NaN    Male      Munich   Software Engineer   \n473   25/11/2020 03:27:34  NaN     NaN      Berlin                 NaN   \n529   25/11/2020 10:58:13  NaN    Male      Berlin   Software Engineer   \n530   25/11/2020 11:03:17  NaN    Male     Leipzig  Frontend Developer   \n708   25/11/2020 22:18:59  NaN    Male   Frankfurt   Software Engineer   \n726   26/11/2020 04:26:30  NaN    Male      Berlin              DevOps   \n829   27/11/2020 12:20:51  NaN    Male      Berlin       data engineer   \n832   27/11/2020 12:33:03  NaN    Male     Hamburg   Software Engineer   \n848   27/11/2020 14:34:16  NaN  Female      Berlin      Data Scientist   \n904   29/11/2020 12:27:03  NaN    Male      Berlin   Software Engineer   \n961   30/11/2020 13:50:56  NaN    Male      Berlin      Data Scientist   \n1039  01/12/2020 18:09:57  NaN    Male      Berlin   Backend Developer   \n1063  02/12/2020 21:39:34  NaN    Male      Munich  Frontend Developer   \n1148  11/12/2020 22:36:22  NaN     NaN   Frankfurt   Software Engineer   \n1180  20/12/2020 00:30:53  NaN     NaN      Berlin                 NaN   \n1181  20/12/2020 00:31:23  NaN     NaN      Berlin                 NaN   \n1231  08/01/2021 12:52:08  NaN     NaN      Munich                 NaN   \n\n     Total years of experience Years of experience in Germany Seniority level  \\\n11                          25                             11          Senior   \n12                         NaN                            NaN            Lead   \n28                          14                              5          Senior   \n55                         NaN                              1          Senior   \n113                          6                              6          Middle   \n300                        7.5                            1.5          Middle   \n330                          2                              2          Middle   \n340                        NaN                              2          Senior   \n365                          9                              1            Lead   \n374                          8                              8            Lead   \n418                          4                              3          Middle   \n473                        NaN                            NaN             NaN   \n529                         15                            NaN          Senior   \n530                        NaN                              6          Middle   \n708                         18                              1          Senior   \n726                         10                              5          Senior   \n829                         11                              1          Middle   \n832                         12                             12          Senior   \n848                          1                              8          Junior   \n904                         10                             10          Senior   \n961                          4                              4            Head   \n1039                        15                              6          Middle   \n1063                         5                              3            Lead   \n1148                        10                             10          Senior   \n1180                       NaN                            NaN             NaN   \n1181                       NaN                            NaN             NaN   \n1231                       NaN                            NaN             NaN   \n\n     Your main technology / programming language  \\\n11                                           C++   \n12                                           PHP   \n28                                           NaN   \n55                                           PHP   \n113                                   Javascript   \n300                                          SQL   \n330                                      Python    \n340                                          NaN   \n365                                         Java   \n374                                       Python   \n418                                         Java   \n473                                          NaN   \n529                                         Java   \n530                                   JavaScript   \n708                                          NaN   \n726                                          NaN   \n829                                       python   \n832                                         Java   \n848                                       Python   \n904                                         .net   \n961                                       python   \n1039                                      Elixir   \n1063                                  javascript   \n1148                                      Python   \n1180                                         NaN   \n1181                                         NaN   \n1231                                         NaN   \n\n     Other technologies/programming languages you use often  ...  \\\n11                                   Python, C/C++, SQL      ...   \n12                                                  NaN      ...   \n28                  Python, Go, AWS, Kubernetes, Docker      ...   \n55                                                  NaN      ...   \n113                        Javascript / Typescript, AWS      ...   \n300                Python, SQL, AWS, Kubernetes, Docker      ...   \n330                                                 NaN      ...   \n340                                  Kubernetes, Docker      ...   \n365                                         AWS, Docker      ...   \n374   Python, C/C++, Javascript / Typescript, Java /...      ...   \n418            Javascript / Typescript, AWS, Kubernetes      ...   \n473                                                 NaN      ...   \n529                                                 NaN      ...   \n530                                                 PHP      ...   \n708    Javascript / Typescript, .NET, SQL, Google Cloud      ...   \n726                                          Python, Go      ...   \n829                      Python, SQL, AWS, Google Cloud      ...   \n832   Python, Kotlin, Javascript / Typescript, Java ...      ...   \n848                               Python, R, SQL, Azure      ...   \n904                                    .NET, SQL, Azure      ...   \n961                                 R, SQL, AWS, Docker      ...   \n1039                   Python, Ruby, Kubernetes, Docker      ...   \n1063                            Javascript / Typescript      ...   \n1148                              Python, C/C++, Docker      ...   \n1180                                                NaN      ...   \n1181                                                NaN      ...   \n1231                                                NaN      ...   \n\n      Annual bonus+stocks one year ago. Only answer if staying in same country  \\\n11                                                13000                          \n12                                                  NaN                          \n28                                                  NaN                          \n55                                                  NaN                          \n113                                                 NaN                          \n300                                                   0                          \n330                                                 NaN                          \n340                                                 NaN                          \n365                                                 NaN                          \n374                                                5400                          \n418                                                   0                          \n473                                                 NaN                          \n529                                                 NaN                          \n530                                                 NaN                          \n708                                                 NaN                          \n726                                                 NaN                          \n829                                                 NaN                          \n832                                                 NaN                          \n848                                                 NaN                          \n904                                                 NaN                          \n961                                                   0                          \n1039                                                NaN                          \n1063                                                NaN                          \n1148                                               7000                          \n1180                                                NaN                          \n1181                                                NaN                          \n1231                                                NaN                          \n\n     Number of vacation days           Employment status   Сontract duration  \\\n11                        24  Self-employed (freelancer)  Temporary contract   \n12                       NaN          Full-time employee  Unlimited contract   \n28                        30          Full-time employee  Unlimited contract   \n55                       NaN          Full-time employee                 NaN   \n113                       30          Full-time employee  Unlimited contract   \n300                       30          Full-time employee  Unlimited contract   \n330                       20          Full-time employee  Unlimited contract   \n340                       28          Full-time employee  Unlimited contract   \n365                       24          Full-time employee  Unlimited contract   \n374                       29          Part-time employee  Unlimited contract   \n418                      NaN          Full-time employee  Unlimited contract   \n473                      NaN                         NaN                 NaN   \n529                      NaN          Full-time employee                 NaN   \n530                       28          Full-time employee  Unlimited contract   \n708                       30          Full-time employee  Unlimited contract   \n726                      NaN          Full-time employee  Unlimited contract   \n829                       28          Full-time employee  Unlimited contract   \n832                       30  Self-employed (freelancer)  Temporary contract   \n848                       30          Full-time employee  Unlimited contract   \n904                       30          Full-time employee  Unlimited contract   \n961                unlimited          Full-time employee  Unlimited contract   \n1039                      30          Full-time employee  Unlimited contract   \n1063                      24          Full-time employee  Unlimited contract   \n1148                      30          Full-time employee  Unlimited contract   \n1180                     NaN                         NaN                 NaN   \n1181                     NaN                         NaN                 NaN   \n1231                     NaN                         NaN                 NaN   \n\n     Main language at work Company size         Company type  \\\n11                 English        11-50              Product   \n12                 English        1000+                  NaN   \n28                 English     101-1000              Product   \n55                 English          NaN                  NaN   \n113                English     101-1000              Product   \n300                English     101-1000              Product   \n330                English       51-100              Product   \n340                English          NaN                  NaN   \n365                English        1000+              Startup   \n374                English     up to 10              Product   \n418                English        1000+              Product   \n473                    NaN          NaN                  NaN   \n529                English          NaN                  NaN   \n530                 German     101-1000              Product   \n708                English        1000+              Product   \n726                English        1000+              Product   \n829                English        1000+              Product   \n832                 German          NaN  Consulting / Agency   \n848                English        1000+              Product   \n904                 German        1000+                  NaN   \n961                 German        11-50  Consulting / Agency   \n1039               English     101-1000  Consulting / Agency   \n1063               English        11-50              Startup   \n1148                German     101-1000              Product   \n1180                   NaN          NaN                  NaN   \n1181                   NaN          NaN                  NaN   \n1231                   NaN          NaN                  NaN   \n\n     Have you lost your job due to the coronavirus outbreak?  \\\n11                                                  Yes        \n12                                                   No        \n28                                                   No        \n55                                                   No        \n113                                                  No        \n300                                                  No        \n330                                                  No        \n340                                                  No        \n365                                                  No        \n374                                                  No        \n418                                                  No        \n473                                                 NaN        \n529                                                  No        \n530                                                  No        \n708                                                  No        \n726                                                  No        \n829                                                  No        \n832                                                  No        \n848                                                  No        \n904                                                  No        \n961                                                  No        \n1039                                                 No        \n1063                                                 No        \n1148                                                 No        \n1180                                                NaN        \n1181                                                NaN        \n1231                                                NaN        \n\n     Have you been forced to have a shorter working week (Kurzarbeit)? If yes, how many hours per week  \\\n11                                                  NaN                                                  \n12                                                  NaN                                                  \n28                                                  NaN                                                  \n55                                                  0.0                                                  \n113                                                 0.0                                                  \n300                                                 NaN                                                  \n330                                                 NaN                                                  \n340                                                 NaN                                                  \n365                                                20.0                                                  \n374                                                39.0                                                  \n418                                                 NaN                                                  \n473                                                 NaN                                                  \n529                                                 NaN                                                  \n530                                                30.0                                                  \n708                                                 0.0                                                  \n726                                                 NaN                                                  \n829                                                28.0                                                  \n832                                                 NaN                                                  \n848                                                 NaN                                                  \n904                                                 NaN                                                  \n961                                                 NaN                                                  \n1039                                                NaN                                                  \n1063                                                NaN                                                  \n1148                                                0.0                                                  \n1180                                                NaN                                                  \n1181                                                NaN                                                  \n1231                                                NaN                                                  \n\n     Have you received additional monetary support from your employer due to Work From Home? If yes, how much in 2020 in EUR  \n11                                                  NaN                                                                       \n12                                                 1000                                                                       \n28                                                  NaN                                                                       \n55                                                  NaN                                                                       \n113                                                 NaN                                                                       \n300                                                 NaN                                                                       \n330                                                 NaN                                                                       \n340                                                 100                                                                       \n365                                                  No                                                                       \n374                                               10000                                                                       \n418                                                   0                                                                       \n473                                                 NaN                                                                       \n529                                                 NaN                                                                       \n530                                                 NaN                                                                       \n708                                                   0                                                                       \n726                                                 NaN                                                                       \n829                                                   0                                                                       \n832                                                 NaN                                                                       \n848                                                  No                                                                       \n904                                                   0                                                                       \n961                                                 NaN                                                                       \n1039                                                NaN                                                                       \n1063                                                NaN                                                                       \n1148                                                NaN                                                                       \n1180                                                NaN                                                                       \n1181                                                NaN                                                                       \n1231                                                NaN                                                                       \n\n[27 rows x 23 columns]"
          },
          "execution_count": 150,
          "metadata": {},
          "output_type": "execute_result"
        }
      ],
      "source": [
        "data_20[data_20['Age'].isnull()]"
      ]
    },
    {
      "cell_type": "code",
      "execution_count": 156,
      "metadata": {},
      "outputs": [],
      "source": [
        "cateogry_columns=data_20.select_dtypes(include=['object']).columns.tolist()\n",
        "integer_columns=data_20.select_dtypes(include=['int64','float64']).columns.tolist()\n",
        "for column in data_20:\n",
        "    if data_20[column].isnull().any():\n",
        "        if(column in data_20):\n",
        "            data_20[column]=data_20[column].fillna(data_20[column].mode()[0])\n",
        "        else:\n",
        "            data_20[column]=data_20[column].fillna(data_20[column].mean)"
      ]
    },
    {
      "cell_type": "code",
      "execution_count": 157,
      "metadata": {},
      "outputs": [
        {
          "data": {
            "text/plain": "Timestamp                                                                                                                  0\nAge                                                                                                                        0\nGender                                                                                                                     0\nCity                                                                                                                       0\nPosition                                                                                                                   0\nTotal years of experience                                                                                                  0\nYears of experience in Germany                                                                                             0\nSeniority level                                                                                                            0\nYour main technology / programming language                                                                                0\nOther technologies/programming languages you use often                                                                     0\nYearly brutto salary (without bonus and stocks) in EUR                                                                     0\nYearly bonus + stocks in EUR                                                                                               0\nAnnual brutto salary (without bonus and stocks) one year ago. Only answer if staying in the same country                   0\nAnnual bonus+stocks one year ago. Only answer if staying in same country                                                   0\nNumber of vacation days                                                                                                    0\nEmployment status                                                                                                          0\nСontract duration                                                                                                          0\nMain language at work                                                                                                      0\nCompany size                                                                                                               0\nCompany type                                                                                                               0\nHave you lost your job due to the coronavirus outbreak?                                                                    0\nHave you been forced to have a shorter working week (Kurzarbeit)? If yes, how many hours per week                          0\nHave you received additional monetary support from your employer due to Work From Home? If yes, how much in 2020 in EUR    0\ndtype: int64"
          },
          "execution_count": 157,
          "metadata": {},
          "output_type": "execute_result"
        }
      ],
      "source": [
        "data_20.isnull().sum()"
      ]
    },
    {
      "cell_type": "code",
      "execution_count": 158,
      "metadata": {},
      "outputs": [
        {
          "data": {
            "text/html": "<div>\n<style scoped>\n    .dataframe tbody tr th:only-of-type {\n        vertical-align: middle;\n    }\n\n    .dataframe tbody tr th {\n        vertical-align: top;\n    }\n\n    .dataframe thead th {\n        text-align: right;\n    }\n</style>\n<table border=\"1\" class=\"dataframe\">\n  <thead>\n    <tr style=\"text-align: right;\">\n      <th></th>\n      <th>Age</th>\n      <th>Gender</th>\n      <th>City</th>\n      <th>Position</th>\n      <th>Total years of experience</th>\n      <th>Years of experience in Germany</th>\n      <th>Seniority level</th>\n      <th>Your main technology / programming language</th>\n      <th>Other technologies/programming languages you use often</th>\n      <th>Yearly brutto salary (without bonus and stocks) in EUR</th>\n      <th>...</th>\n      <th>Annual bonus+stocks one year ago. Only answer if staying in same country</th>\n      <th>Number of vacation days</th>\n      <th>Employment status</th>\n      <th>Сontract duration</th>\n      <th>Main language at work</th>\n      <th>Company size</th>\n      <th>Company type</th>\n      <th>Have you lost your job due to the coronavirus outbreak?</th>\n      <th>Have you been forced to have a shorter working week (Kurzarbeit)? If yes, how many hours per week</th>\n      <th>Have you received additional monetary support from your employer due to Work From Home? If yes, how much in 2020 in EUR</th>\n    </tr>\n  </thead>\n  <tbody>\n    <tr>\n      <th>0</th>\n      <td>26.0</td>\n      <td>Male</td>\n      <td>Munich</td>\n      <td>Software Engineer</td>\n      <td>5</td>\n      <td>3</td>\n      <td>Senior</td>\n      <td>TypeScript</td>\n      <td>Kotlin, Javascript / Typescript</td>\n      <td>80000.0</td>\n      <td>...</td>\n      <td>10000</td>\n      <td>30</td>\n      <td>Full-time employee</td>\n      <td>Unlimited contract</td>\n      <td>English</td>\n      <td>51-100</td>\n      <td>Product</td>\n      <td>No</td>\n      <td>0.0</td>\n      <td>0</td>\n    </tr>\n    <tr>\n      <th>1</th>\n      <td>26.0</td>\n      <td>Male</td>\n      <td>Berlin</td>\n      <td>Backend Developer</td>\n      <td>7</td>\n      <td>4</td>\n      <td>Senior</td>\n      <td>Ruby</td>\n      <td>Javascript / Typescript</td>\n      <td>80000.0</td>\n      <td>...</td>\n      <td>5000</td>\n      <td>28</td>\n      <td>Full-time employee</td>\n      <td>Unlimited contract</td>\n      <td>English</td>\n      <td>101-1000</td>\n      <td>Product</td>\n      <td>No</td>\n      <td>0.0</td>\n      <td>0</td>\n    </tr>\n    <tr>\n      <th>2</th>\n      <td>29.0</td>\n      <td>Male</td>\n      <td>Berlin</td>\n      <td>Software Engineer</td>\n      <td>12</td>\n      <td>6</td>\n      <td>Lead</td>\n      <td>Javascript / Typescript</td>\n      <td>Javascript / Typescript, Docker</td>\n      <td>120000.0</td>\n      <td>...</td>\n      <td>100000</td>\n      <td>30</td>\n      <td>Self-employed (freelancer)</td>\n      <td>Temporary contract</td>\n      <td>English</td>\n      <td>101-1000</td>\n      <td>Product</td>\n      <td>Yes</td>\n      <td>0.0</td>\n      <td>0</td>\n    </tr>\n    <tr>\n      <th>3</th>\n      <td>28.0</td>\n      <td>Male</td>\n      <td>Berlin</td>\n      <td>Frontend Developer</td>\n      <td>4</td>\n      <td>1</td>\n      <td>Junior</td>\n      <td>Javascript</td>\n      <td>Javascript / Typescript</td>\n      <td>54000.0</td>\n      <td>...</td>\n      <td>0</td>\n      <td>24</td>\n      <td>Full-time employee</td>\n      <td>Unlimited contract</td>\n      <td>English</td>\n      <td>51-100</td>\n      <td>Startup</td>\n      <td>No</td>\n      <td>0.0</td>\n      <td>0</td>\n    </tr>\n    <tr>\n      <th>4</th>\n      <td>37.0</td>\n      <td>Male</td>\n      <td>Berlin</td>\n      <td>Backend Developer</td>\n      <td>17</td>\n      <td>6</td>\n      <td>Senior</td>\n      <td>C# .NET</td>\n      <td>.NET, SQL, AWS, Docker</td>\n      <td>62000.0</td>\n      <td>...</td>\n      <td>0</td>\n      <td>29</td>\n      <td>Full-time employee</td>\n      <td>Unlimited contract</td>\n      <td>English</td>\n      <td>101-1000</td>\n      <td>Product</td>\n      <td>No</td>\n      <td>0.0</td>\n      <td>0</td>\n    </tr>\n    <tr>\n      <th>...</th>\n      <td>...</td>\n      <td>...</td>\n      <td>...</td>\n      <td>...</td>\n      <td>...</td>\n      <td>...</td>\n      <td>...</td>\n      <td>...</td>\n      <td>...</td>\n      <td>...</td>\n      <td>...</td>\n      <td>...</td>\n      <td>...</td>\n      <td>...</td>\n      <td>...</td>\n      <td>...</td>\n      <td>...</td>\n      <td>...</td>\n      <td>...</td>\n      <td>...</td>\n      <td>...</td>\n    </tr>\n    <tr>\n      <th>1248</th>\n      <td>31.0</td>\n      <td>Male</td>\n      <td>Berlin</td>\n      <td>Backend Developer</td>\n      <td>9</td>\n      <td>5</td>\n      <td>Senior</td>\n      <td>Java</td>\n      <td>Python, Javascript / Typescript, Java / Scala,...</td>\n      <td>70000.0</td>\n      <td>...</td>\n      <td>72000</td>\n      <td>26</td>\n      <td>Full-time employee</td>\n      <td>Unlimited contract</td>\n      <td>English</td>\n      <td>51-100</td>\n      <td>Product</td>\n      <td>Yes</td>\n      <td>0.0</td>\n      <td>0</td>\n    </tr>\n    <tr>\n      <th>1249</th>\n      <td>33.0</td>\n      <td>Male</td>\n      <td>Berlin</td>\n      <td>Researcher/ Consumer Insights Analyst</td>\n      <td>10</td>\n      <td>1.5</td>\n      <td>Senior</td>\n      <td>consumer analysis</td>\n      <td>Javascript / Typescript</td>\n      <td>60000.0</td>\n      <td>...</td>\n      <td>2500</td>\n      <td>unlimited</td>\n      <td>Full-time employee</td>\n      <td>Unlimited contract</td>\n      <td>English</td>\n      <td>1000+</td>\n      <td>Product</td>\n      <td>No</td>\n      <td>0.0</td>\n      <td>0</td>\n    </tr>\n    <tr>\n      <th>1250</th>\n      <td>39.0</td>\n      <td>Male</td>\n      <td>Munich</td>\n      <td>IT Operations Manager</td>\n      <td>15</td>\n      <td>2</td>\n      <td>Lead</td>\n      <td>PHP</td>\n      <td>Python, C/C++, Javascript / Typescript, Java /...</td>\n      <td>110000.0</td>\n      <td>...</td>\n      <td>0</td>\n      <td>28</td>\n      <td>Full-time employee</td>\n      <td>Unlimited contract</td>\n      <td>English</td>\n      <td>101-1000</td>\n      <td>eCommerce</td>\n      <td>No</td>\n      <td>0.0</td>\n      <td>0</td>\n    </tr>\n    <tr>\n      <th>1251</th>\n      <td>26.0</td>\n      <td>Male</td>\n      <td>Saarbrücken</td>\n      <td>Frontend Developer</td>\n      <td>7</td>\n      <td>7</td>\n      <td>Middle</td>\n      <td>JavaScript</td>\n      <td>Javascript / Typescript, Docker, HTML, CSS; Ad...</td>\n      <td>38350.0</td>\n      <td>...</td>\n      <td>36400</td>\n      <td>27</td>\n      <td>Full-time employee</td>\n      <td>Unlimited contract</td>\n      <td>German</td>\n      <td>101-1000</td>\n      <td>Product</td>\n      <td>No</td>\n      <td>0.0</td>\n      <td>0</td>\n    </tr>\n    <tr>\n      <th>1252</th>\n      <td>26.0</td>\n      <td>Male</td>\n      <td>Berlin</td>\n      <td>DevOps</td>\n      <td>2</td>\n      <td>2</td>\n      <td>Middle</td>\n      <td>yaml</td>\n      <td>Python, AWS, Kubernetes, Docker, terraform, an...</td>\n      <td>65000.0</td>\n      <td>...</td>\n      <td>0</td>\n      <td>30</td>\n      <td>Full-time employee</td>\n      <td>Unlimited contract</td>\n      <td>English</td>\n      <td>51-100</td>\n      <td>Startup</td>\n      <td>No</td>\n      <td>30.0</td>\n      <td>600</td>\n    </tr>\n  </tbody>\n</table>\n<p>1253 rows × 22 columns</p>\n</div>",
            "text/plain": "       Age Gender         City                               Position   \\\n0     26.0   Male       Munich                       Software Engineer   \n1     26.0   Male       Berlin                       Backend Developer   \n2     29.0   Male       Berlin                       Software Engineer   \n3     28.0   Male       Berlin                      Frontend Developer   \n4     37.0   Male       Berlin                       Backend Developer   \n...    ...    ...          ...                                     ...   \n1248  31.0   Male       Berlin                       Backend Developer   \n1249  33.0   Male       Berlin  Researcher/ Consumer Insights Analyst    \n1250  39.0   Male       Munich                   IT Operations Manager   \n1251  26.0   Male  Saarbrücken                      Frontend Developer   \n1252  26.0   Male       Berlin                                  DevOps   \n\n     Total years of experience Years of experience in Germany Seniority level  \\\n0                            5                              3          Senior   \n1                            7                              4          Senior   \n2                           12                              6            Lead   \n3                            4                              1          Junior   \n4                           17                              6          Senior   \n...                        ...                            ...             ...   \n1248                         9                              5          Senior   \n1249                        10                            1.5          Senior   \n1250                        15                              2            Lead   \n1251                         7                              7          Middle   \n1252                         2                              2          Middle   \n\n     Your main technology / programming language  \\\n0                                     TypeScript   \n1                                           Ruby   \n2                        Javascript / Typescript   \n3                                     Javascript   \n4                                        C# .NET   \n...                                          ...   \n1248                                        Java   \n1249                           consumer analysis   \n1250                                         PHP   \n1251                                  JavaScript   \n1252                                        yaml   \n\n     Other technologies/programming languages you use often  \\\n0                       Kotlin, Javascript / Typescript       \n1                               Javascript / Typescript       \n2                       Javascript / Typescript, Docker       \n3                               Javascript / Typescript       \n4                                .NET, SQL, AWS, Docker       \n...                                                 ...       \n1248  Python, Javascript / Typescript, Java / Scala,...       \n1249                            Javascript / Typescript       \n1250  Python, C/C++, Javascript / Typescript, Java /...       \n1251  Javascript / Typescript, Docker, HTML, CSS; Ad...       \n1252  Python, AWS, Kubernetes, Docker, terraform, an...       \n\n      Yearly brutto salary (without bonus and stocks) in EUR  ...  \\\n0                                               80000.0       ...   \n1                                               80000.0       ...   \n2                                              120000.0       ...   \n3                                               54000.0       ...   \n4                                               62000.0       ...   \n...                                                 ...       ...   \n1248                                            70000.0       ...   \n1249                                            60000.0       ...   \n1250                                           110000.0       ...   \n1251                                            38350.0       ...   \n1252                                            65000.0       ...   \n\n     Annual bonus+stocks one year ago. Only answer if staying in same country  \\\n0                                                 10000                         \n1                                                  5000                         \n2                                                100000                         \n3                                                     0                         \n4                                                     0                         \n...                                                 ...                         \n1248                                              72000                         \n1249                                               2500                         \n1250                                                  0                         \n1251                                              36400                         \n1252                                                  0                         \n\n      Number of vacation days           Employment status   Сontract duration  \\\n0                          30          Full-time employee  Unlimited contract   \n1                          28          Full-time employee  Unlimited contract   \n2                          30  Self-employed (freelancer)  Temporary contract   \n3                          24          Full-time employee  Unlimited contract   \n4                          29          Full-time employee  Unlimited contract   \n...                       ...                         ...                 ...   \n1248                       26          Full-time employee  Unlimited contract   \n1249               unlimited           Full-time employee  Unlimited contract   \n1250                       28          Full-time employee  Unlimited contract   \n1251                       27          Full-time employee  Unlimited contract   \n1252                       30          Full-time employee  Unlimited contract   \n\n     Main language at work Company size Company type  \\\n0                  English       51-100      Product   \n1                  English     101-1000      Product   \n2                  English     101-1000      Product   \n3                  English       51-100      Startup   \n4                  English     101-1000      Product   \n...                    ...          ...          ...   \n1248               English       51-100      Product   \n1249               English        1000+      Product   \n1250               English     101-1000    eCommerce   \n1251                German     101-1000      Product   \n1252               English       51-100      Startup   \n\n     Have you lost your job due to the coronavirus outbreak?  \\\n0                                                    No        \n1                                                    No        \n2                                                   Yes        \n3                                                    No        \n4                                                    No        \n...                                                 ...        \n1248                                                Yes        \n1249                                                 No        \n1250                                                 No        \n1251                                                 No        \n1252                                                 No        \n\n     Have you been forced to have a shorter working week (Kurzarbeit)? If yes, how many hours per week  \\\n0                                                   0.0                                                  \n1                                                   0.0                                                  \n2                                                   0.0                                                  \n3                                                   0.0                                                  \n4                                                   0.0                                                  \n...                                                 ...                                                  \n1248                                                0.0                                                  \n1249                                                0.0                                                  \n1250                                                0.0                                                  \n1251                                                0.0                                                  \n1252                                               30.0                                                  \n\n     Have you received additional monetary support from your employer due to Work From Home? If yes, how much in 2020 in EUR  \n0                                                     0                                                                       \n1                                                     0                                                                       \n2                                                     0                                                                       \n3                                                     0                                                                       \n4                                                     0                                                                       \n...                                                 ...                                                                       \n1248                                                  0                                                                       \n1249                                                  0                                                                       \n1250                                                  0                                                                       \n1251                                                  0                                                                       \n1252                                                600                                                                       \n\n[1253 rows x 22 columns]"
          },
          "execution_count": 158,
          "metadata": {},
          "output_type": "execute_result"
        }
      ],
      "source": [
        "data_20.drop(['Timestamp'],axis=1)"
      ]
    },
    {
      "cell_type": "code",
      "execution_count": 173,
      "metadata": {},
      "outputs": [
        {
          "data": {
            "text/html": "<div>\n<style scoped>\n    .dataframe tbody tr th:only-of-type {\n        vertical-align: middle;\n    }\n\n    .dataframe tbody tr th {\n        vertical-align: top;\n    }\n\n    .dataframe thead th {\n        text-align: right;\n    }\n</style>\n<table border=\"1\" class=\"dataframe\">\n  <thead>\n    <tr style=\"text-align: right;\">\n      <th></th>\n      <th>Zeitstempel</th>\n      <th>Age</th>\n      <th>Gender</th>\n      <th>City</th>\n      <th>Seniority level</th>\n      <th>Position (without seniority)</th>\n      <th>Years of experience</th>\n      <th>Your main technology / programming language</th>\n      <th>Yearly brutto salary (without bonus and stocks)</th>\n      <th>Yearly bonus</th>\n      <th>...</th>\n      <th>Yearly stocks one year ago. Only answer if staying in same country</th>\n      <th>Number of vacation days</th>\n      <th>Number of home office days per month</th>\n      <th>Main language at work</th>\n      <th>Company name</th>\n      <th>Company size</th>\n      <th>Company type</th>\n      <th>Сontract duration</th>\n      <th>Company business sector</th>\n      <th>0</th>\n    </tr>\n  </thead>\n  <tbody>\n    <tr>\n      <th>0</th>\n      <td>02.12.2019 11:18:26</td>\n      <td>33.0</td>\n      <td>Male</td>\n      <td>Berlin</td>\n      <td>Senior</td>\n      <td>Fullstack Developer</td>\n      <td>13</td>\n      <td>PHP</td>\n      <td>64000.0</td>\n      <td>1000.0</td>\n      <td>...</td>\n      <td>0.0</td>\n      <td>29.0</td>\n      <td>4.0</td>\n      <td>English</td>\n      <td>Zalando</td>\n      <td>50-100</td>\n      <td>Startup</td>\n      <td>unlimited</td>\n      <td>Tourism</td>\n      <td>NaN</td>\n    </tr>\n    <tr>\n      <th>1</th>\n      <td>02.12.2019 11:18:35</td>\n      <td>29.0</td>\n      <td>Male</td>\n      <td>Berlin</td>\n      <td>Middle</td>\n      <td>Backend Developer</td>\n      <td>3</td>\n      <td>Python</td>\n      <td>55000.0</td>\n      <td>0.0</td>\n      <td>...</td>\n      <td>0.0</td>\n      <td>22.0</td>\n      <td>4.0</td>\n      <td>English</td>\n      <td>Zalando</td>\n      <td>10-50</td>\n      <td>Product</td>\n      <td>unlimited</td>\n      <td>Scientific Activities</td>\n      <td>NaN</td>\n    </tr>\n    <tr>\n      <th>2</th>\n      <td>02.12.2019 11:18:56</td>\n      <td>30.0</td>\n      <td>Male</td>\n      <td>Berlin</td>\n      <td>Middle</td>\n      <td>Mobile Developer</td>\n      <td>4</td>\n      <td>Kotlin</td>\n      <td>70000.0</td>\n      <td>0.0</td>\n      <td>...</td>\n      <td>0.0</td>\n      <td>27.0</td>\n      <td>4.0</td>\n      <td>English</td>\n      <td>Zalando</td>\n      <td>1000+</td>\n      <td>Startup</td>\n      <td>unlimited</td>\n      <td>Сommerce</td>\n      <td>NaN</td>\n    </tr>\n    <tr>\n      <th>3</th>\n      <td>02.12.2019 11:19:08</td>\n      <td>30.0</td>\n      <td>Male</td>\n      <td>Berlin</td>\n      <td>Senior</td>\n      <td>Backend Developer</td>\n      <td>6</td>\n      <td>PHP</td>\n      <td>63000.0</td>\n      <td>0.0</td>\n      <td>...</td>\n      <td>0.0</td>\n      <td>24.0</td>\n      <td>4.0</td>\n      <td>English</td>\n      <td>Auto1</td>\n      <td>100-1000</td>\n      <td>Product</td>\n      <td>unlimited</td>\n      <td>Transport</td>\n      <td>NaN</td>\n    </tr>\n    <tr>\n      <th>4</th>\n      <td>02.12.2019 11:19:37</td>\n      <td>32.0</td>\n      <td>Male</td>\n      <td>Berlin</td>\n      <td>Senior</td>\n      <td>Embedded Developer</td>\n      <td>10</td>\n      <td>C/C++</td>\n      <td>66000.0</td>\n      <td>0.0</td>\n      <td>...</td>\n      <td>0.0</td>\n      <td>30.0</td>\n      <td>0.0</td>\n      <td>English</td>\n      <td>Luxoft</td>\n      <td>50-100</td>\n      <td>Product</td>\n      <td>unlimited</td>\n      <td>Automotive</td>\n      <td>NaN</td>\n    </tr>\n    <tr>\n      <th>...</th>\n      <td>...</td>\n      <td>...</td>\n      <td>...</td>\n      <td>...</td>\n      <td>...</td>\n      <td>...</td>\n      <td>...</td>\n      <td>...</td>\n      <td>...</td>\n      <td>...</td>\n      <td>...</td>\n      <td>...</td>\n      <td>...</td>\n      <td>...</td>\n      <td>...</td>\n      <td>...</td>\n      <td>...</td>\n      <td>...</td>\n      <td>...</td>\n      <td>...</td>\n      <td>...</td>\n    </tr>\n    <tr>\n      <th>986</th>\n      <td>07.01.2020 09:23:01</td>\n      <td>30.0</td>\n      <td>Male</td>\n      <td>Amsterdam</td>\n      <td>Senior</td>\n      <td>Backend Developer</td>\n      <td>10</td>\n      <td>Python</td>\n      <td>71000.0</td>\n      <td>3000.0</td>\n      <td>...</td>\n      <td>0.0</td>\n      <td>25.0</td>\n      <td>5.0</td>\n      <td>English</td>\n      <td>Zalando</td>\n      <td>1000+</td>\n      <td>Product</td>\n      <td>unlimited</td>\n      <td>Telecom</td>\n      <td>NaN</td>\n    </tr>\n    <tr>\n      <th>987</th>\n      <td>07.01.2020 10:08:18</td>\n      <td>28.0</td>\n      <td>Male</td>\n      <td>Amsterdam</td>\n      <td>Senior</td>\n      <td>Security Engineer</td>\n      <td>7</td>\n      <td>Not Relevant</td>\n      <td>72000.0</td>\n      <td>0.0</td>\n      <td>...</td>\n      <td>0.0</td>\n      <td>27.0</td>\n      <td>5.0</td>\n      <td>English</td>\n      <td>ING</td>\n      <td>1000+</td>\n      <td>Bank</td>\n      <td>unlimited</td>\n      <td>Finance / Insurance</td>\n      <td>NaN</td>\n    </tr>\n    <tr>\n      <th>988</th>\n      <td>07.01.2020 16:52:43</td>\n      <td>42.0</td>\n      <td>Male</td>\n      <td>Munich</td>\n      <td>Senior</td>\n      <td>Manager</td>\n      <td>9</td>\n      <td>Not Relevant</td>\n      <td>68000.0</td>\n      <td>10000.0</td>\n      <td>...</td>\n      <td>0.0</td>\n      <td>30.0</td>\n      <td>5.0</td>\n      <td>English</td>\n      <td>SAP</td>\n      <td>1000+</td>\n      <td>Product</td>\n      <td>unlimited</td>\n      <td>Сommerce</td>\n      <td>NaN</td>\n    </tr>\n    <tr>\n      <th>989</th>\n      <td>08.01.2020 11:18:41</td>\n      <td>33.0</td>\n      <td>Male</td>\n      <td>Berlin</td>\n      <td>Senior</td>\n      <td>Software Architect</td>\n      <td>15</td>\n      <td>Javascript / Typescript</td>\n      <td>100000.0</td>\n      <td>3000.0</td>\n      <td>...</td>\n      <td>0.0</td>\n      <td>26.0</td>\n      <td>6.0</td>\n      <td>English</td>\n      <td>Zalando</td>\n      <td>1000+</td>\n      <td>Product</td>\n      <td>more than 1 year</td>\n      <td>Health</td>\n      <td>NaN</td>\n    </tr>\n    <tr>\n      <th>990</th>\n      <td>08.01.2020 22:20:08</td>\n      <td>32.0</td>\n      <td>Male</td>\n      <td>Frankfurt</td>\n      <td>Middle</td>\n      <td>Fullstack Developer</td>\n      <td>5</td>\n      <td>Java</td>\n      <td>63000.0</td>\n      <td>0.0</td>\n      <td>...</td>\n      <td>0.0</td>\n      <td>30.0</td>\n      <td>5.0</td>\n      <td>Deutsch</td>\n      <td>Zalando</td>\n      <td>1000+</td>\n      <td>Consulting / Agency</td>\n      <td>unlimited</td>\n      <td>Transport</td>\n      <td>NaN</td>\n    </tr>\n  </tbody>\n</table>\n<p>991 rows × 23 columns</p>\n</div>",
            "text/plain": "             Zeitstempel   Age Gender       City Seniority level  \\\n0    02.12.2019 11:18:26  33.0   Male     Berlin          Senior   \n1    02.12.2019 11:18:35  29.0   Male     Berlin          Middle   \n2    02.12.2019 11:18:56  30.0   Male     Berlin          Middle   \n3    02.12.2019 11:19:08  30.0   Male     Berlin          Senior   \n4    02.12.2019 11:19:37  32.0   Male     Berlin          Senior   \n..                   ...   ...    ...        ...             ...   \n986  07.01.2020 09:23:01  30.0   Male  Amsterdam          Senior   \n987  07.01.2020 10:08:18  28.0   Male  Amsterdam          Senior   \n988  07.01.2020 16:52:43  42.0   Male     Munich          Senior   \n989  08.01.2020 11:18:41  33.0   Male     Berlin          Senior   \n990  08.01.2020 22:20:08  32.0   Male  Frankfurt          Middle   \n\n    Position (without seniority)  Years of experience  \\\n0            Fullstack Developer                   13   \n1              Backend Developer                    3   \n2               Mobile Developer                    4   \n3              Backend Developer                    6   \n4             Embedded Developer                   10   \n..                           ...                  ...   \n986            Backend Developer                   10   \n987            Security Engineer                    7   \n988                      Manager                    9   \n989           Software Architect                   15   \n990          Fullstack Developer                    5   \n\n    Your main technology / programming language  \\\n0                                           PHP   \n1                                        Python   \n2                                        Kotlin   \n3                                           PHP   \n4                                         C/C++   \n..                                          ...   \n986                                      Python   \n987                                Not Relevant   \n988                                Not Relevant   \n989                     Javascript / Typescript   \n990                                        Java   \n\n     Yearly brutto salary (without bonus and stocks)  Yearly bonus  ...  \\\n0                                            64000.0        1000.0  ...   \n1                                            55000.0           0.0  ...   \n2                                            70000.0           0.0  ...   \n3                                            63000.0           0.0  ...   \n4                                            66000.0           0.0  ...   \n..                                               ...           ...  ...   \n986                                          71000.0        3000.0  ...   \n987                                          72000.0           0.0  ...   \n988                                          68000.0       10000.0  ...   \n989                                         100000.0        3000.0  ...   \n990                                          63000.0           0.0  ...   \n\n     Yearly stocks one year ago. Only answer if staying in same country  \\\n0                                                  0.0                    \n1                                                  0.0                    \n2                                                  0.0                    \n3                                                  0.0                    \n4                                                  0.0                    \n..                                                 ...                    \n986                                                0.0                    \n987                                                0.0                    \n988                                                0.0                    \n989                                                0.0                    \n990                                                0.0                    \n\n     Number of vacation days  Number of home office days per month  \\\n0                       29.0                                   4.0   \n1                       22.0                                   4.0   \n2                       27.0                                   4.0   \n3                       24.0                                   4.0   \n4                       30.0                                   0.0   \n..                       ...                                   ...   \n986                     25.0                                   5.0   \n987                     27.0                                   5.0   \n988                     30.0                                   5.0   \n989                     26.0                                   6.0   \n990                     30.0                                   5.0   \n\n     Main language at work  Company name   Company size         Company type  \\\n0                  English        Zalando        50-100              Startup   \n1                  English        Zalando         10-50              Product   \n2                  English        Zalando         1000+              Startup   \n3                  English          Auto1      100-1000              Product   \n4                  English         Luxoft        50-100              Product   \n..                     ...            ...           ...                  ...   \n986                English        Zalando         1000+              Product   \n987                English            ING         1000+                 Bank   \n988                English            SAP         1000+              Product   \n989                English        Zalando         1000+              Product   \n990                Deutsch        Zalando         1000+  Consulting / Agency   \n\n    Сontract duration Company business sector   0  \n0           unlimited                 Tourism NaN  \n1           unlimited   Scientific Activities NaN  \n2           unlimited                Сommerce NaN  \n3           unlimited               Transport NaN  \n4           unlimited              Automotive NaN  \n..                ...                     ...  ..  \n986         unlimited                 Telecom NaN  \n987         unlimited     Finance / Insurance NaN  \n988         unlimited                Сommerce NaN  \n989  more than 1 year                  Health NaN  \n990         unlimited               Transport NaN  \n\n[991 rows x 23 columns]"
          },
          "execution_count": 173,
          "metadata": {},
          "output_type": "execute_result"
        }
      ],
      "source": [
        "data_19"
      ]
    },
    {
      "cell_type": "code",
      "execution_count": 175,
      "metadata": {},
      "outputs": [
        {
          "data": {
            "text/plain": "Zeitstempel                                                                                               0\nAge                                                                                                       0\nGender                                                                                                    0\nCity                                                                                                      0\nSeniority level                                                                                           0\nPosition (without seniority)                                                                              0\nYears of experience                                                                                       0\nYour main technology / programming language                                                               0\nYearly brutto salary (without bonus and stocks)                                                           0\nYearly bonus                                                                                              0\nYearly stocks                                                                                             0\nYearly brutto salary (without bonus and stocks) one year ago. Only answer if staying in same country      0\nYearly bonus one year ago. Only answer if staying in same country                                         0\nYearly stocks one year ago. Only answer if staying in same country                                        0\nNumber of vacation days                                                                                   0\nNumber of home office days per month                                                                      0\nMain language at work                                                                                     0\nCompany name                                                                                              0\nCompany size                                                                                              0\nCompany type                                                                                              0\nСontract duration                                                                                         0\nCompany business sector                                                                                   0\n0                                                                                                       991\ndtype: int64"
          },
          "execution_count": 175,
          "metadata": {},
          "output_type": "execute_result"
        }
      ],
      "source": [
        "data_19.isnull().sum()"
      ]
    },
    {
      "cell_type": "code",
      "execution_count": null,
      "metadata": {},
      "outputs": [],
      "source": [
        "data_19"
      ]
    },
    {
      "cell_type": "code",
      "execution_count": 180,
      "metadata": {},
      "outputs": [
        {
          "data": {
            "text/html": "<div>\n<style scoped>\n    .dataframe tbody tr th:only-of-type {\n        vertical-align: middle;\n    }\n\n    .dataframe tbody tr th {\n        vertical-align: top;\n    }\n\n    .dataframe thead th {\n        text-align: right;\n    }\n</style>\n<table border=\"1\" class=\"dataframe\">\n  <thead>\n    <tr style=\"text-align: right;\">\n      <th></th>\n      <th>Age</th>\n      <th>Gender</th>\n      <th>City</th>\n      <th>Seniority level</th>\n      <th>Position (without seniority)</th>\n      <th>Years of experience</th>\n      <th>Your main technology / programming language</th>\n      <th>Yearly brutto salary (without bonus and stocks)</th>\n      <th>Yearly bonus</th>\n      <th>Yearly stocks</th>\n      <th>...</th>\n      <th>Yearly stocks one year ago. Only answer if staying in same country</th>\n      <th>Number of vacation days</th>\n      <th>Number of home office days per month</th>\n      <th>Main language at work</th>\n      <th>Company name</th>\n      <th>Company size</th>\n      <th>Company type</th>\n      <th>Сontract duration</th>\n      <th>Company business sector</th>\n      <th>0</th>\n    </tr>\n  </thead>\n  <tbody>\n    <tr>\n      <th>0</th>\n      <td>33.0</td>\n      <td>Male</td>\n      <td>Berlin</td>\n      <td>Senior</td>\n      <td>Fullstack Developer</td>\n      <td>13</td>\n      <td>PHP</td>\n      <td>64000.0</td>\n      <td>1000.0</td>\n      <td>1.0</td>\n      <td>...</td>\n      <td>0.0</td>\n      <td>29.0</td>\n      <td>4.0</td>\n      <td>English</td>\n      <td>Zalando</td>\n      <td>50-100</td>\n      <td>Startup</td>\n      <td>unlimited</td>\n      <td>Tourism</td>\n      <td>NaN</td>\n    </tr>\n    <tr>\n      <th>1</th>\n      <td>29.0</td>\n      <td>Male</td>\n      <td>Berlin</td>\n      <td>Middle</td>\n      <td>Backend Developer</td>\n      <td>3</td>\n      <td>Python</td>\n      <td>55000.0</td>\n      <td>0.0</td>\n      <td>1.0</td>\n      <td>...</td>\n      <td>0.0</td>\n      <td>22.0</td>\n      <td>4.0</td>\n      <td>English</td>\n      <td>Zalando</td>\n      <td>10-50</td>\n      <td>Product</td>\n      <td>unlimited</td>\n      <td>Scientific Activities</td>\n      <td>NaN</td>\n    </tr>\n    <tr>\n      <th>2</th>\n      <td>30.0</td>\n      <td>Male</td>\n      <td>Berlin</td>\n      <td>Middle</td>\n      <td>Mobile Developer</td>\n      <td>4</td>\n      <td>Kotlin</td>\n      <td>70000.0</td>\n      <td>0.0</td>\n      <td>1.0</td>\n      <td>...</td>\n      <td>0.0</td>\n      <td>27.0</td>\n      <td>4.0</td>\n      <td>English</td>\n      <td>Zalando</td>\n      <td>1000+</td>\n      <td>Startup</td>\n      <td>unlimited</td>\n      <td>Сommerce</td>\n      <td>NaN</td>\n    </tr>\n    <tr>\n      <th>3</th>\n      <td>30.0</td>\n      <td>Male</td>\n      <td>Berlin</td>\n      <td>Senior</td>\n      <td>Backend Developer</td>\n      <td>6</td>\n      <td>PHP</td>\n      <td>63000.0</td>\n      <td>0.0</td>\n      <td>1.0</td>\n      <td>...</td>\n      <td>0.0</td>\n      <td>24.0</td>\n      <td>4.0</td>\n      <td>English</td>\n      <td>Auto1</td>\n      <td>100-1000</td>\n      <td>Product</td>\n      <td>unlimited</td>\n      <td>Transport</td>\n      <td>NaN</td>\n    </tr>\n    <tr>\n      <th>4</th>\n      <td>32.0</td>\n      <td>Male</td>\n      <td>Berlin</td>\n      <td>Senior</td>\n      <td>Embedded Developer</td>\n      <td>10</td>\n      <td>C/C++</td>\n      <td>66000.0</td>\n      <td>0.0</td>\n      <td>1.0</td>\n      <td>...</td>\n      <td>0.0</td>\n      <td>30.0</td>\n      <td>0.0</td>\n      <td>English</td>\n      <td>Luxoft</td>\n      <td>50-100</td>\n      <td>Product</td>\n      <td>unlimited</td>\n      <td>Automotive</td>\n      <td>NaN</td>\n    </tr>\n    <tr>\n      <th>...</th>\n      <td>...</td>\n      <td>...</td>\n      <td>...</td>\n      <td>...</td>\n      <td>...</td>\n      <td>...</td>\n      <td>...</td>\n      <td>...</td>\n      <td>...</td>\n      <td>...</td>\n      <td>...</td>\n      <td>...</td>\n      <td>...</td>\n      <td>...</td>\n      <td>...</td>\n      <td>...</td>\n      <td>...</td>\n      <td>...</td>\n      <td>...</td>\n      <td>...</td>\n      <td>...</td>\n    </tr>\n    <tr>\n      <th>986</th>\n      <td>30.0</td>\n      <td>Male</td>\n      <td>Amsterdam</td>\n      <td>Senior</td>\n      <td>Backend Developer</td>\n      <td>10</td>\n      <td>Python</td>\n      <td>71000.0</td>\n      <td>3000.0</td>\n      <td>0.0</td>\n      <td>...</td>\n      <td>0.0</td>\n      <td>25.0</td>\n      <td>5.0</td>\n      <td>English</td>\n      <td>Zalando</td>\n      <td>1000+</td>\n      <td>Product</td>\n      <td>unlimited</td>\n      <td>Telecom</td>\n      <td>NaN</td>\n    </tr>\n    <tr>\n      <th>987</th>\n      <td>28.0</td>\n      <td>Male</td>\n      <td>Amsterdam</td>\n      <td>Senior</td>\n      <td>Security Engineer</td>\n      <td>7</td>\n      <td>Not Relevant</td>\n      <td>72000.0</td>\n      <td>0.0</td>\n      <td>0.0</td>\n      <td>...</td>\n      <td>0.0</td>\n      <td>27.0</td>\n      <td>5.0</td>\n      <td>English</td>\n      <td>ING</td>\n      <td>1000+</td>\n      <td>Bank</td>\n      <td>unlimited</td>\n      <td>Finance / Insurance</td>\n      <td>NaN</td>\n    </tr>\n    <tr>\n      <th>988</th>\n      <td>42.0</td>\n      <td>Male</td>\n      <td>Munich</td>\n      <td>Senior</td>\n      <td>Manager</td>\n      <td>9</td>\n      <td>Not Relevant</td>\n      <td>68000.0</td>\n      <td>10000.0</td>\n      <td>1.0</td>\n      <td>...</td>\n      <td>0.0</td>\n      <td>30.0</td>\n      <td>5.0</td>\n      <td>English</td>\n      <td>SAP</td>\n      <td>1000+</td>\n      <td>Product</td>\n      <td>unlimited</td>\n      <td>Сommerce</td>\n      <td>NaN</td>\n    </tr>\n    <tr>\n      <th>989</th>\n      <td>33.0</td>\n      <td>Male</td>\n      <td>Berlin</td>\n      <td>Senior</td>\n      <td>Software Architect</td>\n      <td>15</td>\n      <td>Javascript / Typescript</td>\n      <td>100000.0</td>\n      <td>3000.0</td>\n      <td>1.0</td>\n      <td>...</td>\n      <td>0.0</td>\n      <td>26.0</td>\n      <td>6.0</td>\n      <td>English</td>\n      <td>Zalando</td>\n      <td>1000+</td>\n      <td>Product</td>\n      <td>more than 1 year</td>\n      <td>Health</td>\n      <td>NaN</td>\n    </tr>\n    <tr>\n      <th>990</th>\n      <td>32.0</td>\n      <td>Male</td>\n      <td>Frankfurt</td>\n      <td>Middle</td>\n      <td>Fullstack Developer</td>\n      <td>5</td>\n      <td>Java</td>\n      <td>63000.0</td>\n      <td>0.0</td>\n      <td>1.0</td>\n      <td>...</td>\n      <td>0.0</td>\n      <td>30.0</td>\n      <td>5.0</td>\n      <td>Deutsch</td>\n      <td>Zalando</td>\n      <td>1000+</td>\n      <td>Consulting / Agency</td>\n      <td>unlimited</td>\n      <td>Transport</td>\n      <td>NaN</td>\n    </tr>\n  </tbody>\n</table>\n<p>991 rows × 22 columns</p>\n</div>",
            "text/plain": "      Age Gender       City Seniority level Position (without seniority)  \\\n0    33.0   Male     Berlin          Senior          Fullstack Developer   \n1    29.0   Male     Berlin          Middle            Backend Developer   \n2    30.0   Male     Berlin          Middle             Mobile Developer   \n3    30.0   Male     Berlin          Senior            Backend Developer   \n4    32.0   Male     Berlin          Senior           Embedded Developer   \n..    ...    ...        ...             ...                          ...   \n986  30.0   Male  Amsterdam          Senior            Backend Developer   \n987  28.0   Male  Amsterdam          Senior            Security Engineer   \n988  42.0   Male     Munich          Senior                      Manager   \n989  33.0   Male     Berlin          Senior           Software Architect   \n990  32.0   Male  Frankfurt          Middle          Fullstack Developer   \n\n     Years of experience Your main technology / programming language  \\\n0                     13                                         PHP   \n1                      3                                      Python   \n2                      4                                      Kotlin   \n3                      6                                         PHP   \n4                     10                                       C/C++   \n..                   ...                                         ...   \n986                   10                                      Python   \n987                    7                                Not Relevant   \n988                    9                                Not Relevant   \n989                   15                     Javascript / Typescript   \n990                    5                                        Java   \n\n     Yearly brutto salary (without bonus and stocks)  Yearly bonus  \\\n0                                            64000.0        1000.0   \n1                                            55000.0           0.0   \n2                                            70000.0           0.0   \n3                                            63000.0           0.0   \n4                                            66000.0           0.0   \n..                                               ...           ...   \n986                                          71000.0        3000.0   \n987                                          72000.0           0.0   \n988                                          68000.0       10000.0   \n989                                         100000.0        3000.0   \n990                                          63000.0           0.0   \n\n     Yearly stocks  ...  \\\n0              1.0  ...   \n1              1.0  ...   \n2              1.0  ...   \n3              1.0  ...   \n4              1.0  ...   \n..             ...  ...   \n986            0.0  ...   \n987            0.0  ...   \n988            1.0  ...   \n989            1.0  ...   \n990            1.0  ...   \n\n     Yearly stocks one year ago. Only answer if staying in same country  \\\n0                                                  0.0                    \n1                                                  0.0                    \n2                                                  0.0                    \n3                                                  0.0                    \n4                                                  0.0                    \n..                                                 ...                    \n986                                                0.0                    \n987                                                0.0                    \n988                                                0.0                    \n989                                                0.0                    \n990                                                0.0                    \n\n     Number of vacation days  Number of home office days per month  \\\n0                       29.0                                   4.0   \n1                       22.0                                   4.0   \n2                       27.0                                   4.0   \n3                       24.0                                   4.0   \n4                       30.0                                   0.0   \n..                       ...                                   ...   \n986                     25.0                                   5.0   \n987                     27.0                                   5.0   \n988                     30.0                                   5.0   \n989                     26.0                                   6.0   \n990                     30.0                                   5.0   \n\n     Main language at work  Company name  Company size         Company type  \\\n0                  English        Zalando       50-100              Startup   \n1                  English        Zalando        10-50              Product   \n2                  English        Zalando        1000+              Startup   \n3                  English          Auto1     100-1000              Product   \n4                  English         Luxoft       50-100              Product   \n..                     ...            ...          ...                  ...   \n986                English        Zalando        1000+              Product   \n987                English            ING        1000+                 Bank   \n988                English            SAP        1000+              Product   \n989                English        Zalando        1000+              Product   \n990                Deutsch        Zalando        1000+  Consulting / Agency   \n\n    Сontract duration Company business sector   0  \n0           unlimited                 Tourism NaN  \n1           unlimited   Scientific Activities NaN  \n2           unlimited                Сommerce NaN  \n3           unlimited               Transport NaN  \n4           unlimited              Automotive NaN  \n..                ...                     ...  ..  \n986         unlimited                 Telecom NaN  \n987         unlimited     Finance / Insurance NaN  \n988         unlimited                Сommerce NaN  \n989  more than 1 year                  Health NaN  \n990         unlimited               Transport NaN  \n\n[991 rows x 22 columns]"
          },
          "execution_count": 180,
          "metadata": {},
          "output_type": "execute_result"
        }
      ],
      "source": [
        "data_19.drop(['Zeitstempel'],axis=1)"
      ]
    },
    {
      "cell_type": "code",
      "execution_count": 181,
      "metadata": {},
      "outputs": [
        {
          "data": {
            "text/html": "<div>\n<style scoped>\n    .dataframe tbody tr th:only-of-type {\n        vertical-align: middle;\n    }\n\n    .dataframe tbody tr th {\n        vertical-align: top;\n    }\n\n    .dataframe thead th {\n        text-align: right;\n    }\n</style>\n<table border=\"1\" class=\"dataframe\">\n  <thead>\n    <tr style=\"text-align: right;\">\n      <th></th>\n      <th>Zeitstempel</th>\n      <th>Age</th>\n      <th>Gender</th>\n      <th>City</th>\n      <th>Seniority level</th>\n      <th>Position (without seniority)</th>\n      <th>Years of experience</th>\n      <th>Your main technology / programming language</th>\n      <th>Yearly brutto salary (without bonus and stocks)</th>\n      <th>Yearly bonus</th>\n      <th>...</th>\n      <th>Yearly bonus one year ago. Only answer if staying in same country</th>\n      <th>Yearly stocks one year ago. Only answer if staying in same country</th>\n      <th>Number of vacation days</th>\n      <th>Number of home office days per month</th>\n      <th>Main language at work</th>\n      <th>Company name</th>\n      <th>Company size</th>\n      <th>Company type</th>\n      <th>Сontract duration</th>\n      <th>Company business sector</th>\n    </tr>\n  </thead>\n  <tbody>\n    <tr>\n      <th>0</th>\n      <td>02.12.2019 11:18:26</td>\n      <td>33.0</td>\n      <td>Male</td>\n      <td>Berlin</td>\n      <td>Senior</td>\n      <td>Fullstack Developer</td>\n      <td>13</td>\n      <td>PHP</td>\n      <td>64000.0</td>\n      <td>1000.0</td>\n      <td>...</td>\n      <td>1000.0</td>\n      <td>0.0</td>\n      <td>29.0</td>\n      <td>4.0</td>\n      <td>English</td>\n      <td>Zalando</td>\n      <td>50-100</td>\n      <td>Startup</td>\n      <td>unlimited</td>\n      <td>Tourism</td>\n    </tr>\n    <tr>\n      <th>1</th>\n      <td>02.12.2019 11:18:35</td>\n      <td>29.0</td>\n      <td>Male</td>\n      <td>Berlin</td>\n      <td>Middle</td>\n      <td>Backend Developer</td>\n      <td>3</td>\n      <td>Python</td>\n      <td>55000.0</td>\n      <td>0.0</td>\n      <td>...</td>\n      <td>5000.0</td>\n      <td>0.0</td>\n      <td>22.0</td>\n      <td>4.0</td>\n      <td>English</td>\n      <td>Zalando</td>\n      <td>10-50</td>\n      <td>Product</td>\n      <td>unlimited</td>\n      <td>Scientific Activities</td>\n    </tr>\n    <tr>\n      <th>2</th>\n      <td>02.12.2019 11:18:56</td>\n      <td>30.0</td>\n      <td>Male</td>\n      <td>Berlin</td>\n      <td>Middle</td>\n      <td>Mobile Developer</td>\n      <td>4</td>\n      <td>Kotlin</td>\n      <td>70000.0</td>\n      <td>0.0</td>\n      <td>...</td>\n      <td>5000.0</td>\n      <td>0.0</td>\n      <td>27.0</td>\n      <td>4.0</td>\n      <td>English</td>\n      <td>Zalando</td>\n      <td>1000+</td>\n      <td>Startup</td>\n      <td>unlimited</td>\n      <td>Сommerce</td>\n    </tr>\n    <tr>\n      <th>3</th>\n      <td>02.12.2019 11:19:08</td>\n      <td>30.0</td>\n      <td>Male</td>\n      <td>Berlin</td>\n      <td>Senior</td>\n      <td>Backend Developer</td>\n      <td>6</td>\n      <td>PHP</td>\n      <td>63000.0</td>\n      <td>0.0</td>\n      <td>...</td>\n      <td>5000.0</td>\n      <td>0.0</td>\n      <td>24.0</td>\n      <td>4.0</td>\n      <td>English</td>\n      <td>Auto1</td>\n      <td>100-1000</td>\n      <td>Product</td>\n      <td>unlimited</td>\n      <td>Transport</td>\n    </tr>\n    <tr>\n      <th>4</th>\n      <td>02.12.2019 11:19:37</td>\n      <td>32.0</td>\n      <td>Male</td>\n      <td>Berlin</td>\n      <td>Senior</td>\n      <td>Embedded Developer</td>\n      <td>10</td>\n      <td>C/C++</td>\n      <td>66000.0</td>\n      <td>0.0</td>\n      <td>...</td>\n      <td>5000.0</td>\n      <td>0.0</td>\n      <td>30.0</td>\n      <td>0.0</td>\n      <td>English</td>\n      <td>Luxoft</td>\n      <td>50-100</td>\n      <td>Product</td>\n      <td>unlimited</td>\n      <td>Automotive</td>\n    </tr>\n    <tr>\n      <th>...</th>\n      <td>...</td>\n      <td>...</td>\n      <td>...</td>\n      <td>...</td>\n      <td>...</td>\n      <td>...</td>\n      <td>...</td>\n      <td>...</td>\n      <td>...</td>\n      <td>...</td>\n      <td>...</td>\n      <td>...</td>\n      <td>...</td>\n      <td>...</td>\n      <td>...</td>\n      <td>...</td>\n      <td>...</td>\n      <td>...</td>\n      <td>...</td>\n      <td>...</td>\n      <td>...</td>\n    </tr>\n    <tr>\n      <th>986</th>\n      <td>07.01.2020 09:23:01</td>\n      <td>30.0</td>\n      <td>Male</td>\n      <td>Amsterdam</td>\n      <td>Senior</td>\n      <td>Backend Developer</td>\n      <td>10</td>\n      <td>Python</td>\n      <td>71000.0</td>\n      <td>3000.0</td>\n      <td>...</td>\n      <td>3000.0</td>\n      <td>0.0</td>\n      <td>25.0</td>\n      <td>5.0</td>\n      <td>English</td>\n      <td>Zalando</td>\n      <td>1000+</td>\n      <td>Product</td>\n      <td>unlimited</td>\n      <td>Telecom</td>\n    </tr>\n    <tr>\n      <th>987</th>\n      <td>07.01.2020 10:08:18</td>\n      <td>28.0</td>\n      <td>Male</td>\n      <td>Amsterdam</td>\n      <td>Senior</td>\n      <td>Security Engineer</td>\n      <td>7</td>\n      <td>Not Relevant</td>\n      <td>72000.0</td>\n      <td>0.0</td>\n      <td>...</td>\n      <td>0.0</td>\n      <td>0.0</td>\n      <td>27.0</td>\n      <td>5.0</td>\n      <td>English</td>\n      <td>ING</td>\n      <td>1000+</td>\n      <td>Bank</td>\n      <td>unlimited</td>\n      <td>Finance / Insurance</td>\n    </tr>\n    <tr>\n      <th>988</th>\n      <td>07.01.2020 16:52:43</td>\n      <td>42.0</td>\n      <td>Male</td>\n      <td>Munich</td>\n      <td>Senior</td>\n      <td>Manager</td>\n      <td>9</td>\n      <td>Not Relevant</td>\n      <td>68000.0</td>\n      <td>10000.0</td>\n      <td>...</td>\n      <td>9000.0</td>\n      <td>0.0</td>\n      <td>30.0</td>\n      <td>5.0</td>\n      <td>English</td>\n      <td>SAP</td>\n      <td>1000+</td>\n      <td>Product</td>\n      <td>unlimited</td>\n      <td>Сommerce</td>\n    </tr>\n    <tr>\n      <th>989</th>\n      <td>08.01.2020 11:18:41</td>\n      <td>33.0</td>\n      <td>Male</td>\n      <td>Berlin</td>\n      <td>Senior</td>\n      <td>Software Architect</td>\n      <td>15</td>\n      <td>Javascript / Typescript</td>\n      <td>100000.0</td>\n      <td>3000.0</td>\n      <td>...</td>\n      <td>5000.0</td>\n      <td>0.0</td>\n      <td>26.0</td>\n      <td>6.0</td>\n      <td>English</td>\n      <td>Zalando</td>\n      <td>1000+</td>\n      <td>Product</td>\n      <td>more than 1 year</td>\n      <td>Health</td>\n    </tr>\n    <tr>\n      <th>990</th>\n      <td>08.01.2020 22:20:08</td>\n      <td>32.0</td>\n      <td>Male</td>\n      <td>Frankfurt</td>\n      <td>Middle</td>\n      <td>Fullstack Developer</td>\n      <td>5</td>\n      <td>Java</td>\n      <td>63000.0</td>\n      <td>0.0</td>\n      <td>...</td>\n      <td>5000.0</td>\n      <td>0.0</td>\n      <td>30.0</td>\n      <td>5.0</td>\n      <td>Deutsch</td>\n      <td>Zalando</td>\n      <td>1000+</td>\n      <td>Consulting / Agency</td>\n      <td>unlimited</td>\n      <td>Transport</td>\n    </tr>\n  </tbody>\n</table>\n<p>991 rows × 22 columns</p>\n</div>",
            "text/plain": "             Zeitstempel   Age Gender       City Seniority level  \\\n0    02.12.2019 11:18:26  33.0   Male     Berlin          Senior   \n1    02.12.2019 11:18:35  29.0   Male     Berlin          Middle   \n2    02.12.2019 11:18:56  30.0   Male     Berlin          Middle   \n3    02.12.2019 11:19:08  30.0   Male     Berlin          Senior   \n4    02.12.2019 11:19:37  32.0   Male     Berlin          Senior   \n..                   ...   ...    ...        ...             ...   \n986  07.01.2020 09:23:01  30.0   Male  Amsterdam          Senior   \n987  07.01.2020 10:08:18  28.0   Male  Amsterdam          Senior   \n988  07.01.2020 16:52:43  42.0   Male     Munich          Senior   \n989  08.01.2020 11:18:41  33.0   Male     Berlin          Senior   \n990  08.01.2020 22:20:08  32.0   Male  Frankfurt          Middle   \n\n    Position (without seniority)  Years of experience  \\\n0            Fullstack Developer                   13   \n1              Backend Developer                    3   \n2               Mobile Developer                    4   \n3              Backend Developer                    6   \n4             Embedded Developer                   10   \n..                           ...                  ...   \n986            Backend Developer                   10   \n987            Security Engineer                    7   \n988                      Manager                    9   \n989           Software Architect                   15   \n990          Fullstack Developer                    5   \n\n    Your main technology / programming language  \\\n0                                           PHP   \n1                                        Python   \n2                                        Kotlin   \n3                                           PHP   \n4                                         C/C++   \n..                                          ...   \n986                                      Python   \n987                                Not Relevant   \n988                                Not Relevant   \n989                     Javascript / Typescript   \n990                                        Java   \n\n     Yearly brutto salary (without bonus and stocks)  Yearly bonus  ...  \\\n0                                            64000.0        1000.0  ...   \n1                                            55000.0           0.0  ...   \n2                                            70000.0           0.0  ...   \n3                                            63000.0           0.0  ...   \n4                                            66000.0           0.0  ...   \n..                                               ...           ...  ...   \n986                                          71000.0        3000.0  ...   \n987                                          72000.0           0.0  ...   \n988                                          68000.0       10000.0  ...   \n989                                         100000.0        3000.0  ...   \n990                                          63000.0           0.0  ...   \n\n     Yearly bonus one year ago. Only answer if staying in same country  \\\n0                                               1000.0                   \n1                                               5000.0                   \n2                                               5000.0                   \n3                                               5000.0                   \n4                                               5000.0                   \n..                                                 ...                   \n986                                             3000.0                   \n987                                                0.0                   \n988                                             9000.0                   \n989                                             5000.0                   \n990                                             5000.0                   \n\n     Yearly stocks one year ago. Only answer if staying in same country  \\\n0                                                  0.0                    \n1                                                  0.0                    \n2                                                  0.0                    \n3                                                  0.0                    \n4                                                  0.0                    \n..                                                 ...                    \n986                                                0.0                    \n987                                                0.0                    \n988                                                0.0                    \n989                                                0.0                    \n990                                                0.0                    \n\n     Number of vacation days  Number of home office days per month  \\\n0                       29.0                                   4.0   \n1                       22.0                                   4.0   \n2                       27.0                                   4.0   \n3                       24.0                                   4.0   \n4                       30.0                                   0.0   \n..                       ...                                   ...   \n986                     25.0                                   5.0   \n987                     27.0                                   5.0   \n988                     30.0                                   5.0   \n989                     26.0                                   6.0   \n990                     30.0                                   5.0   \n\n     Main language at work  Company name  Company size         Company type  \\\n0                  English        Zalando       50-100              Startup   \n1                  English        Zalando        10-50              Product   \n2                  English        Zalando        1000+              Startup   \n3                  English          Auto1     100-1000              Product   \n4                  English         Luxoft       50-100              Product   \n..                     ...            ...          ...                  ...   \n986                English        Zalando        1000+              Product   \n987                English            ING        1000+                 Bank   \n988                English            SAP        1000+              Product   \n989                English        Zalando        1000+              Product   \n990                Deutsch        Zalando        1000+  Consulting / Agency   \n\n    Сontract duration Company business sector  \n0           unlimited                 Tourism  \n1           unlimited   Scientific Activities  \n2           unlimited                Сommerce  \n3           unlimited               Transport  \n4           unlimited              Automotive  \n..                ...                     ...  \n986         unlimited                 Telecom  \n987         unlimited     Finance / Insurance  \n988         unlimited                Сommerce  \n989  more than 1 year                  Health  \n990         unlimited               Transport  \n\n[991 rows x 22 columns]"
          },
          "execution_count": 181,
          "metadata": {},
          "output_type": "execute_result"
        }
      ],
      "source": [
        "data_19.drop(['0'],axis=1)"
      ]
    },
    {
      "cell_type": "code",
      "execution_count": 183,
      "metadata": {},
      "outputs": [
        {
          "data": {
            "text/plain": "Timestamp                               0\nAge                                    93\nGender                                 14\nCity                                   29\nPosition                               28\nYears of experience                    33\nYour level                             22\nCurrent Salary                         15\nSalary one year ago                   169\nSalary two years ago                  302\nAre you getting any Stock Options?     23\nMain language at work                  15\nCompany size                           15\nCompany type                           35\ndtype: int64"
          },
          "execution_count": 183,
          "metadata": {},
          "output_type": "execute_result"
        }
      ],
      "source": [
        "data_18.isnull().sum()"
      ]
    },
    {
      "cell_type": "code",
      "execution_count": 184,
      "metadata": {},
      "outputs": [],
      "source": [
        "for column in data_18:\n",
        "    if data_18[column].isnull().any():\n",
        "        if(column in data_18):\n",
        "            data_18[column]=data_18[column].fillna(data_18[column].mode()[0])\n",
        "        else:\n",
        "            data_18[column]=data_18[column].fillna(data_18[column].mean)"
      ]
    },
    {
      "cell_type": "code",
      "execution_count": 185,
      "metadata": {},
      "outputs": [
        {
          "data": {
            "text/plain": "Timestamp                             0\nAge                                   0\nGender                                0\nCity                                  0\nPosition                              0\nYears of experience                   0\nYour level                            0\nCurrent Salary                        0\nSalary one year ago                   0\nSalary two years ago                  0\nAre you getting any Stock Options?    0\nMain language at work                 0\nCompany size                          0\nCompany type                          0\ndtype: int64"
          },
          "execution_count": 185,
          "metadata": {},
          "output_type": "execute_result"
        }
      ],
      "source": [
        "data_18.isnull().sum()"
      ]
    },
    {
      "cell_type": "markdown",
      "metadata": {
        "id": "s8RT70fOCb_T"
      },
      "source": [
        "## Task 4: Data Visualization using Plotly\r\n",
        "**Note:** All the tasks below need to be completed using only Plotly and no other Data Visualization library.\r\n",
        "\r\n",
        "* Create a pie chart to analyze the Company types in the year 2019. Are Consulting / Agency companies more popular than Startups? \r\n",
        "* Create a line plot of the Total years of experience vs the current salary(taking the median salary for each of the different experience years) of the year 2018.\r\n",
        "* Now, create the above plot again and add 2 more line plots to the same graph, that display the Total years of experience vs the median Yearly brutto salary (without bonus and stocks) of the year 2019 and 2020.\r\n",
        "* Create a bar chart to analyse the popularity of the main technology/ programming languages amongst the respondents in the year 2020. Which technology is the most popular? Which technology is the least popular (with less than 4 responses)?\r\n",
        "* Create a pie plot indicating the gender ratio of the respondents in the year 2020.\r\n"
      ]
    },
    {
      "cell_type": "code",
      "execution_count": 221,
      "metadata": {},
      "outputs": [
        {
          "data": {
            "text/plain": "Zeitstempel                                                                                               0\nAge                                                                                                       0\nGender                                                                                                    0\nCity                                                                                                      0\nSeniority level                                                                                           0\nPosition (without seniority)                                                                              0\nYears of experience                                                                                       0\nYour main technology / programming language                                                               0\nYearly brutto salary (without bonus and stocks)                                                           0\nYearly bonus                                                                                              0\nYearly stocks                                                                                             0\nYearly brutto salary (without bonus and stocks) one year ago. Only answer if staying in same country      0\nYearly bonus one year ago. Only answer if staying in same country                                         0\nYearly stocks one year ago. Only answer if staying in same country                                        0\nNumber of vacation days                                                                                   0\nNumber of home office days per month                                                                      0\nMain language at work                                                                                     0\nCompany name                                                                                              0\nCompany size                                                                                              0\nCompany type                                                                                              0\nСontract duration                                                                                         0\nCompany business sector                                                                                   0\n0                                                                                                       991\ndtype: int64"
          },
          "execution_count": 221,
          "metadata": {},
          "output_type": "execute_result"
        }
      ],
      "source": [
        "data_19.isnull().sum()"
      ]
    },
    {
      "cell_type": "code",
      "execution_count": 279,
      "metadata": {},
      "outputs": [
        {
          "data": {
            "text/plain": "Product                 650\nStartup                 181\nConsulting / Agency     117\nBodyshop / Outsource     30\nUniversity                6\nBank                      6\nOutsource                 1\nName: Company type, dtype: int64"
          },
          "execution_count": 279,
          "metadata": {},
          "output_type": "execute_result"
        }
      ],
      "source": [
        "df=data_19['Company type'].value_counts()\n",
        "df"
      ]
    },
    {
      "cell_type": "code",
      "execution_count": 289,
      "metadata": {},
      "outputs": [
        {
          "data": {
            "application/vnd.plotly.v1+json": {
              "config": {
                "plotlyServerURL": "https://plot.ly"
              },
              "data": [
                {
                  "domain": {
                    "x": [
                      0,
                      1
                    ],
                    "y": [
                      0,
                      1
                    ]
                  },
                  "hovertemplate": "Company type=%{label}<br>value=%{value}<extra></extra>",
                  "labels": [
                    650,
                    181,
                    117,
                    30,
                    6,
                    6,
                    1
                  ],
                  "legendgroup": "",
                  "name": "",
                  "showlegend": true,
                  "type": "pie",
                  "values": [
                    650,
                    181,
                    117,
                    30,
                    6,
                    6,
                    1
                  ]
                }
              ],
              "layout": {
                "legend": {
                  "tracegroupgap": 0
                },
                "template": {
                  "data": {
                    "bar": [
                      {
                        "error_x": {
                          "color": "#2a3f5f"
                        },
                        "error_y": {
                          "color": "#2a3f5f"
                        },
                        "marker": {
                          "line": {
                            "color": "#E5ECF6",
                            "width": 0.5
                          }
                        },
                        "type": "bar"
                      }
                    ],
                    "barpolar": [
                      {
                        "marker": {
                          "line": {
                            "color": "#E5ECF6",
                            "width": 0.5
                          }
                        },
                        "type": "barpolar"
                      }
                    ],
                    "carpet": [
                      {
                        "aaxis": {
                          "endlinecolor": "#2a3f5f",
                          "gridcolor": "white",
                          "linecolor": "white",
                          "minorgridcolor": "white",
                          "startlinecolor": "#2a3f5f"
                        },
                        "baxis": {
                          "endlinecolor": "#2a3f5f",
                          "gridcolor": "white",
                          "linecolor": "white",
                          "minorgridcolor": "white",
                          "startlinecolor": "#2a3f5f"
                        },
                        "type": "carpet"
                      }
                    ],
                    "choropleth": [
                      {
                        "colorbar": {
                          "outlinewidth": 0,
                          "ticks": ""
                        },
                        "type": "choropleth"
                      }
                    ],
                    "contour": [
                      {
                        "colorbar": {
                          "outlinewidth": 0,
                          "ticks": ""
                        },
                        "colorscale": [
                          [
                            0,
                            "#0d0887"
                          ],
                          [
                            0.1111111111111111,
                            "#46039f"
                          ],
                          [
                            0.2222222222222222,
                            "#7201a8"
                          ],
                          [
                            0.3333333333333333,
                            "#9c179e"
                          ],
                          [
                            0.4444444444444444,
                            "#bd3786"
                          ],
                          [
                            0.5555555555555556,
                            "#d8576b"
                          ],
                          [
                            0.6666666666666666,
                            "#ed7953"
                          ],
                          [
                            0.7777777777777778,
                            "#fb9f3a"
                          ],
                          [
                            0.8888888888888888,
                            "#fdca26"
                          ],
                          [
                            1,
                            "#f0f921"
                          ]
                        ],
                        "type": "contour"
                      }
                    ],
                    "contourcarpet": [
                      {
                        "colorbar": {
                          "outlinewidth": 0,
                          "ticks": ""
                        },
                        "type": "contourcarpet"
                      }
                    ],
                    "heatmap": [
                      {
                        "colorbar": {
                          "outlinewidth": 0,
                          "ticks": ""
                        },
                        "colorscale": [
                          [
                            0,
                            "#0d0887"
                          ],
                          [
                            0.1111111111111111,
                            "#46039f"
                          ],
                          [
                            0.2222222222222222,
                            "#7201a8"
                          ],
                          [
                            0.3333333333333333,
                            "#9c179e"
                          ],
                          [
                            0.4444444444444444,
                            "#bd3786"
                          ],
                          [
                            0.5555555555555556,
                            "#d8576b"
                          ],
                          [
                            0.6666666666666666,
                            "#ed7953"
                          ],
                          [
                            0.7777777777777778,
                            "#fb9f3a"
                          ],
                          [
                            0.8888888888888888,
                            "#fdca26"
                          ],
                          [
                            1,
                            "#f0f921"
                          ]
                        ],
                        "type": "heatmap"
                      }
                    ],
                    "heatmapgl": [
                      {
                        "colorbar": {
                          "outlinewidth": 0,
                          "ticks": ""
                        },
                        "colorscale": [
                          [
                            0,
                            "#0d0887"
                          ],
                          [
                            0.1111111111111111,
                            "#46039f"
                          ],
                          [
                            0.2222222222222222,
                            "#7201a8"
                          ],
                          [
                            0.3333333333333333,
                            "#9c179e"
                          ],
                          [
                            0.4444444444444444,
                            "#bd3786"
                          ],
                          [
                            0.5555555555555556,
                            "#d8576b"
                          ],
                          [
                            0.6666666666666666,
                            "#ed7953"
                          ],
                          [
                            0.7777777777777778,
                            "#fb9f3a"
                          ],
                          [
                            0.8888888888888888,
                            "#fdca26"
                          ],
                          [
                            1,
                            "#f0f921"
                          ]
                        ],
                        "type": "heatmapgl"
                      }
                    ],
                    "histogram": [
                      {
                        "marker": {
                          "colorbar": {
                            "outlinewidth": 0,
                            "ticks": ""
                          }
                        },
                        "type": "histogram"
                      }
                    ],
                    "histogram2d": [
                      {
                        "colorbar": {
                          "outlinewidth": 0,
                          "ticks": ""
                        },
                        "colorscale": [
                          [
                            0,
                            "#0d0887"
                          ],
                          [
                            0.1111111111111111,
                            "#46039f"
                          ],
                          [
                            0.2222222222222222,
                            "#7201a8"
                          ],
                          [
                            0.3333333333333333,
                            "#9c179e"
                          ],
                          [
                            0.4444444444444444,
                            "#bd3786"
                          ],
                          [
                            0.5555555555555556,
                            "#d8576b"
                          ],
                          [
                            0.6666666666666666,
                            "#ed7953"
                          ],
                          [
                            0.7777777777777778,
                            "#fb9f3a"
                          ],
                          [
                            0.8888888888888888,
                            "#fdca26"
                          ],
                          [
                            1,
                            "#f0f921"
                          ]
                        ],
                        "type": "histogram2d"
                      }
                    ],
                    "histogram2dcontour": [
                      {
                        "colorbar": {
                          "outlinewidth": 0,
                          "ticks": ""
                        },
                        "colorscale": [
                          [
                            0,
                            "#0d0887"
                          ],
                          [
                            0.1111111111111111,
                            "#46039f"
                          ],
                          [
                            0.2222222222222222,
                            "#7201a8"
                          ],
                          [
                            0.3333333333333333,
                            "#9c179e"
                          ],
                          [
                            0.4444444444444444,
                            "#bd3786"
                          ],
                          [
                            0.5555555555555556,
                            "#d8576b"
                          ],
                          [
                            0.6666666666666666,
                            "#ed7953"
                          ],
                          [
                            0.7777777777777778,
                            "#fb9f3a"
                          ],
                          [
                            0.8888888888888888,
                            "#fdca26"
                          ],
                          [
                            1,
                            "#f0f921"
                          ]
                        ],
                        "type": "histogram2dcontour"
                      }
                    ],
                    "mesh3d": [
                      {
                        "colorbar": {
                          "outlinewidth": 0,
                          "ticks": ""
                        },
                        "type": "mesh3d"
                      }
                    ],
                    "parcoords": [
                      {
                        "line": {
                          "colorbar": {
                            "outlinewidth": 0,
                            "ticks": ""
                          }
                        },
                        "type": "parcoords"
                      }
                    ],
                    "pie": [
                      {
                        "automargin": true,
                        "type": "pie"
                      }
                    ],
                    "scatter": [
                      {
                        "marker": {
                          "colorbar": {
                            "outlinewidth": 0,
                            "ticks": ""
                          }
                        },
                        "type": "scatter"
                      }
                    ],
                    "scatter3d": [
                      {
                        "line": {
                          "colorbar": {
                            "outlinewidth": 0,
                            "ticks": ""
                          }
                        },
                        "marker": {
                          "colorbar": {
                            "outlinewidth": 0,
                            "ticks": ""
                          }
                        },
                        "type": "scatter3d"
                      }
                    ],
                    "scattercarpet": [
                      {
                        "marker": {
                          "colorbar": {
                            "outlinewidth": 0,
                            "ticks": ""
                          }
                        },
                        "type": "scattercarpet"
                      }
                    ],
                    "scattergeo": [
                      {
                        "marker": {
                          "colorbar": {
                            "outlinewidth": 0,
                            "ticks": ""
                          }
                        },
                        "type": "scattergeo"
                      }
                    ],
                    "scattergl": [
                      {
                        "marker": {
                          "colorbar": {
                            "outlinewidth": 0,
                            "ticks": ""
                          }
                        },
                        "type": "scattergl"
                      }
                    ],
                    "scattermapbox": [
                      {
                        "marker": {
                          "colorbar": {
                            "outlinewidth": 0,
                            "ticks": ""
                          }
                        },
                        "type": "scattermapbox"
                      }
                    ],
                    "scatterpolar": [
                      {
                        "marker": {
                          "colorbar": {
                            "outlinewidth": 0,
                            "ticks": ""
                          }
                        },
                        "type": "scatterpolar"
                      }
                    ],
                    "scatterpolargl": [
                      {
                        "marker": {
                          "colorbar": {
                            "outlinewidth": 0,
                            "ticks": ""
                          }
                        },
                        "type": "scatterpolargl"
                      }
                    ],
                    "scatterternary": [
                      {
                        "marker": {
                          "colorbar": {
                            "outlinewidth": 0,
                            "ticks": ""
                          }
                        },
                        "type": "scatterternary"
                      }
                    ],
                    "surface": [
                      {
                        "colorbar": {
                          "outlinewidth": 0,
                          "ticks": ""
                        },
                        "colorscale": [
                          [
                            0,
                            "#0d0887"
                          ],
                          [
                            0.1111111111111111,
                            "#46039f"
                          ],
                          [
                            0.2222222222222222,
                            "#7201a8"
                          ],
                          [
                            0.3333333333333333,
                            "#9c179e"
                          ],
                          [
                            0.4444444444444444,
                            "#bd3786"
                          ],
                          [
                            0.5555555555555556,
                            "#d8576b"
                          ],
                          [
                            0.6666666666666666,
                            "#ed7953"
                          ],
                          [
                            0.7777777777777778,
                            "#fb9f3a"
                          ],
                          [
                            0.8888888888888888,
                            "#fdca26"
                          ],
                          [
                            1,
                            "#f0f921"
                          ]
                        ],
                        "type": "surface"
                      }
                    ],
                    "table": [
                      {
                        "cells": {
                          "fill": {
                            "color": "#EBF0F8"
                          },
                          "line": {
                            "color": "white"
                          }
                        },
                        "header": {
                          "fill": {
                            "color": "#C8D4E3"
                          },
                          "line": {
                            "color": "white"
                          }
                        },
                        "type": "table"
                      }
                    ]
                  },
                  "layout": {
                    "annotationdefaults": {
                      "arrowcolor": "#2a3f5f",
                      "arrowhead": 0,
                      "arrowwidth": 1
                    },
                    "autotypenumbers": "strict",
                    "coloraxis": {
                      "colorbar": {
                        "outlinewidth": 0,
                        "ticks": ""
                      }
                    },
                    "colorscale": {
                      "diverging": [
                        [
                          0,
                          "#8e0152"
                        ],
                        [
                          0.1,
                          "#c51b7d"
                        ],
                        [
                          0.2,
                          "#de77ae"
                        ],
                        [
                          0.3,
                          "#f1b6da"
                        ],
                        [
                          0.4,
                          "#fde0ef"
                        ],
                        [
                          0.5,
                          "#f7f7f7"
                        ],
                        [
                          0.6,
                          "#e6f5d0"
                        ],
                        [
                          0.7,
                          "#b8e186"
                        ],
                        [
                          0.8,
                          "#7fbc41"
                        ],
                        [
                          0.9,
                          "#4d9221"
                        ],
                        [
                          1,
                          "#276419"
                        ]
                      ],
                      "sequential": [
                        [
                          0,
                          "#0d0887"
                        ],
                        [
                          0.1111111111111111,
                          "#46039f"
                        ],
                        [
                          0.2222222222222222,
                          "#7201a8"
                        ],
                        [
                          0.3333333333333333,
                          "#9c179e"
                        ],
                        [
                          0.4444444444444444,
                          "#bd3786"
                        ],
                        [
                          0.5555555555555556,
                          "#d8576b"
                        ],
                        [
                          0.6666666666666666,
                          "#ed7953"
                        ],
                        [
                          0.7777777777777778,
                          "#fb9f3a"
                        ],
                        [
                          0.8888888888888888,
                          "#fdca26"
                        ],
                        [
                          1,
                          "#f0f921"
                        ]
                      ],
                      "sequentialminus": [
                        [
                          0,
                          "#0d0887"
                        ],
                        [
                          0.1111111111111111,
                          "#46039f"
                        ],
                        [
                          0.2222222222222222,
                          "#7201a8"
                        ],
                        [
                          0.3333333333333333,
                          "#9c179e"
                        ],
                        [
                          0.4444444444444444,
                          "#bd3786"
                        ],
                        [
                          0.5555555555555556,
                          "#d8576b"
                        ],
                        [
                          0.6666666666666666,
                          "#ed7953"
                        ],
                        [
                          0.7777777777777778,
                          "#fb9f3a"
                        ],
                        [
                          0.8888888888888888,
                          "#fdca26"
                        ],
                        [
                          1,
                          "#f0f921"
                        ]
                      ]
                    },
                    "colorway": [
                      "#636efa",
                      "#EF553B",
                      "#00cc96",
                      "#ab63fa",
                      "#FFA15A",
                      "#19d3f3",
                      "#FF6692",
                      "#B6E880",
                      "#FF97FF",
                      "#FECB52"
                    ],
                    "font": {
                      "color": "#2a3f5f"
                    },
                    "geo": {
                      "bgcolor": "white",
                      "lakecolor": "white",
                      "landcolor": "#E5ECF6",
                      "showlakes": true,
                      "showland": true,
                      "subunitcolor": "white"
                    },
                    "hoverlabel": {
                      "align": "left"
                    },
                    "hovermode": "closest",
                    "mapbox": {
                      "style": "light"
                    },
                    "paper_bgcolor": "white",
                    "plot_bgcolor": "#E5ECF6",
                    "polar": {
                      "angularaxis": {
                        "gridcolor": "white",
                        "linecolor": "white",
                        "ticks": ""
                      },
                      "bgcolor": "#E5ECF6",
                      "radialaxis": {
                        "gridcolor": "white",
                        "linecolor": "white",
                        "ticks": ""
                      }
                    },
                    "scene": {
                      "xaxis": {
                        "backgroundcolor": "#E5ECF6",
                        "gridcolor": "white",
                        "gridwidth": 2,
                        "linecolor": "white",
                        "showbackground": true,
                        "ticks": "",
                        "zerolinecolor": "white"
                      },
                      "yaxis": {
                        "backgroundcolor": "#E5ECF6",
                        "gridcolor": "white",
                        "gridwidth": 2,
                        "linecolor": "white",
                        "showbackground": true,
                        "ticks": "",
                        "zerolinecolor": "white"
                      },
                      "zaxis": {
                        "backgroundcolor": "#E5ECF6",
                        "gridcolor": "white",
                        "gridwidth": 2,
                        "linecolor": "white",
                        "showbackground": true,
                        "ticks": "",
                        "zerolinecolor": "white"
                      }
                    },
                    "shapedefaults": {
                      "line": {
                        "color": "#2a3f5f"
                      }
                    },
                    "ternary": {
                      "aaxis": {
                        "gridcolor": "white",
                        "linecolor": "white",
                        "ticks": ""
                      },
                      "baxis": {
                        "gridcolor": "white",
                        "linecolor": "white",
                        "ticks": ""
                      },
                      "bgcolor": "#E5ECF6",
                      "caxis": {
                        "gridcolor": "white",
                        "linecolor": "white",
                        "ticks": ""
                      }
                    },
                    "title": {
                      "x": 0.05
                    },
                    "xaxis": {
                      "automargin": true,
                      "gridcolor": "white",
                      "linecolor": "white",
                      "ticks": "",
                      "title": {
                        "standoff": 15
                      },
                      "zerolinecolor": "white",
                      "zerolinewidth": 2
                    },
                    "yaxis": {
                      "automargin": true,
                      "gridcolor": "white",
                      "linecolor": "white",
                      "ticks": "",
                      "title": {
                        "standoff": 15
                      },
                      "zerolinecolor": "white",
                      "zerolinewidth": 2
                    }
                  }
                },
                "title": {
                  "text": "Company name"
                }
              }
            }
          },
          "metadata": {},
          "output_type": "display_data"
        }
      ],
      "source": [
        "import plotly.express as px\n",
        "fig=px.pie(df,values=df, \n",
        "           names='Company type' ,\n",
        "            title='Company name')\n",
        "fig.show()"
      ]
    },
    {
      "cell_type": "code",
      "execution_count": 300,
      "metadata": {},
      "outputs": [
        {
          "data": {
            "application/vnd.plotly.v1+json": {
              "config": {
                "plotlyServerURL": "https://plot.ly"
              },
              "data": [
                {
                  "hovertemplate": "Years of experience=%{x}<br>Current Salary=%{y}<extra></extra>",
                  "legendgroup": "",
                  "line": {
                    "color": "#636efa",
                    "dash": "solid"
                  },
                  "mode": "lines",
                  "name": "",
                  "orientation": "v",
                  "showlegend": false,
                  "type": "scatter",
                  "x": [
                    11,
                    8,
                    10,
                    6,
                    10,
                    8,
                    5,
                    8,
                    3,
                    8,
                    18,
                    8,
                    10,
                    6,
                    11,
                    3,
                    11,
                    4,
                    17,
                    19,
                    10,
                    10,
                    5,
                    10,
                    4,
                    15,
                    15,
                    12,
                    8,
                    5,
                    10,
                    12,
                    10,
                    4,
                    2,
                    1,
                    10,
                    10,
                    5,
                    9,
                    7,
                    20,
                    10,
                    7,
                    3,
                    10,
                    6,
                    1,
                    6,
                    11,
                    10,
                    7,
                    7.5,
                    10,
                    1,
                    10,
                    9,
                    1,
                    4,
                    10,
                    10,
                    3,
                    11,
                    4,
                    5,
                    4,
                    6,
                    5,
                    7,
                    5,
                    3,
                    6,
                    7,
                    3,
                    4,
                    10,
                    8,
                    1,
                    5,
                    8,
                    10,
                    12,
                    5,
                    10,
                    6,
                    8,
                    5,
                    3,
                    14,
                    15,
                    4,
                    4,
                    10,
                    14,
                    10,
                    12,
                    3,
                    6,
                    19,
                    10,
                    2,
                    8,
                    10,
                    18,
                    3,
                    10,
                    15,
                    5,
                    3,
                    11,
                    3,
                    10,
                    10,
                    4,
                    12,
                    13,
                    5,
                    6,
                    17,
                    8,
                    0.5,
                    5,
                    9,
                    3,
                    7,
                    7,
                    5,
                    8,
                    4,
                    4,
                    10,
                    3,
                    7,
                    6,
                    15,
                    14,
                    10,
                    15,
                    4,
                    7,
                    10,
                    5,
                    13,
                    8,
                    5,
                    6,
                    3,
                    20,
                    5,
                    12,
                    7,
                    6,
                    17,
                    14,
                    3,
                    6,
                    19,
                    2.5,
                    0.5,
                    15,
                    11,
                    8,
                    10,
                    8,
                    7,
                    13,
                    11,
                    10,
                    15,
                    12,
                    9,
                    15,
                    5,
                    5,
                    5,
                    8,
                    4,
                    12,
                    8,
                    11,
                    8,
                    4,
                    5,
                    7,
                    12,
                    8,
                    2,
                    13,
                    14,
                    7,
                    2.5,
                    4,
                    9,
                    3,
                    3,
                    5,
                    2,
                    8,
                    6,
                    13,
                    12,
                    4,
                    5,
                    5,
                    4,
                    13,
                    6,
                    8,
                    10,
                    1.5,
                    20,
                    5,
                    6,
                    10,
                    13,
                    7,
                    5,
                    13,
                    15,
                    8,
                    5,
                    16,
                    6,
                    9,
                    6,
                    6,
                    12,
                    9,
                    10,
                    11,
                    5,
                    9,
                    3,
                    15,
                    3,
                    10,
                    0,
                    7,
                    5,
                    7,
                    10,
                    7,
                    12,
                    20,
                    5,
                    11,
                    4,
                    4,
                    8,
                    10,
                    5,
                    3,
                    15,
                    10,
                    3,
                    11,
                    5,
                    4,
                    10,
                    5,
                    20,
                    18,
                    4,
                    1,
                    10,
                    15,
                    2.5,
                    6,
                    12,
                    10,
                    15,
                    5,
                    10,
                    10,
                    8,
                    10,
                    10,
                    5,
                    18,
                    8,
                    9,
                    11,
                    16,
                    5,
                    11,
                    7,
                    17,
                    7,
                    9,
                    9,
                    17,
                    5,
                    13,
                    5,
                    2.5,
                    10,
                    8,
                    12,
                    20,
                    5,
                    10,
                    10,
                    12,
                    10,
                    7,
                    5,
                    9,
                    10,
                    5,
                    7,
                    4,
                    8,
                    5,
                    12,
                    4,
                    5,
                    12,
                    8,
                    5,
                    20,
                    8,
                    15,
                    10,
                    10,
                    10,
                    6,
                    7,
                    1,
                    5,
                    5,
                    10,
                    6,
                    4,
                    12,
                    12,
                    10,
                    8,
                    5,
                    3,
                    25,
                    6,
                    5,
                    8,
                    8,
                    7,
                    6,
                    10,
                    7,
                    10,
                    7,
                    10,
                    4,
                    8,
                    2,
                    20,
                    11,
                    8,
                    5,
                    1,
                    9,
                    12,
                    10,
                    4,
                    3,
                    8,
                    4,
                    10,
                    4,
                    9,
                    6,
                    3,
                    11,
                    14,
                    10,
                    7,
                    18,
                    10,
                    5,
                    10,
                    13,
                    6,
                    9,
                    10,
                    7,
                    6,
                    15,
                    7,
                    9,
                    10,
                    12,
                    8,
                    10,
                    10,
                    1,
                    7,
                    4,
                    4,
                    1,
                    3,
                    9,
                    6,
                    11,
                    10,
                    7,
                    11,
                    5,
                    11,
                    3,
                    6,
                    10,
                    11,
                    10,
                    9,
                    9,
                    12,
                    5,
                    15,
                    12,
                    9,
                    8,
                    18,
                    10,
                    1,
                    12,
                    15,
                    14,
                    15,
                    6,
                    5,
                    15,
                    2,
                    16,
                    11,
                    5,
                    3,
                    6,
                    3,
                    6,
                    6,
                    8,
                    12,
                    6,
                    18,
                    5,
                    4,
                    3,
                    8,
                    8,
                    9,
                    10,
                    8,
                    1,
                    9,
                    30,
                    2.5,
                    2,
                    10,
                    9,
                    12,
                    9,
                    6,
                    20,
                    12,
                    5,
                    9,
                    8,
                    4,
                    7,
                    10,
                    2,
                    2,
                    4,
                    8,
                    10,
                    10,
                    11,
                    15,
                    10,
                    15,
                    13,
                    10,
                    11,
                    5,
                    7,
                    20,
                    18,
                    15,
                    2,
                    5,
                    10,
                    10,
                    5,
                    2,
                    2,
                    7,
                    13,
                    8,
                    5,
                    10,
                    13,
                    5,
                    12,
                    15,
                    10,
                    8,
                    8,
                    6,
                    4,
                    15,
                    12,
                    10,
                    10,
                    9,
                    6,
                    9,
                    10,
                    12,
                    15,
                    10,
                    10,
                    15,
                    11,
                    6,
                    9,
                    5,
                    9,
                    6,
                    7,
                    10,
                    4,
                    7,
                    7,
                    4,
                    10,
                    11,
                    2,
                    12,
                    12,
                    3,
                    4,
                    6,
                    13,
                    15,
                    8,
                    7,
                    10,
                    5,
                    6,
                    38,
                    20,
                    6,
                    5,
                    7,
                    15,
                    10,
                    12,
                    4,
                    11,
                    10,
                    10,
                    7,
                    12,
                    7,
                    10,
                    7,
                    7,
                    20,
                    10,
                    21,
                    2,
                    18,
                    10,
                    10,
                    15,
                    9,
                    4,
                    15,
                    9,
                    19,
                    10,
                    5,
                    1.5,
                    5,
                    14,
                    14,
                    5,
                    6,
                    7,
                    4.5,
                    2,
                    15,
                    8,
                    5,
                    9,
                    8,
                    4,
                    5,
                    5,
                    18,
                    8,
                    8,
                    3,
                    10,
                    6,
                    4,
                    8,
                    5,
                    8,
                    5,
                    12,
                    14,
                    3,
                    11,
                    18,
                    14,
                    10,
                    12,
                    8,
                    6,
                    7,
                    5,
                    10,
                    5,
                    5,
                    6,
                    5,
                    6,
                    6,
                    7,
                    16,
                    11,
                    5,
                    8,
                    8,
                    1,
                    12,
                    12,
                    15,
                    9,
                    8,
                    10,
                    10,
                    10,
                    10,
                    15,
                    14,
                    10,
                    10,
                    9,
                    1,
                    18,
                    11,
                    8,
                    11,
                    9,
                    6,
                    12,
                    4,
                    10,
                    10,
                    12,
                    11,
                    15,
                    5,
                    7,
                    5,
                    4,
                    6,
                    10,
                    4,
                    4,
                    10,
                    3,
                    9,
                    15,
                    7,
                    7,
                    3,
                    12,
                    3,
                    15,
                    10,
                    7,
                    15,
                    1,
                    3,
                    7,
                    10,
                    5,
                    10,
                    5,
                    10,
                    8,
                    2,
                    7,
                    17,
                    9,
                    7,
                    5,
                    10,
                    11,
                    7,
                    15,
                    18,
                    6,
                    20,
                    3,
                    7,
                    0,
                    10,
                    10,
                    9,
                    20,
                    8,
                    0,
                    10,
                    5,
                    11,
                    5,
                    11,
                    5,
                    12,
                    7,
                    12,
                    2,
                    3,
                    8,
                    7,
                    11,
                    18,
                    6,
                    10,
                    9,
                    10,
                    10,
                    12,
                    10,
                    10,
                    10,
                    10,
                    10,
                    10,
                    1,
                    20,
                    8,
                    5,
                    25,
                    10,
                    3,
                    1,
                    4,
                    17,
                    10,
                    11,
                    10,
                    10,
                    30,
                    10,
                    10,
                    10,
                    1,
                    1,
                    1,
                    10,
                    10
                  ],
                  "xaxis": "x",
                  "y": [
                    77000,
                    65000,
                    88000,
                    78000,
                    69000,
                    98000,
                    65000,
                    109000,
                    65000,
                    60000,
                    70000,
                    70000,
                    55000,
                    55000,
                    94500,
                    46000,
                    68000,
                    60000,
                    62500,
                    80000,
                    132250,
                    53000,
                    52000,
                    95000,
                    72000,
                    55000,
                    77000,
                    72000,
                    80000,
                    66000,
                    75800,
                    84000,
                    60000,
                    57000,
                    58000,
                    36000,
                    70000,
                    72000,
                    75000,
                    90000,
                    69000,
                    113000,
                    65000,
                    75000,
                    57000,
                    84000,
                    70000,
                    55000,
                    60000,
                    65000,
                    70000,
                    50000,
                    65000,
                    78000,
                    60000,
                    71000,
                    75000,
                    49000,
                    65000,
                    68000,
                    56000,
                    30000,
                    72000,
                    65000,
                    45000,
                    55000,
                    40000,
                    66000,
                    66000,
                    54000,
                    60000,
                    50000,
                    60000,
                    48000,
                    66000,
                    95000,
                    61000,
                    65000,
                    55000,
                    72000,
                    90000,
                    60000,
                    60000,
                    87000,
                    70000,
                    30000,
                    55000,
                    57000,
                    73000,
                    85000,
                    65000,
                    65000,
                    58000,
                    82000,
                    67000,
                    65000,
                    62000,
                    62000,
                    83000,
                    75000,
                    50000,
                    100000,
                    75000,
                    69000,
                    50000,
                    73000,
                    120000,
                    50000,
                    58000,
                    65000,
                    30000,
                    80000,
                    70000,
                    65000,
                    78600,
                    70000,
                    60000,
                    78000,
                    70000,
                    89000,
                    60000,
                    60000,
                    72000,
                    43000,
                    72000,
                    65000,
                    85000,
                    55000,
                    65000,
                    56000,
                    107000,
                    60000,
                    70000,
                    60000,
                    62000,
                    78000,
                    60000,
                    54000,
                    46000,
                    64000,
                    65000,
                    58000,
                    75000,
                    95000,
                    60000,
                    53000,
                    69000,
                    84000,
                    52000,
                    85000,
                    75000,
                    63000,
                    87000,
                    65000,
                    50400,
                    65000,
                    85000,
                    66000,
                    32000,
                    42000,
                    65000,
                    74000,
                    75000,
                    72500,
                    53000,
                    102000,
                    60000,
                    75000,
                    85000,
                    60000,
                    60000,
                    85000,
                    50000,
                    60000,
                    35000,
                    75000,
                    58000,
                    75000,
                    70000,
                    65000,
                    55800,
                    55000,
                    55000,
                    70000,
                    63000,
                    115000,
                    52000,
                    176000,
                    70000,
                    44000,
                    50000,
                    58000,
                    60000,
                    60000,
                    64000,
                    80000,
                    58000,
                    95000,
                    50000,
                    90000,
                    75000,
                    46000,
                    80000,
                    92000,
                    60000,
                    90000,
                    63000,
                    75000,
                    55000,
                    70000,
                    74000,
                    65000,
                    125000,
                    68000,
                    80000,
                    40000,
                    60000,
                    65000,
                    92000,
                    75000,
                    70000,
                    58000,
                    76000,
                    75000,
                    65000,
                    75000,
                    80000,
                    80000,
                    83000,
                    80000,
                    87000,
                    80000,
                    58000,
                    68000,
                    48500,
                    72000,
                    49000,
                    34000,
                    68000,
                    75000,
                    95000,
                    70500,
                    65000,
                    96000,
                    65000,
                    83000,
                    78000,
                    45000,
                    65000,
                    120000,
                    85000,
                    65000,
                    65000,
                    86000,
                    68000,
                    61000,
                    60000,
                    48000,
                    75000,
                    65000,
                    120000,
                    84000,
                    54000,
                    40000,
                    61000,
                    85000,
                    35000,
                    68000,
                    75000,
                    96000,
                    70000,
                    55000,
                    50000,
                    57000,
                    60000,
                    44000,
                    95000,
                    55000,
                    67000,
                    46000,
                    90000,
                    92000,
                    95000,
                    70000,
                    115000,
                    70000,
                    35000,
                    60000,
                    90000,
                    90000,
                    80000,
                    90000,
                    72000,
                    55000,
                    52000,
                    53000,
                    72000,
                    80000,
                    200000,
                    63000,
                    73300,
                    115000,
                    73500,
                    83000,
                    42000,
                    56000,
                    130000,
                    70000,
                    45000,
                    57000,
                    58000,
                    65000,
                    47500,
                    70000,
                    90000,
                    50000,
                    85000,
                    65000,
                    62000,
                    60000,
                    66000,
                    75000,
                    70000,
                    65000,
                    65000,
                    70000,
                    62000,
                    55000,
                    60000,
                    56000,
                    65000,
                    78000,
                    60000,
                    85000,
                    61000,
                    68000,
                    60000,
                    81000,
                    61000,
                    140000,
                    52000,
                    65000,
                    80000,
                    68000,
                    90000,
                    80000,
                    80000,
                    65000,
                    70000,
                    60000,
                    60000,
                    55000,
                    65000,
                    52000,
                    75000,
                    87000,
                    66000,
                    50000,
                    30000,
                    60000,
                    75000,
                    130000,
                    70000,
                    62000,
                    53500,
                    87975,
                    60000,
                    60000,
                    70000,
                    60000,
                    55000,
                    70000,
                    70000,
                    54000,
                    130000,
                    140000,
                    76000,
                    53000,
                    31500,
                    58000,
                    52000,
                    75000,
                    68000,
                    60000,
                    58000,
                    110000,
                    68000,
                    70000,
                    70000,
                    72000,
                    60000,
                    120000,
                    43000,
                    60000,
                    70000,
                    48000,
                    67000,
                    36000,
                    75000,
                    65000,
                    63000,
                    60000,
                    57000,
                    112000,
                    100000,
                    72000,
                    78000,
                    44000,
                    59000,
                    66000,
                    60000,
                    65000,
                    47000,
                    60000,
                    72000,
                    68400,
                    55000,
                    60000,
                    70000,
                    65000,
                    70000,
                    80000,
                    47000,
                    66000,
                    67200,
                    85000,
                    89000,
                    72000,
                    69000,
                    60000,
                    53000,
                    86000,
                    45000,
                    72000,
                    65000,
                    75000,
                    47000,
                    60000,
                    50000,
                    55000,
                    111000,
                    40800,
                    92100,
                    73000,
                    54000,
                    38000,
                    75000,
                    66000,
                    70000,
                    60000,
                    70000,
                    10300,
                    75000,
                    65000,
                    24000,
                    52000,
                    39600,
                    64400,
                    57000,
                    52000,
                    77000,
                    48000,
                    67000,
                    55000,
                    85000,
                    57800,
                    20400,
                    44000,
                    70000,
                    24000,
                    24000,
                    47300,
                    53000,
                    23162,
                    100000,
                    100000,
                    60000,
                    90000,
                    60000,
                    60000,
                    75000,
                    60000,
                    56000,
                    55000,
                    80000,
                    75000,
                    86000,
                    17532,
                    34000,
                    69000,
                    69000,
                    60000,
                    19200,
                    30000,
                    75000,
                    63000,
                    92000,
                    51750,
                    62000,
                    80000,
                    58000,
                    108000,
                    72000,
                    38400,
                    65000,
                    70000,
                    51000,
                    57000,
                    75000,
                    69600,
                    85000,
                    68000,
                    65000,
                    58500,
                    130000,
                    80000,
                    65000,
                    68000,
                    96000,
                    150000,
                    60000,
                    120000,
                    70000,
                    44000,
                    58500,
                    55000,
                    70000,
                    60000,
                    80000,
                    42000,
                    47000,
                    68000,
                    65000,
                    56000,
                    65000,
                    47250,
                    87000,
                    85000,
                    39000,
                    65000,
                    65000,
                    65000,
                    69000,
                    77000,
                    73000,
                    65000,
                    60000,
                    55000,
                    58000,
                    72000,
                    75000,
                    55000,
                    70000,
                    57000,
                    75000,
                    70000,
                    65000,
                    66000,
                    90000,
                    88000,
                    70000,
                    60000,
                    78000,
                    64500,
                    96000,
                    68000,
                    80000,
                    122000,
                    90000,
                    55000,
                    60000,
                    65000,
                    70000,
                    75000,
                    65000,
                    60000,
                    165000,
                    138000,
                    110000,
                    60000,
                    58000,
                    46000,
                    73000,
                    68000,
                    68000,
                    52000,
                    60000,
                    74000,
                    39150,
                    60000,
                    48000,
                    60000,
                    24000,
                    70000,
                    72000,
                    40800,
                    50000,
                    53000,
                    89000,
                    50000,
                    67500,
                    50000,
                    37000,
                    80000,
                    45000,
                    80000,
                    33600,
                    132000,
                    87500,
                    65000,
                    128000,
                    37000,
                    120000,
                    180000,
                    55000,
                    78000,
                    75000,
                    72000,
                    57000,
                    68000,
                    58000,
                    65000,
                    60000,
                    90000,
                    90000,
                    77000,
                    90000,
                    90000,
                    57500,
                    103000,
                    55000,
                    70000,
                    125000,
                    57000,
                    56000,
                    78000,
                    66000,
                    67000,
                    70000,
                    75000,
                    60000,
                    90000,
                    90000,
                    55000,
                    80000,
                    112000,
                    72000,
                    70000,
                    120000,
                    50000,
                    42000,
                    80000,
                    65000,
                    72000,
                    83000,
                    60000,
                    84000,
                    70000,
                    65000,
                    68000,
                    70000,
                    72000,
                    65000,
                    65000,
                    42000,
                    40000,
                    60000,
                    48000,
                    50000,
                    62000,
                    55000,
                    75000,
                    58000,
                    65000,
                    53600,
                    60000,
                    60000,
                    51600,
                    39600,
                    60500,
                    65000,
                    15000,
                    120000,
                    130000,
                    42000,
                    45000,
                    85000,
                    72000,
                    60000,
                    47000,
                    75000,
                    130000,
                    77000,
                    42000,
                    80000,
                    95000,
                    60000,
                    71000,
                    60000,
                    115000,
                    75000,
                    62500,
                    64000,
                    127000,
                    65000,
                    93000,
                    27000,
                    33000,
                    83200,
                    85000,
                    74000,
                    42000,
                    65000,
                    80400,
                    50000,
                    75000,
                    50000,
                    60000,
                    62500,
                    65000,
                    53000,
                    70000,
                    55000,
                    60000,
                    13000,
                    52000,
                    40000,
                    69000,
                    65000,
                    68000,
                    65000,
                    80000,
                    71500,
                    60000,
                    60000,
                    50000,
                    60000,
                    60000,
                    60000,
                    70000,
                    60000,
                    60000,
                    51000,
                    75000,
                    80000,
                    53000,
                    78000,
                    60000,
                    55555,
                    42000,
                    60000,
                    85000,
                    60000,
                    75000,
                    60000,
                    75000,
                    63000,
                    60000,
                    60000,
                    60000,
                    44000,
                    45000,
                    45000,
                    60000,
                    110000
                  ],
                  "yaxis": "y"
                }
              ],
              "layout": {
                "legend": {
                  "tracegroupgap": 0
                },
                "margin": {
                  "t": 60
                },
                "template": {
                  "data": {
                    "bar": [
                      {
                        "error_x": {
                          "color": "#2a3f5f"
                        },
                        "error_y": {
                          "color": "#2a3f5f"
                        },
                        "marker": {
                          "line": {
                            "color": "#E5ECF6",
                            "width": 0.5
                          }
                        },
                        "type": "bar"
                      }
                    ],
                    "barpolar": [
                      {
                        "marker": {
                          "line": {
                            "color": "#E5ECF6",
                            "width": 0.5
                          }
                        },
                        "type": "barpolar"
                      }
                    ],
                    "carpet": [
                      {
                        "aaxis": {
                          "endlinecolor": "#2a3f5f",
                          "gridcolor": "white",
                          "linecolor": "white",
                          "minorgridcolor": "white",
                          "startlinecolor": "#2a3f5f"
                        },
                        "baxis": {
                          "endlinecolor": "#2a3f5f",
                          "gridcolor": "white",
                          "linecolor": "white",
                          "minorgridcolor": "white",
                          "startlinecolor": "#2a3f5f"
                        },
                        "type": "carpet"
                      }
                    ],
                    "choropleth": [
                      {
                        "colorbar": {
                          "outlinewidth": 0,
                          "ticks": ""
                        },
                        "type": "choropleth"
                      }
                    ],
                    "contour": [
                      {
                        "colorbar": {
                          "outlinewidth": 0,
                          "ticks": ""
                        },
                        "colorscale": [
                          [
                            0,
                            "#0d0887"
                          ],
                          [
                            0.1111111111111111,
                            "#46039f"
                          ],
                          [
                            0.2222222222222222,
                            "#7201a8"
                          ],
                          [
                            0.3333333333333333,
                            "#9c179e"
                          ],
                          [
                            0.4444444444444444,
                            "#bd3786"
                          ],
                          [
                            0.5555555555555556,
                            "#d8576b"
                          ],
                          [
                            0.6666666666666666,
                            "#ed7953"
                          ],
                          [
                            0.7777777777777778,
                            "#fb9f3a"
                          ],
                          [
                            0.8888888888888888,
                            "#fdca26"
                          ],
                          [
                            1,
                            "#f0f921"
                          ]
                        ],
                        "type": "contour"
                      }
                    ],
                    "contourcarpet": [
                      {
                        "colorbar": {
                          "outlinewidth": 0,
                          "ticks": ""
                        },
                        "type": "contourcarpet"
                      }
                    ],
                    "heatmap": [
                      {
                        "colorbar": {
                          "outlinewidth": 0,
                          "ticks": ""
                        },
                        "colorscale": [
                          [
                            0,
                            "#0d0887"
                          ],
                          [
                            0.1111111111111111,
                            "#46039f"
                          ],
                          [
                            0.2222222222222222,
                            "#7201a8"
                          ],
                          [
                            0.3333333333333333,
                            "#9c179e"
                          ],
                          [
                            0.4444444444444444,
                            "#bd3786"
                          ],
                          [
                            0.5555555555555556,
                            "#d8576b"
                          ],
                          [
                            0.6666666666666666,
                            "#ed7953"
                          ],
                          [
                            0.7777777777777778,
                            "#fb9f3a"
                          ],
                          [
                            0.8888888888888888,
                            "#fdca26"
                          ],
                          [
                            1,
                            "#f0f921"
                          ]
                        ],
                        "type": "heatmap"
                      }
                    ],
                    "heatmapgl": [
                      {
                        "colorbar": {
                          "outlinewidth": 0,
                          "ticks": ""
                        },
                        "colorscale": [
                          [
                            0,
                            "#0d0887"
                          ],
                          [
                            0.1111111111111111,
                            "#46039f"
                          ],
                          [
                            0.2222222222222222,
                            "#7201a8"
                          ],
                          [
                            0.3333333333333333,
                            "#9c179e"
                          ],
                          [
                            0.4444444444444444,
                            "#bd3786"
                          ],
                          [
                            0.5555555555555556,
                            "#d8576b"
                          ],
                          [
                            0.6666666666666666,
                            "#ed7953"
                          ],
                          [
                            0.7777777777777778,
                            "#fb9f3a"
                          ],
                          [
                            0.8888888888888888,
                            "#fdca26"
                          ],
                          [
                            1,
                            "#f0f921"
                          ]
                        ],
                        "type": "heatmapgl"
                      }
                    ],
                    "histogram": [
                      {
                        "marker": {
                          "colorbar": {
                            "outlinewidth": 0,
                            "ticks": ""
                          }
                        },
                        "type": "histogram"
                      }
                    ],
                    "histogram2d": [
                      {
                        "colorbar": {
                          "outlinewidth": 0,
                          "ticks": ""
                        },
                        "colorscale": [
                          [
                            0,
                            "#0d0887"
                          ],
                          [
                            0.1111111111111111,
                            "#46039f"
                          ],
                          [
                            0.2222222222222222,
                            "#7201a8"
                          ],
                          [
                            0.3333333333333333,
                            "#9c179e"
                          ],
                          [
                            0.4444444444444444,
                            "#bd3786"
                          ],
                          [
                            0.5555555555555556,
                            "#d8576b"
                          ],
                          [
                            0.6666666666666666,
                            "#ed7953"
                          ],
                          [
                            0.7777777777777778,
                            "#fb9f3a"
                          ],
                          [
                            0.8888888888888888,
                            "#fdca26"
                          ],
                          [
                            1,
                            "#f0f921"
                          ]
                        ],
                        "type": "histogram2d"
                      }
                    ],
                    "histogram2dcontour": [
                      {
                        "colorbar": {
                          "outlinewidth": 0,
                          "ticks": ""
                        },
                        "colorscale": [
                          [
                            0,
                            "#0d0887"
                          ],
                          [
                            0.1111111111111111,
                            "#46039f"
                          ],
                          [
                            0.2222222222222222,
                            "#7201a8"
                          ],
                          [
                            0.3333333333333333,
                            "#9c179e"
                          ],
                          [
                            0.4444444444444444,
                            "#bd3786"
                          ],
                          [
                            0.5555555555555556,
                            "#d8576b"
                          ],
                          [
                            0.6666666666666666,
                            "#ed7953"
                          ],
                          [
                            0.7777777777777778,
                            "#fb9f3a"
                          ],
                          [
                            0.8888888888888888,
                            "#fdca26"
                          ],
                          [
                            1,
                            "#f0f921"
                          ]
                        ],
                        "type": "histogram2dcontour"
                      }
                    ],
                    "mesh3d": [
                      {
                        "colorbar": {
                          "outlinewidth": 0,
                          "ticks": ""
                        },
                        "type": "mesh3d"
                      }
                    ],
                    "parcoords": [
                      {
                        "line": {
                          "colorbar": {
                            "outlinewidth": 0,
                            "ticks": ""
                          }
                        },
                        "type": "parcoords"
                      }
                    ],
                    "pie": [
                      {
                        "automargin": true,
                        "type": "pie"
                      }
                    ],
                    "scatter": [
                      {
                        "marker": {
                          "colorbar": {
                            "outlinewidth": 0,
                            "ticks": ""
                          }
                        },
                        "type": "scatter"
                      }
                    ],
                    "scatter3d": [
                      {
                        "line": {
                          "colorbar": {
                            "outlinewidth": 0,
                            "ticks": ""
                          }
                        },
                        "marker": {
                          "colorbar": {
                            "outlinewidth": 0,
                            "ticks": ""
                          }
                        },
                        "type": "scatter3d"
                      }
                    ],
                    "scattercarpet": [
                      {
                        "marker": {
                          "colorbar": {
                            "outlinewidth": 0,
                            "ticks": ""
                          }
                        },
                        "type": "scattercarpet"
                      }
                    ],
                    "scattergeo": [
                      {
                        "marker": {
                          "colorbar": {
                            "outlinewidth": 0,
                            "ticks": ""
                          }
                        },
                        "type": "scattergeo"
                      }
                    ],
                    "scattergl": [
                      {
                        "marker": {
                          "colorbar": {
                            "outlinewidth": 0,
                            "ticks": ""
                          }
                        },
                        "type": "scattergl"
                      }
                    ],
                    "scattermapbox": [
                      {
                        "marker": {
                          "colorbar": {
                            "outlinewidth": 0,
                            "ticks": ""
                          }
                        },
                        "type": "scattermapbox"
                      }
                    ],
                    "scatterpolar": [
                      {
                        "marker": {
                          "colorbar": {
                            "outlinewidth": 0,
                            "ticks": ""
                          }
                        },
                        "type": "scatterpolar"
                      }
                    ],
                    "scatterpolargl": [
                      {
                        "marker": {
                          "colorbar": {
                            "outlinewidth": 0,
                            "ticks": ""
                          }
                        },
                        "type": "scatterpolargl"
                      }
                    ],
                    "scatterternary": [
                      {
                        "marker": {
                          "colorbar": {
                            "outlinewidth": 0,
                            "ticks": ""
                          }
                        },
                        "type": "scatterternary"
                      }
                    ],
                    "surface": [
                      {
                        "colorbar": {
                          "outlinewidth": 0,
                          "ticks": ""
                        },
                        "colorscale": [
                          [
                            0,
                            "#0d0887"
                          ],
                          [
                            0.1111111111111111,
                            "#46039f"
                          ],
                          [
                            0.2222222222222222,
                            "#7201a8"
                          ],
                          [
                            0.3333333333333333,
                            "#9c179e"
                          ],
                          [
                            0.4444444444444444,
                            "#bd3786"
                          ],
                          [
                            0.5555555555555556,
                            "#d8576b"
                          ],
                          [
                            0.6666666666666666,
                            "#ed7953"
                          ],
                          [
                            0.7777777777777778,
                            "#fb9f3a"
                          ],
                          [
                            0.8888888888888888,
                            "#fdca26"
                          ],
                          [
                            1,
                            "#f0f921"
                          ]
                        ],
                        "type": "surface"
                      }
                    ],
                    "table": [
                      {
                        "cells": {
                          "fill": {
                            "color": "#EBF0F8"
                          },
                          "line": {
                            "color": "white"
                          }
                        },
                        "header": {
                          "fill": {
                            "color": "#C8D4E3"
                          },
                          "line": {
                            "color": "white"
                          }
                        },
                        "type": "table"
                      }
                    ]
                  },
                  "layout": {
                    "annotationdefaults": {
                      "arrowcolor": "#2a3f5f",
                      "arrowhead": 0,
                      "arrowwidth": 1
                    },
                    "autotypenumbers": "strict",
                    "coloraxis": {
                      "colorbar": {
                        "outlinewidth": 0,
                        "ticks": ""
                      }
                    },
                    "colorscale": {
                      "diverging": [
                        [
                          0,
                          "#8e0152"
                        ],
                        [
                          0.1,
                          "#c51b7d"
                        ],
                        [
                          0.2,
                          "#de77ae"
                        ],
                        [
                          0.3,
                          "#f1b6da"
                        ],
                        [
                          0.4,
                          "#fde0ef"
                        ],
                        [
                          0.5,
                          "#f7f7f7"
                        ],
                        [
                          0.6,
                          "#e6f5d0"
                        ],
                        [
                          0.7,
                          "#b8e186"
                        ],
                        [
                          0.8,
                          "#7fbc41"
                        ],
                        [
                          0.9,
                          "#4d9221"
                        ],
                        [
                          1,
                          "#276419"
                        ]
                      ],
                      "sequential": [
                        [
                          0,
                          "#0d0887"
                        ],
                        [
                          0.1111111111111111,
                          "#46039f"
                        ],
                        [
                          0.2222222222222222,
                          "#7201a8"
                        ],
                        [
                          0.3333333333333333,
                          "#9c179e"
                        ],
                        [
                          0.4444444444444444,
                          "#bd3786"
                        ],
                        [
                          0.5555555555555556,
                          "#d8576b"
                        ],
                        [
                          0.6666666666666666,
                          "#ed7953"
                        ],
                        [
                          0.7777777777777778,
                          "#fb9f3a"
                        ],
                        [
                          0.8888888888888888,
                          "#fdca26"
                        ],
                        [
                          1,
                          "#f0f921"
                        ]
                      ],
                      "sequentialminus": [
                        [
                          0,
                          "#0d0887"
                        ],
                        [
                          0.1111111111111111,
                          "#46039f"
                        ],
                        [
                          0.2222222222222222,
                          "#7201a8"
                        ],
                        [
                          0.3333333333333333,
                          "#9c179e"
                        ],
                        [
                          0.4444444444444444,
                          "#bd3786"
                        ],
                        [
                          0.5555555555555556,
                          "#d8576b"
                        ],
                        [
                          0.6666666666666666,
                          "#ed7953"
                        ],
                        [
                          0.7777777777777778,
                          "#fb9f3a"
                        ],
                        [
                          0.8888888888888888,
                          "#fdca26"
                        ],
                        [
                          1,
                          "#f0f921"
                        ]
                      ]
                    },
                    "colorway": [
                      "#636efa",
                      "#EF553B",
                      "#00cc96",
                      "#ab63fa",
                      "#FFA15A",
                      "#19d3f3",
                      "#FF6692",
                      "#B6E880",
                      "#FF97FF",
                      "#FECB52"
                    ],
                    "font": {
                      "color": "#2a3f5f"
                    },
                    "geo": {
                      "bgcolor": "white",
                      "lakecolor": "white",
                      "landcolor": "#E5ECF6",
                      "showlakes": true,
                      "showland": true,
                      "subunitcolor": "white"
                    },
                    "hoverlabel": {
                      "align": "left"
                    },
                    "hovermode": "closest",
                    "mapbox": {
                      "style": "light"
                    },
                    "paper_bgcolor": "white",
                    "plot_bgcolor": "#E5ECF6",
                    "polar": {
                      "angularaxis": {
                        "gridcolor": "white",
                        "linecolor": "white",
                        "ticks": ""
                      },
                      "bgcolor": "#E5ECF6",
                      "radialaxis": {
                        "gridcolor": "white",
                        "linecolor": "white",
                        "ticks": ""
                      }
                    },
                    "scene": {
                      "xaxis": {
                        "backgroundcolor": "#E5ECF6",
                        "gridcolor": "white",
                        "gridwidth": 2,
                        "linecolor": "white",
                        "showbackground": true,
                        "ticks": "",
                        "zerolinecolor": "white"
                      },
                      "yaxis": {
                        "backgroundcolor": "#E5ECF6",
                        "gridcolor": "white",
                        "gridwidth": 2,
                        "linecolor": "white",
                        "showbackground": true,
                        "ticks": "",
                        "zerolinecolor": "white"
                      },
                      "zaxis": {
                        "backgroundcolor": "#E5ECF6",
                        "gridcolor": "white",
                        "gridwidth": 2,
                        "linecolor": "white",
                        "showbackground": true,
                        "ticks": "",
                        "zerolinecolor": "white"
                      }
                    },
                    "shapedefaults": {
                      "line": {
                        "color": "#2a3f5f"
                      }
                    },
                    "ternary": {
                      "aaxis": {
                        "gridcolor": "white",
                        "linecolor": "white",
                        "ticks": ""
                      },
                      "baxis": {
                        "gridcolor": "white",
                        "linecolor": "white",
                        "ticks": ""
                      },
                      "bgcolor": "#E5ECF6",
                      "caxis": {
                        "gridcolor": "white",
                        "linecolor": "white",
                        "ticks": ""
                      }
                    },
                    "title": {
                      "x": 0.05
                    },
                    "xaxis": {
                      "automargin": true,
                      "gridcolor": "white",
                      "linecolor": "white",
                      "ticks": "",
                      "title": {
                        "standoff": 15
                      },
                      "zerolinecolor": "white",
                      "zerolinewidth": 2
                    },
                    "yaxis": {
                      "automargin": true,
                      "gridcolor": "white",
                      "linecolor": "white",
                      "ticks": "",
                      "title": {
                        "standoff": 15
                      },
                      "zerolinecolor": "white",
                      "zerolinewidth": 2
                    }
                  }
                },
                "xaxis": {
                  "anchor": "y",
                  "domain": [
                    0,
                    1
                  ],
                  "title": {
                    "text": "Years of experience"
                  }
                },
                "yaxis": {
                  "anchor": "x",
                  "domain": [
                    0,
                    1
                  ],
                  "title": {
                    "text": "Current Salary"
                  }
                }
              }
            }
          },
          "metadata": {},
          "output_type": "display_data"
        }
      ],
      "source": [
        "fig1=px.line(data_18,x='Years of experience',y='Current Salary')\n",
        "fig1.show()"
      ]
    },
    {
      "cell_type": "code",
      "execution_count": 301,
      "metadata": {},
      "outputs": [
        {
          "data": {
            "text/plain": "Product                785\nStartup                252\nConsulting / Agency    142\nBank                     5\nMedia                    3\n                      ... \nHandel                   1\nCloud                    1\nBig commercial           1\nE-Commerce               1\nSaaS                     1\nName: Company type, Length: 63, dtype: int64"
          },
          "execution_count": 301,
          "metadata": {},
          "output_type": "execute_result"
        }
      ],
      "source": [
        "df=data_20['Company type'].value_counts()\n",
        "df"
      ]
    },
    {
      "cell_type": "code",
      "execution_count": 320,
      "metadata": {},
      "outputs": [
        {
          "data": {
            "text/plain": "Product                785\nStartup                252\nConsulting / Agency    142\nBank                     5\nMedia                    3\n                      ... \nHandel                   1\nCloud                    1\nBig commercial           1\nE-Commerce               1\nSaaS                     1\nName: Company type, Length: 63, dtype: int64"
          },
          "execution_count": 320,
          "metadata": {},
          "output_type": "execute_result"
        }
      ],
      "source": [
        "df2=df[0:]\n",
        "df2"
      ]
    },
    {
      "cell_type": "code",
      "execution_count": 345,
      "metadata": {},
      "outputs": [
        {
          "data": {
            "application/vnd.plotly.v1+json": {
              "config": {
                "plotlyServerURL": "https://plot.ly"
              },
              "data": [
                {
                  "domain": {
                    "x": [
                      0,
                      1
                    ],
                    "y": [
                      0,
                      1
                    ]
                  },
                  "hovertemplate": "Company type=%{label}<br>value=%{value}<extra></extra>",
                  "labels": [
                    785,
                    252,
                    142,
                    5,
                    3,
                    3,
                    2,
                    2,
                    2,
                    2,
                    2,
                    2,
                    1,
                    1,
                    1,
                    1,
                    1,
                    1,
                    1,
                    1,
                    1,
                    1,
                    1,
                    1,
                    1,
                    1,
                    1,
                    1,
                    1,
                    1,
                    1,
                    1,
                    1,
                    1,
                    1,
                    1,
                    1,
                    1,
                    1,
                    1,
                    1,
                    1,
                    1,
                    1,
                    1,
                    1,
                    1,
                    1,
                    1,
                    1,
                    1,
                    1,
                    1,
                    1,
                    1,
                    1,
                    1,
                    1,
                    1,
                    1,
                    1,
                    1,
                    1
                  ],
                  "legendgroup": "",
                  "name": "",
                  "showlegend": true,
                  "type": "pie",
                  "values": [
                    785,
                    252,
                    142,
                    5,
                    3,
                    3,
                    2,
                    2,
                    2,
                    2,
                    2,
                    2,
                    1,
                    1,
                    1,
                    1,
                    1,
                    1,
                    1,
                    1,
                    1,
                    1,
                    1,
                    1,
                    1,
                    1,
                    1,
                    1,
                    1,
                    1,
                    1,
                    1,
                    1,
                    1,
                    1,
                    1,
                    1,
                    1,
                    1,
                    1,
                    1,
                    1,
                    1,
                    1,
                    1,
                    1,
                    1,
                    1,
                    1,
                    1,
                    1,
                    1,
                    1,
                    1,
                    1,
                    1,
                    1,
                    1,
                    1,
                    1,
                    1,
                    1,
                    1
                  ]
                }
              ],
              "layout": {
                "legend": {
                  "tracegroupgap": 0
                },
                "template": {
                  "data": {
                    "bar": [
                      {
                        "error_x": {
                          "color": "#2a3f5f"
                        },
                        "error_y": {
                          "color": "#2a3f5f"
                        },
                        "marker": {
                          "line": {
                            "color": "#E5ECF6",
                            "width": 0.5
                          }
                        },
                        "type": "bar"
                      }
                    ],
                    "barpolar": [
                      {
                        "marker": {
                          "line": {
                            "color": "#E5ECF6",
                            "width": 0.5
                          }
                        },
                        "type": "barpolar"
                      }
                    ],
                    "carpet": [
                      {
                        "aaxis": {
                          "endlinecolor": "#2a3f5f",
                          "gridcolor": "white",
                          "linecolor": "white",
                          "minorgridcolor": "white",
                          "startlinecolor": "#2a3f5f"
                        },
                        "baxis": {
                          "endlinecolor": "#2a3f5f",
                          "gridcolor": "white",
                          "linecolor": "white",
                          "minorgridcolor": "white",
                          "startlinecolor": "#2a3f5f"
                        },
                        "type": "carpet"
                      }
                    ],
                    "choropleth": [
                      {
                        "colorbar": {
                          "outlinewidth": 0,
                          "ticks": ""
                        },
                        "type": "choropleth"
                      }
                    ],
                    "contour": [
                      {
                        "colorbar": {
                          "outlinewidth": 0,
                          "ticks": ""
                        },
                        "colorscale": [
                          [
                            0,
                            "#0d0887"
                          ],
                          [
                            0.1111111111111111,
                            "#46039f"
                          ],
                          [
                            0.2222222222222222,
                            "#7201a8"
                          ],
                          [
                            0.3333333333333333,
                            "#9c179e"
                          ],
                          [
                            0.4444444444444444,
                            "#bd3786"
                          ],
                          [
                            0.5555555555555556,
                            "#d8576b"
                          ],
                          [
                            0.6666666666666666,
                            "#ed7953"
                          ],
                          [
                            0.7777777777777778,
                            "#fb9f3a"
                          ],
                          [
                            0.8888888888888888,
                            "#fdca26"
                          ],
                          [
                            1,
                            "#f0f921"
                          ]
                        ],
                        "type": "contour"
                      }
                    ],
                    "contourcarpet": [
                      {
                        "colorbar": {
                          "outlinewidth": 0,
                          "ticks": ""
                        },
                        "type": "contourcarpet"
                      }
                    ],
                    "heatmap": [
                      {
                        "colorbar": {
                          "outlinewidth": 0,
                          "ticks": ""
                        },
                        "colorscale": [
                          [
                            0,
                            "#0d0887"
                          ],
                          [
                            0.1111111111111111,
                            "#46039f"
                          ],
                          [
                            0.2222222222222222,
                            "#7201a8"
                          ],
                          [
                            0.3333333333333333,
                            "#9c179e"
                          ],
                          [
                            0.4444444444444444,
                            "#bd3786"
                          ],
                          [
                            0.5555555555555556,
                            "#d8576b"
                          ],
                          [
                            0.6666666666666666,
                            "#ed7953"
                          ],
                          [
                            0.7777777777777778,
                            "#fb9f3a"
                          ],
                          [
                            0.8888888888888888,
                            "#fdca26"
                          ],
                          [
                            1,
                            "#f0f921"
                          ]
                        ],
                        "type": "heatmap"
                      }
                    ],
                    "heatmapgl": [
                      {
                        "colorbar": {
                          "outlinewidth": 0,
                          "ticks": ""
                        },
                        "colorscale": [
                          [
                            0,
                            "#0d0887"
                          ],
                          [
                            0.1111111111111111,
                            "#46039f"
                          ],
                          [
                            0.2222222222222222,
                            "#7201a8"
                          ],
                          [
                            0.3333333333333333,
                            "#9c179e"
                          ],
                          [
                            0.4444444444444444,
                            "#bd3786"
                          ],
                          [
                            0.5555555555555556,
                            "#d8576b"
                          ],
                          [
                            0.6666666666666666,
                            "#ed7953"
                          ],
                          [
                            0.7777777777777778,
                            "#fb9f3a"
                          ],
                          [
                            0.8888888888888888,
                            "#fdca26"
                          ],
                          [
                            1,
                            "#f0f921"
                          ]
                        ],
                        "type": "heatmapgl"
                      }
                    ],
                    "histogram": [
                      {
                        "marker": {
                          "colorbar": {
                            "outlinewidth": 0,
                            "ticks": ""
                          }
                        },
                        "type": "histogram"
                      }
                    ],
                    "histogram2d": [
                      {
                        "colorbar": {
                          "outlinewidth": 0,
                          "ticks": ""
                        },
                        "colorscale": [
                          [
                            0,
                            "#0d0887"
                          ],
                          [
                            0.1111111111111111,
                            "#46039f"
                          ],
                          [
                            0.2222222222222222,
                            "#7201a8"
                          ],
                          [
                            0.3333333333333333,
                            "#9c179e"
                          ],
                          [
                            0.4444444444444444,
                            "#bd3786"
                          ],
                          [
                            0.5555555555555556,
                            "#d8576b"
                          ],
                          [
                            0.6666666666666666,
                            "#ed7953"
                          ],
                          [
                            0.7777777777777778,
                            "#fb9f3a"
                          ],
                          [
                            0.8888888888888888,
                            "#fdca26"
                          ],
                          [
                            1,
                            "#f0f921"
                          ]
                        ],
                        "type": "histogram2d"
                      }
                    ],
                    "histogram2dcontour": [
                      {
                        "colorbar": {
                          "outlinewidth": 0,
                          "ticks": ""
                        },
                        "colorscale": [
                          [
                            0,
                            "#0d0887"
                          ],
                          [
                            0.1111111111111111,
                            "#46039f"
                          ],
                          [
                            0.2222222222222222,
                            "#7201a8"
                          ],
                          [
                            0.3333333333333333,
                            "#9c179e"
                          ],
                          [
                            0.4444444444444444,
                            "#bd3786"
                          ],
                          [
                            0.5555555555555556,
                            "#d8576b"
                          ],
                          [
                            0.6666666666666666,
                            "#ed7953"
                          ],
                          [
                            0.7777777777777778,
                            "#fb9f3a"
                          ],
                          [
                            0.8888888888888888,
                            "#fdca26"
                          ],
                          [
                            1,
                            "#f0f921"
                          ]
                        ],
                        "type": "histogram2dcontour"
                      }
                    ],
                    "mesh3d": [
                      {
                        "colorbar": {
                          "outlinewidth": 0,
                          "ticks": ""
                        },
                        "type": "mesh3d"
                      }
                    ],
                    "parcoords": [
                      {
                        "line": {
                          "colorbar": {
                            "outlinewidth": 0,
                            "ticks": ""
                          }
                        },
                        "type": "parcoords"
                      }
                    ],
                    "pie": [
                      {
                        "automargin": true,
                        "type": "pie"
                      }
                    ],
                    "scatter": [
                      {
                        "marker": {
                          "colorbar": {
                            "outlinewidth": 0,
                            "ticks": ""
                          }
                        },
                        "type": "scatter"
                      }
                    ],
                    "scatter3d": [
                      {
                        "line": {
                          "colorbar": {
                            "outlinewidth": 0,
                            "ticks": ""
                          }
                        },
                        "marker": {
                          "colorbar": {
                            "outlinewidth": 0,
                            "ticks": ""
                          }
                        },
                        "type": "scatter3d"
                      }
                    ],
                    "scattercarpet": [
                      {
                        "marker": {
                          "colorbar": {
                            "outlinewidth": 0,
                            "ticks": ""
                          }
                        },
                        "type": "scattercarpet"
                      }
                    ],
                    "scattergeo": [
                      {
                        "marker": {
                          "colorbar": {
                            "outlinewidth": 0,
                            "ticks": ""
                          }
                        },
                        "type": "scattergeo"
                      }
                    ],
                    "scattergl": [
                      {
                        "marker": {
                          "colorbar": {
                            "outlinewidth": 0,
                            "ticks": ""
                          }
                        },
                        "type": "scattergl"
                      }
                    ],
                    "scattermapbox": [
                      {
                        "marker": {
                          "colorbar": {
                            "outlinewidth": 0,
                            "ticks": ""
                          }
                        },
                        "type": "scattermapbox"
                      }
                    ],
                    "scatterpolar": [
                      {
                        "marker": {
                          "colorbar": {
                            "outlinewidth": 0,
                            "ticks": ""
                          }
                        },
                        "type": "scatterpolar"
                      }
                    ],
                    "scatterpolargl": [
                      {
                        "marker": {
                          "colorbar": {
                            "outlinewidth": 0,
                            "ticks": ""
                          }
                        },
                        "type": "scatterpolargl"
                      }
                    ],
                    "scatterternary": [
                      {
                        "marker": {
                          "colorbar": {
                            "outlinewidth": 0,
                            "ticks": ""
                          }
                        },
                        "type": "scatterternary"
                      }
                    ],
                    "surface": [
                      {
                        "colorbar": {
                          "outlinewidth": 0,
                          "ticks": ""
                        },
                        "colorscale": [
                          [
                            0,
                            "#0d0887"
                          ],
                          [
                            0.1111111111111111,
                            "#46039f"
                          ],
                          [
                            0.2222222222222222,
                            "#7201a8"
                          ],
                          [
                            0.3333333333333333,
                            "#9c179e"
                          ],
                          [
                            0.4444444444444444,
                            "#bd3786"
                          ],
                          [
                            0.5555555555555556,
                            "#d8576b"
                          ],
                          [
                            0.6666666666666666,
                            "#ed7953"
                          ],
                          [
                            0.7777777777777778,
                            "#fb9f3a"
                          ],
                          [
                            0.8888888888888888,
                            "#fdca26"
                          ],
                          [
                            1,
                            "#f0f921"
                          ]
                        ],
                        "type": "surface"
                      }
                    ],
                    "table": [
                      {
                        "cells": {
                          "fill": {
                            "color": "#EBF0F8"
                          },
                          "line": {
                            "color": "white"
                          }
                        },
                        "header": {
                          "fill": {
                            "color": "#C8D4E3"
                          },
                          "line": {
                            "color": "white"
                          }
                        },
                        "type": "table"
                      }
                    ]
                  },
                  "layout": {
                    "annotationdefaults": {
                      "arrowcolor": "#2a3f5f",
                      "arrowhead": 0,
                      "arrowwidth": 1
                    },
                    "autotypenumbers": "strict",
                    "coloraxis": {
                      "colorbar": {
                        "outlinewidth": 0,
                        "ticks": ""
                      }
                    },
                    "colorscale": {
                      "diverging": [
                        [
                          0,
                          "#8e0152"
                        ],
                        [
                          0.1,
                          "#c51b7d"
                        ],
                        [
                          0.2,
                          "#de77ae"
                        ],
                        [
                          0.3,
                          "#f1b6da"
                        ],
                        [
                          0.4,
                          "#fde0ef"
                        ],
                        [
                          0.5,
                          "#f7f7f7"
                        ],
                        [
                          0.6,
                          "#e6f5d0"
                        ],
                        [
                          0.7,
                          "#b8e186"
                        ],
                        [
                          0.8,
                          "#7fbc41"
                        ],
                        [
                          0.9,
                          "#4d9221"
                        ],
                        [
                          1,
                          "#276419"
                        ]
                      ],
                      "sequential": [
                        [
                          0,
                          "#0d0887"
                        ],
                        [
                          0.1111111111111111,
                          "#46039f"
                        ],
                        [
                          0.2222222222222222,
                          "#7201a8"
                        ],
                        [
                          0.3333333333333333,
                          "#9c179e"
                        ],
                        [
                          0.4444444444444444,
                          "#bd3786"
                        ],
                        [
                          0.5555555555555556,
                          "#d8576b"
                        ],
                        [
                          0.6666666666666666,
                          "#ed7953"
                        ],
                        [
                          0.7777777777777778,
                          "#fb9f3a"
                        ],
                        [
                          0.8888888888888888,
                          "#fdca26"
                        ],
                        [
                          1,
                          "#f0f921"
                        ]
                      ],
                      "sequentialminus": [
                        [
                          0,
                          "#0d0887"
                        ],
                        [
                          0.1111111111111111,
                          "#46039f"
                        ],
                        [
                          0.2222222222222222,
                          "#7201a8"
                        ],
                        [
                          0.3333333333333333,
                          "#9c179e"
                        ],
                        [
                          0.4444444444444444,
                          "#bd3786"
                        ],
                        [
                          0.5555555555555556,
                          "#d8576b"
                        ],
                        [
                          0.6666666666666666,
                          "#ed7953"
                        ],
                        [
                          0.7777777777777778,
                          "#fb9f3a"
                        ],
                        [
                          0.8888888888888888,
                          "#fdca26"
                        ],
                        [
                          1,
                          "#f0f921"
                        ]
                      ]
                    },
                    "colorway": [
                      "#636efa",
                      "#EF553B",
                      "#00cc96",
                      "#ab63fa",
                      "#FFA15A",
                      "#19d3f3",
                      "#FF6692",
                      "#B6E880",
                      "#FF97FF",
                      "#FECB52"
                    ],
                    "font": {
                      "color": "#2a3f5f"
                    },
                    "geo": {
                      "bgcolor": "white",
                      "lakecolor": "white",
                      "landcolor": "#E5ECF6",
                      "showlakes": true,
                      "showland": true,
                      "subunitcolor": "white"
                    },
                    "hoverlabel": {
                      "align": "left"
                    },
                    "hovermode": "closest",
                    "mapbox": {
                      "style": "light"
                    },
                    "paper_bgcolor": "white",
                    "plot_bgcolor": "#E5ECF6",
                    "polar": {
                      "angularaxis": {
                        "gridcolor": "white",
                        "linecolor": "white",
                        "ticks": ""
                      },
                      "bgcolor": "#E5ECF6",
                      "radialaxis": {
                        "gridcolor": "white",
                        "linecolor": "white",
                        "ticks": ""
                      }
                    },
                    "scene": {
                      "xaxis": {
                        "backgroundcolor": "#E5ECF6",
                        "gridcolor": "white",
                        "gridwidth": 2,
                        "linecolor": "white",
                        "showbackground": true,
                        "ticks": "",
                        "zerolinecolor": "white"
                      },
                      "yaxis": {
                        "backgroundcolor": "#E5ECF6",
                        "gridcolor": "white",
                        "gridwidth": 2,
                        "linecolor": "white",
                        "showbackground": true,
                        "ticks": "",
                        "zerolinecolor": "white"
                      },
                      "zaxis": {
                        "backgroundcolor": "#E5ECF6",
                        "gridcolor": "white",
                        "gridwidth": 2,
                        "linecolor": "white",
                        "showbackground": true,
                        "ticks": "",
                        "zerolinecolor": "white"
                      }
                    },
                    "shapedefaults": {
                      "line": {
                        "color": "#2a3f5f"
                      }
                    },
                    "ternary": {
                      "aaxis": {
                        "gridcolor": "white",
                        "linecolor": "white",
                        "ticks": ""
                      },
                      "baxis": {
                        "gridcolor": "white",
                        "linecolor": "white",
                        "ticks": ""
                      },
                      "bgcolor": "#E5ECF6",
                      "caxis": {
                        "gridcolor": "white",
                        "linecolor": "white",
                        "ticks": ""
                      }
                    },
                    "title": {
                      "x": 0.05
                    },
                    "xaxis": {
                      "automargin": true,
                      "gridcolor": "white",
                      "linecolor": "white",
                      "ticks": "",
                      "title": {
                        "standoff": 15
                      },
                      "zerolinecolor": "white",
                      "zerolinewidth": 2
                    },
                    "yaxis": {
                      "automargin": true,
                      "gridcolor": "white",
                      "linecolor": "white",
                      "ticks": "",
                      "title": {
                        "standoff": 15
                      },
                      "zerolinecolor": "white",
                      "zerolinewidth": 2
                    }
                  }
                },
                "title": {
                  "text": "Company name"
                }
              }
            }
          },
          "metadata": {},
          "output_type": "display_data"
        }
      ],
      "source": [
        "import plotly.express as px\n",
        "fig=px.pie(df2,values=data_20['Company type'].value_counts(), \n",
        "           names='Company type' ,\n",
        "            title='Company name')\n",
        "fig.show()"
      ]
    },
    {
      "cell_type": "code",
      "execution_count": 325,
      "metadata": {},
      "outputs": [
        {
          "data": {
            "application/vnd.plotly.v1+json": {
              "config": {
                "plotlyServerURL": "https://plot.ly"
              },
              "data": [
                {
                  "hovertemplate": "Total years of experience=%{x}<br>Yearly brutto salary (without bonus and stocks) in EUR=%{y}<extra></extra>",
                  "legendgroup": "",
                  "line": {
                    "color": "#636efa",
                    "dash": "solid"
                  },
                  "mode": "lines",
                  "name": "",
                  "showlegend": false,
                  "type": "scattergl",
                  "x": [
                    "5",
                    "7",
                    "12",
                    "4",
                    "17",
                    "5",
                    "6",
                    "5",
                    "8",
                    "15",
                    "2",
                    "25",
                    "10",
                    "14",
                    "11",
                    "5",
                    "7",
                    "18",
                    "8",
                    "11",
                    "13",
                    "15",
                    "5",
                    "30",
                    "17",
                    "18",
                    "6",
                    "6",
                    "14",
                    "13",
                    "6",
                    "5",
                    "7",
                    "8",
                    "8",
                    "5",
                    "7",
                    "8",
                    "5",
                    "10",
                    "7",
                    "15",
                    "10",
                    "12",
                    "6",
                    "25",
                    "5",
                    "3",
                    "12",
                    "7",
                    "10",
                    "7",
                    "8",
                    "8",
                    "12",
                    "10",
                    "11",
                    "15",
                    "5",
                    "40",
                    "10",
                    "5",
                    "5",
                    "13",
                    "7",
                    "15",
                    "10",
                    "26",
                    "23",
                    "3",
                    "6",
                    "15",
                    "10",
                    "7",
                    "11",
                    "5",
                    "8",
                    "4",
                    "5",
                    "6",
                    "8",
                    "6",
                    "10",
                    "17",
                    "5",
                    "5",
                    "9",
                    "10",
                    "4",
                    "7",
                    "4",
                    "5",
                    "3",
                    "6",
                    "8",
                    "5",
                    "8",
                    "14",
                    "7",
                    "8",
                    "7",
                    "10",
                    "6",
                    "10",
                    "3",
                    "12",
                    "5",
                    "12",
                    "15",
                    "3",
                    "6",
                    "7",
                    "12",
                    "6",
                    "8",
                    "5",
                    "6",
                    "8",
                    "8",
                    "11",
                    "5",
                    "10",
                    "6",
                    "3",
                    "6",
                    "18",
                    "9",
                    "6",
                    "8",
                    "12",
                    "10",
                    "17",
                    "5",
                    "19",
                    "7",
                    "6",
                    "13",
                    "20",
                    "10",
                    "6",
                    "12",
                    "10",
                    "10",
                    "14",
                    "7",
                    "5.5",
                    "4",
                    "7",
                    "12",
                    "3",
                    "4",
                    "20",
                    "7",
                    "20",
                    "14",
                    "8",
                    "10",
                    "11",
                    "4",
                    "7",
                    "12",
                    "5",
                    "22",
                    "10",
                    "10",
                    "6",
                    "10",
                    "4",
                    "6",
                    "4",
                    "9",
                    "5",
                    "8",
                    "25",
                    "13",
                    "5",
                    "10",
                    "14",
                    "18",
                    "8",
                    "11",
                    "14",
                    "8",
                    "12",
                    "10",
                    "20",
                    "10",
                    "12",
                    "6",
                    "10",
                    "12",
                    "5",
                    "13",
                    "12",
                    "7",
                    "12",
                    "13",
                    "6",
                    "15",
                    "9",
                    "8",
                    "9",
                    "10",
                    "7",
                    "10",
                    "10",
                    "6",
                    "20",
                    "16",
                    "5",
                    "3",
                    "12",
                    "11",
                    "5",
                    "3",
                    "5",
                    "14",
                    "5",
                    "10",
                    "6",
                    "7",
                    "9",
                    "14",
                    "10",
                    "15",
                    "0.8",
                    "4",
                    "8",
                    "10",
                    "11",
                    "3",
                    "2",
                    "9",
                    "15",
                    "1",
                    "9",
                    "8",
                    "10",
                    "7",
                    "6",
                    "4",
                    "9",
                    "6",
                    "15",
                    "1.5",
                    "6",
                    "14",
                    "12",
                    "16",
                    "9",
                    "14",
                    "10",
                    "1",
                    "5",
                    "11",
                    "12",
                    "8",
                    "1",
                    "10",
                    "12",
                    "9",
                    "11",
                    "15",
                    "7",
                    "4",
                    "14",
                    "12",
                    "5",
                    "2",
                    "14",
                    "9",
                    "14",
                    "19",
                    "6",
                    "9",
                    "18",
                    "12",
                    "5",
                    "7",
                    "10",
                    "10",
                    "8",
                    "6.5",
                    "10",
                    "20",
                    "6",
                    "12",
                    "9",
                    "11",
                    "9",
                    "21",
                    "10",
                    "25",
                    "6",
                    "7",
                    "12",
                    "25",
                    "10",
                    "12",
                    "7",
                    "7.5",
                    "17",
                    "7",
                    "12",
                    "10",
                    "12",
                    "10",
                    "12",
                    "8",
                    "13",
                    "9",
                    "7",
                    "15",
                    "5",
                    "15",
                    "22",
                    "9",
                    "4",
                    "1",
                    "14",
                    "14",
                    "4",
                    "15",
                    "11",
                    "11",
                    "7",
                    "12",
                    "8",
                    "5",
                    "10",
                    "2",
                    "9",
                    "10",
                    "2.5",
                    "7",
                    "10",
                    "4",
                    "22",
                    "8",
                    "5",
                    "10",
                    "2",
                    "9",
                    "3",
                    "3",
                    "8",
                    "18",
                    "5",
                    "5",
                    "20",
                    "3",
                    "9",
                    "6",
                    "8",
                    "15",
                    "6",
                    "8",
                    "5",
                    "5",
                    "13",
                    "5",
                    "7",
                    "22",
                    "9",
                    "11",
                    "9",
                    "3",
                    "4",
                    "11",
                    "28",
                    "5",
                    "12",
                    "12",
                    "4",
                    "8",
                    "10",
                    "10",
                    "8",
                    "2",
                    "5",
                    "15",
                    "10",
                    "4",
                    "19",
                    "14",
                    "7",
                    "3",
                    "3",
                    "13",
                    "7",
                    "5",
                    "2",
                    "20",
                    "5",
                    "5",
                    "11",
                    "15",
                    "10",
                    "4",
                    "5",
                    "4",
                    "11",
                    "3",
                    "29",
                    "15",
                    "10",
                    "11",
                    "10",
                    "8",
                    "3",
                    "8",
                    "9",
                    "2",
                    "8",
                    "10",
                    "8",
                    "4",
                    "4",
                    "4",
                    "3",
                    "2",
                    "9",
                    "4",
                    "15",
                    "20",
                    "8",
                    "2",
                    "7",
                    "4",
                    "3",
                    "3",
                    "4",
                    "5",
                    "8",
                    "10",
                    "11",
                    "2",
                    "7",
                    "5",
                    "7",
                    "10",
                    "10",
                    "6",
                    "3",
                    "3",
                    "3",
                    "6",
                    "2",
                    "2",
                    "23",
                    "10",
                    "12",
                    "8",
                    "5",
                    "10",
                    "2",
                    "11",
                    "10",
                    "5",
                    "16",
                    "12",
                    "6",
                    "13",
                    "9",
                    "9",
                    "14",
                    "10",
                    "15",
                    "10",
                    "5",
                    "6",
                    "4",
                    "11",
                    "10",
                    "12",
                    "10",
                    "7",
                    "15",
                    "4",
                    "6",
                    "3",
                    "10",
                    "10",
                    "2",
                    "4",
                    "6",
                    "1,5",
                    "17",
                    "13",
                    "6",
                    "8",
                    "18",
                    "5",
                    "14",
                    "11",
                    "10",
                    "10",
                    "15",
                    "3",
                    "1",
                    "2",
                    "10",
                    "9",
                    "11",
                    "10",
                    "2",
                    "21",
                    "14",
                    "9",
                    "1",
                    "1",
                    "12",
                    "2",
                    "11",
                    "2",
                    "17",
                    "13",
                    "6",
                    "7",
                    "6",
                    "4",
                    "3",
                    "4",
                    "10",
                    "9",
                    "3",
                    "10",
                    "4",
                    "20",
                    "15",
                    "10",
                    "6",
                    "6",
                    "7",
                    "4",
                    "16",
                    "5",
                    "7",
                    "5",
                    "10",
                    "5",
                    "5",
                    "5",
                    "18",
                    "4",
                    "10",
                    "5",
                    "7",
                    "16",
                    "5",
                    "8",
                    "8",
                    "5",
                    "6",
                    "9",
                    "10",
                    "6",
                    "10",
                    "24",
                    "10",
                    "7",
                    "10",
                    "2",
                    "6",
                    "5",
                    "2",
                    "3",
                    "3",
                    "4",
                    "7",
                    "4",
                    "2",
                    "1",
                    "11",
                    "20",
                    "6",
                    "1",
                    "10",
                    "5",
                    "4",
                    "3",
                    "4",
                    "4",
                    "11",
                    "10",
                    "9",
                    "10",
                    "4",
                    "7",
                    "4",
                    "7",
                    "10",
                    "10",
                    "6",
                    "15",
                    "15",
                    "8",
                    "15",
                    "10",
                    "13",
                    "5",
                    "0",
                    "18",
                    "20",
                    "18",
                    "6",
                    "10",
                    "3",
                    "5",
                    "3",
                    "4.5",
                    "10",
                    "30",
                    "15",
                    "9",
                    "15",
                    "15",
                    "16",
                    "4",
                    "14",
                    "20",
                    "7",
                    "15",
                    "12",
                    "10",
                    "13",
                    "10",
                    "4",
                    "3",
                    "6",
                    "20",
                    "3",
                    "9",
                    "15",
                    "20",
                    "8",
                    "13",
                    "15",
                    "10",
                    "5",
                    "27",
                    "10",
                    "6",
                    "1",
                    "6",
                    "8",
                    "4",
                    "3",
                    "2",
                    "8",
                    "10",
                    "5",
                    "13",
                    "16",
                    "3",
                    "7",
                    "6",
                    "6",
                    "5",
                    "16",
                    "13",
                    "9",
                    "13",
                    "7",
                    "8",
                    "10",
                    "7",
                    "12",
                    "10",
                    "13",
                    "8",
                    "11",
                    "11",
                    "30",
                    "8",
                    "1",
                    "10",
                    "6",
                    "2",
                    "2",
                    "1",
                    "10",
                    "9",
                    "9",
                    "6",
                    "5",
                    "7",
                    "8",
                    "7",
                    "13",
                    "10",
                    "20",
                    "9",
                    "10",
                    "8",
                    "20",
                    "15",
                    "17",
                    "6",
                    "6",
                    "10",
                    "21",
                    "10",
                    "17",
                    "8",
                    "5",
                    "18",
                    "4",
                    "18",
                    "6",
                    "12",
                    "19",
                    "0",
                    "5",
                    "12",
                    "6",
                    "3",
                    "4",
                    "25",
                    "10",
                    "15",
                    "13",
                    "13",
                    "2",
                    "8",
                    "4",
                    "10",
                    "1",
                    "20",
                    "11",
                    "1",
                    "5",
                    "16",
                    "2",
                    "4",
                    "5",
                    "6",
                    "8",
                    "6",
                    "10",
                    "8",
                    "8",
                    "9",
                    "3",
                    "8",
                    "13",
                    "10",
                    "13",
                    "6",
                    "5",
                    "3",
                    "14",
                    "11",
                    "12",
                    "2",
                    "3",
                    "15",
                    "8",
                    "2.5",
                    "6",
                    "5",
                    "8",
                    "12",
                    "9",
                    "7",
                    "8",
                    "1",
                    "16",
                    "7",
                    "8",
                    "1",
                    "19",
                    "10",
                    "11",
                    "12",
                    "6",
                    "4",
                    "7",
                    "18",
                    "12",
                    "8",
                    "10",
                    "6",
                    "7",
                    "3",
                    "16",
                    "8",
                    "13",
                    "15",
                    "9",
                    "13",
                    "7",
                    "6",
                    "9",
                    "10",
                    "6",
                    "10",
                    "8",
                    "11",
                    "2",
                    "15",
                    "20",
                    "6",
                    "9",
                    "5",
                    "1 (as QA Engineer) / 11 in total",
                    "15",
                    "20",
                    "14",
                    "11",
                    "12",
                    "9",
                    "1",
                    "20",
                    "13",
                    "8",
                    "8",
                    "6",
                    "13",
                    "11",
                    "13",
                    "15",
                    "4",
                    "7",
                    "2",
                    "7",
                    "18",
                    "5",
                    "5",
                    "11",
                    "2",
                    "15",
                    "12",
                    "8",
                    "2,5",
                    "5",
                    "10",
                    "5",
                    "10",
                    "3",
                    "1",
                    "11",
                    "3",
                    "13",
                    "5",
                    "2",
                    "5",
                    "6",
                    "1",
                    "12",
                    "5",
                    "4",
                    "4",
                    "1",
                    "1",
                    "15, thereof 8 as CTO",
                    "14",
                    "10",
                    "5",
                    "4",
                    "6",
                    "5",
                    "10",
                    "12",
                    "1",
                    "10",
                    "4",
                    "1",
                    "2",
                    "14",
                    "10",
                    "12",
                    "4",
                    "7",
                    "10",
                    "14",
                    "8",
                    "12",
                    "3",
                    "13",
                    "5",
                    "2",
                    "12",
                    "3",
                    "5",
                    "7",
                    "9",
                    "9",
                    "12",
                    "7",
                    "10",
                    "16",
                    "15",
                    "10",
                    "12",
                    "13",
                    "2",
                    "4",
                    "8",
                    "6",
                    "8",
                    "13",
                    "8",
                    "8",
                    "10",
                    "6",
                    "5",
                    "7",
                    "7",
                    "8",
                    "2",
                    "12",
                    "4",
                    "3",
                    "14",
                    "8",
                    "3",
                    "5",
                    "20",
                    "10",
                    "0",
                    "20",
                    "14",
                    "3",
                    "2",
                    "2",
                    "6",
                    "0",
                    "3",
                    "10",
                    "7",
                    "5",
                    "7",
                    "6",
                    "6",
                    "6",
                    "5",
                    "3",
                    "2",
                    "22",
                    "1",
                    "12",
                    "8",
                    "4",
                    "5",
                    "5",
                    "6",
                    "2",
                    "10",
                    "6",
                    "2",
                    "6",
                    "14",
                    "10",
                    "12",
                    "31",
                    "6",
                    "5",
                    "15",
                    "1",
                    "8",
                    "4",
                    "2",
                    "5",
                    "14",
                    "13",
                    "6",
                    "5",
                    "6",
                    "2",
                    "9",
                    "11",
                    "14",
                    "4",
                    "10",
                    "7",
                    "2",
                    "6",
                    "5",
                    "15",
                    "7",
                    "15",
                    "3",
                    "3",
                    "5",
                    "5",
                    "5",
                    "3",
                    "2",
                    "9",
                    "5",
                    "1",
                    "5",
                    "9",
                    "12",
                    "7",
                    "10",
                    "6",
                    "7",
                    "16",
                    "12",
                    "10",
                    "5",
                    "9",
                    "5",
                    "8",
                    "5",
                    "10",
                    "12",
                    "8",
                    "5",
                    "9",
                    "4",
                    "4",
                    "8",
                    "16",
                    "8",
                    "1",
                    "16",
                    "2",
                    "3",
                    "9",
                    "10",
                    "14",
                    "2",
                    "3",
                    "6",
                    "6",
                    "4",
                    "20",
                    "1",
                    "1",
                    "3",
                    "10",
                    "20",
                    "9",
                    "9",
                    "6",
                    "5",
                    "15",
                    "4",
                    "4",
                    "5",
                    "11",
                    "8",
                    "13",
                    "17",
                    "16",
                    "7",
                    "8",
                    "8",
                    "16",
                    "2",
                    "7",
                    "4",
                    "12",
                    "10",
                    "15",
                    "10",
                    "5",
                    "19",
                    "14",
                    "0",
                    "5",
                    "5",
                    "4",
                    "2",
                    "13",
                    "6",
                    "6",
                    "4",
                    "10",
                    "10",
                    "16",
                    "9",
                    "15",
                    "3",
                    "2",
                    "13",
                    "2.5",
                    "1",
                    "7",
                    "27",
                    "5",
                    "19",
                    "15",
                    "14",
                    "2",
                    "4",
                    "6 (not as a data scientist, but as a lab scientist)",
                    "1.5",
                    "2",
                    "12",
                    "5",
                    "4",
                    "3",
                    "4",
                    "15",
                    "5",
                    "2",
                    "3",
                    "13",
                    "5",
                    "383",
                    "4",
                    "5",
                    "15",
                    "5",
                    "10",
                    "5",
                    "4",
                    "5",
                    "10",
                    "12",
                    "7",
                    "10",
                    "5",
                    "5",
                    "10",
                    "8",
                    "3",
                    "10",
                    "6",
                    "2",
                    "1",
                    "12",
                    "4",
                    "17",
                    "10",
                    "13",
                    "7",
                    "15",
                    "11",
                    "4",
                    "4",
                    "0.8",
                    "14",
                    "2",
                    "7",
                    "8",
                    "8",
                    "15",
                    "18",
                    "15",
                    "8",
                    "15",
                    "5",
                    "10",
                    "10",
                    "20",
                    "3",
                    "2.5",
                    "15",
                    "6",
                    "15",
                    "3",
                    "2",
                    "4",
                    "7",
                    "30",
                    "4.5",
                    "5",
                    "5",
                    "6",
                    "6",
                    "3.5",
                    "0",
                    "7",
                    "14",
                    "9",
                    "5",
                    "11",
                    "9",
                    "9",
                    "16",
                    "7",
                    "15",
                    "13",
                    "5",
                    "12",
                    "10",
                    "10",
                    "25",
                    "4",
                    "5",
                    "6",
                    "6",
                    "11",
                    "12",
                    "15",
                    "15",
                    "15",
                    "1,5",
                    "10",
                    "12",
                    "7",
                    "14",
                    "9",
                    "10",
                    "17",
                    "3",
                    "11",
                    "5",
                    "10",
                    "10",
                    "5",
                    "9",
                    "4",
                    "8",
                    "less than year",
                    "10",
                    "6",
                    "3",
                    "8",
                    "5",
                    "14",
                    "10",
                    "14",
                    "8",
                    "5",
                    "12",
                    "20",
                    "3.5",
                    "20",
                    "10",
                    "5",
                    "7",
                    "6",
                    "7",
                    "5",
                    "12",
                    "10",
                    "10",
                    "10",
                    "5",
                    "5",
                    "7",
                    "15",
                    "3",
                    "16",
                    "4",
                    "10",
                    "10",
                    "8",
                    "10",
                    "5",
                    "18",
                    "7",
                    "9",
                    "10",
                    "15",
                    "7",
                    "2"
                  ],
                  "xaxis": "x",
                  "y": [
                    80000,
                    80000,
                    120000,
                    54000,
                    62000,
                    76000,
                    57000,
                    65000,
                    56000,
                    95000,
                    52500,
                    100000,
                    90000,
                    70000,
                    75000,
                    75000,
                    60350,
                    78000,
                    60000,
                    80000,
                    103000,
                    100000,
                    65000,
                    69000,
                    70000,
                    80000,
                    75000,
                    47400,
                    67000,
                    70000,
                    85000,
                    65000,
                    45000,
                    80000,
                    63000,
                    150000,
                    45000,
                    80000,
                    75000,
                    70000,
                    72000,
                    67000,
                    105000,
                    88000,
                    74000,
                    75000,
                    60000,
                    77000,
                    70000,
                    76000,
                    75000,
                    45000,
                    60000,
                    65000,
                    68000,
                    75000,
                    65000,
                    90000,
                    75000,
                    70000,
                    70500,
                    72000,
                    73500,
                    72000,
                    62000,
                    83000,
                    110000,
                    93000,
                    110000,
                    55000,
                    53000,
                    55000,
                    75000,
                    80000,
                    80000,
                    55000,
                    70200,
                    50000,
                    78000,
                    60000,
                    85000,
                    60000,
                    72000,
                    68500,
                    72000,
                    65000,
                    60000,
                    61000,
                    73000,
                    78000,
                    81000,
                    75000,
                    55000,
                    50000,
                    55000,
                    60000,
                    80000,
                    80000,
                    60000,
                    80000,
                    78000,
                    68000,
                    62000,
                    55000,
                    62000,
                    72000,
                    58000,
                    120000,
                    75000,
                    65000,
                    85000,
                    65000,
                    65000,
                    50000,
                    72000,
                    79000,
                    65000,
                    75000,
                    60000,
                    80000,
                    57000,
                    49000,
                    65000,
                    70000,
                    63000,
                    72000,
                    60000,
                    75000,
                    70000,
                    62000,
                    78000,
                    120000,
                    75000,
                    69000,
                    54000,
                    62000,
                    80000,
                    80000,
                    75000,
                    75000,
                    70000,
                    120000,
                    70000,
                    44000,
                    80000,
                    48000,
                    50000,
                    68000,
                    66000,
                    51000,
                    60000,
                    55000,
                    150000,
                    54000,
                    62000,
                    60000,
                    75000,
                    55000,
                    60000,
                    62000,
                    77500,
                    60000,
                    70000,
                    68500,
                    71060,
                    60000,
                    100000,
                    28000,
                    70000,
                    82000,
                    90000,
                    70800,
                    55000,
                    85000,
                    70000,
                    66000,
                    62000,
                    95000,
                    65000,
                    50000,
                    80000,
                    80000,
                    66000,
                    89200,
                    90000,
                    75000,
                    115000,
                    85000,
                    70000,
                    45000,
                    85000,
                    50000,
                    140000,
                    120000,
                    42000,
                    105000,
                    77000,
                    68000,
                    76000,
                    70000,
                    70000,
                    63000,
                    96000,
                    64000,
                    60000,
                    65000,
                    61500,
                    79000,
                    65000,
                    63000,
                    62000,
                    95000,
                    60000,
                    65000,
                    58000,
                    65000,
                    69000,
                    65000,
                    77000,
                    74000,
                    80000,
                    60000,
                    70000,
                    56000,
                    70000,
                    48000,
                    60000,
                    65000,
                    100000,
                    60000,
                    58000,
                    55200,
                    75000,
                    50000,
                    65000,
                    95000,
                    67200,
                    72000,
                    100000,
                    65000,
                    65000,
                    92500,
                    54000,
                    100000,
                    58000,
                    70000,
                    72000,
                    90000,
                    99000,
                    61200,
                    80000,
                    60000,
                    45000,
                    56000,
                    32000,
                    108000,
                    95000,
                    37500,
                    67000,
                    100000,
                    81000,
                    35000,
                    72000,
                    72000,
                    42000,
                    95000,
                    67000,
                    64000,
                    52000,
                    60000,
                    85000,
                    84000,
                    123600,
                    49000,
                    57000,
                    78000,
                    70000,
                    57000,
                    72000,
                    120000,
                    26400,
                    68000,
                    58000,
                    92000,
                    80000,
                    55000,
                    73000,
                    62000,
                    55000,
                    90000,
                    80000,
                    85000,
                    75000,
                    62000,
                    60000,
                    66800,
                    55000,
                    70000,
                    90000,
                    70000,
                    68000,
                    64000,
                    72000,
                    70000,
                    63500,
                    70000,
                    68000,
                    78000,
                    75000,
                    89570,
                    78000,
                    80000,
                    70000,
                    67000,
                    85000,
                    76000,
                    66000,
                    65000,
                    130000,
                    80000,
                    68000,
                    46000,
                    56400,
                    81200,
                    70000,
                    65000,
                    75000,
                    60000,
                    55000,
                    75000,
                    54000,
                    76000,
                    76000,
                    20000,
                    80000,
                    78000,
                    65000,
                    46000,
                    65000,
                    67000,
                    61000,
                    48000,
                    70800,
                    70000,
                    48000,
                    65400,
                    60000,
                    71000,
                    65000,
                    44000,
                    27000,
                    90000,
                    60000,
                    73000,
                    67500,
                    66000,
                    80000,
                    55000,
                    55000,
                    75000,
                    60000,
                    54500,
                    72000,
                    60000,
                    85000,
                    75000,
                    10164,
                    65000,
                    75000,
                    78500,
                    56000,
                    68000,
                    83000,
                    53000,
                    65000,
                    65000,
                    68500,
                    45000,
                    12000,
                    72000,
                    80000,
                    68000,
                    24000,
                    95500,
                    72000,
                    72000,
                    65000,
                    77600,
                    95000,
                    50400,
                    80000,
                    13000,
                    130000,
                    14712,
                    70000,
                    74400,
                    70000,
                    82000,
                    85000,
                    80000,
                    70500,
                    75000,
                    58000,
                    28800,
                    53000,
                    89000,
                    66000,
                    80000,
                    75000,
                    44000,
                    75000,
                    60000,
                    70000,
                    76900,
                    85000,
                    27000,
                    55000,
                    95000,
                    56000,
                    60000,
                    58000,
                    72000,
                    46000,
                    70000,
                    75000,
                    105000,
                    50000,
                    63000,
                    52000,
                    65000,
                    60000,
                    62000,
                    90000,
                    69000,
                    88000,
                    81000,
                    18700,
                    60000,
                    56000,
                    55000,
                    70000,
                    200000,
                    100000,
                    48000,
                    30000,
                    21120,
                    67500,
                    48000,
                    64000,
                    90000,
                    68500,
                    47500,
                    57000,
                    45600,
                    90000,
                    50000,
                    75000,
                    62000,
                    45000,
                    83000,
                    66300,
                    65000,
                    85000,
                    60000,
                    60000,
                    95000,
                    100000,
                    79300,
                    60000,
                    48000,
                    60000,
                    34000,
                    57000,
                    99999999999,
                    54000,
                    60000,
                    65000,
                    80000,
                    60000,
                    66000,
                    60000,
                    75000,
                    85000,
                    47000,
                    62000,
                    56000,
                    50000,
                    75000,
                    90000,
                    82000,
                    75000,
                    156000,
                    53000,
                    77000,
                    180000,
                    55000,
                    82000,
                    100000,
                    70000,
                    57600,
                    47000,
                    70000,
                    100000,
                    65000,
                    80000,
                    54000,
                    72000,
                    78000,
                    60000,
                    60000,
                    50000,
                    120000,
                    62000,
                    60000,
                    58000,
                    81000,
                    70000,
                    80000,
                    70000,
                    63700,
                    65000,
                    30000,
                    70000,
                    48000,
                    66000,
                    67000,
                    70000,
                    65000,
                    122000,
                    150000,
                    40800,
                    58000,
                    69200,
                    72000,
                    57000,
                    84000,
                    59000,
                    68000,
                    68000,
                    88000,
                    71000,
                    65000,
                    50000,
                    160000,
                    37500,
                    65000,
                    56000,
                    80000,
                    83000,
                    76500,
                    60000,
                    79000,
                    90000,
                    82000,
                    50000,
                    78000,
                    60000,
                    75000,
                    130000,
                    115000,
                    65000,
                    75000,
                    36000,
                    76000,
                    90000,
                    54000,
                    65000,
                    30000,
                    66000,
                    60000,
                    63000,
                    62000,
                    51000,
                    154000,
                    200000,
                    78000,
                    300000,
                    78000,
                    57000,
                    45000,
                    43000,
                    39000,
                    73000,
                    74000,
                    86000,
                    74000,
                    55000,
                    40000,
                    85000,
                    56000,
                    70000,
                    68000,
                    70000,
                    72000,
                    80000,
                    77000,
                    77000,
                    56000,
                    80000,
                    90000,
                    54000,
                    20000,
                    98000,
                    93000,
                    100000,
                    70000,
                    75000,
                    63000,
                    70000,
                    80000,
                    75000,
                    85000,
                    55000,
                    78000,
                    99000,
                    90000,
                    52000,
                    36000,
                    45000,
                    75000,
                    85000,
                    95000,
                    63000,
                    102000,
                    95000,
                    78600,
                    70000,
                    67000,
                    42000,
                    53000,
                    250000,
                    53000,
                    77000,
                    80000,
                    58800,
                    75000,
                    85000,
                    70000,
                    78000,
                    75000,
                    57000,
                    120000,
                    75000,
                    63000,
                    60000,
                    60000,
                    44000,
                    54500,
                    90000,
                    82500,
                    75000,
                    60000,
                    108000,
                    85000,
                    54000,
                    65000,
                    42000,
                    51000,
                    76000,
                    65000,
                    85000,
                    60000,
                    90000,
                    86000,
                    60000,
                    81000,
                    60000,
                    74000,
                    57600,
                    70000,
                    75000,
                    65000,
                    90000,
                    60000,
                    90000,
                    30000,
                    90000,
                    64000,
                    50000,
                    44000,
                    12000,
                    80000,
                    73000,
                    120000,
                    71750,
                    65000,
                    80000,
                    60000,
                    66000,
                    85000,
                    65000,
                    130000,
                    81900,
                    85000,
                    45000,
                    82000,
                    100000,
                    72000,
                    70000,
                    70000,
                    62000,
                    83000,
                    70000,
                    77000,
                    71000,
                    65000,
                    120000,
                    43000,
                    81000,
                    55000,
                    63000,
                    75000,
                    22000,
                    65000,
                    62000,
                    65000,
                    37000,
                    51000,
                    70000,
                    93000,
                    60000,
                    72000,
                    70000,
                    70000,
                    65000,
                    51000,
                    90000,
                    159000,
                    105000,
                    80000,
                    50000,
                    72000,
                    105000,
                    49000,
                    55000,
                    66000,
                    85000,
                    85000,
                    79000,
                    42000,
                    74000,
                    67000,
                    74000,
                    48000,
                    57760,
                    103000,
                    74000,
                    70000,
                    86000,
                    46000,
                    23000,
                    135000,
                    80000,
                    75000,
                    50000,
                    29000,
                    78000,
                    75000,
                    60000,
                    70000,
                    55000,
                    36000,
                    56000,
                    85000,
                    80000,
                    75000,
                    57000,
                    65000,
                    80000,
                    60000,
                    11000,
                    87000,
                    79000,
                    100000,
                    54000,
                    80000,
                    60000,
                    64000,
                    850000,
                    60000,
                    73000,
                    80000,
                    83000,
                    42000,
                    68000,
                    100000,
                    80000,
                    48000,
                    75000,
                    85000,
                    110000,
                    70000,
                    75000,
                    90000,
                    85000,
                    110000,
                    110000,
                    68000,
                    93000,
                    45000,
                    80000,
                    65000,
                    65000,
                    60000,
                    240000,
                    60000,
                    80000,
                    85000,
                    75000,
                    73000,
                    90000,
                    80000,
                    42000,
                    70000,
                    85000,
                    54000,
                    77000,
                    33000,
                    70000,
                    80000,
                    65000,
                    85000,
                    70000,
                    80000,
                    60000,
                    90000,
                    53000,
                    55000,
                    45000,
                    68000,
                    58000,
                    80000,
                    80000,
                    130000,
                    40000,
                    80000,
                    75000,
                    180000,
                    151872,
                    48000,
                    57000,
                    80000,
                    65000,
                    90000,
                    50000,
                    52000,
                    51000,
                    52800,
                    55000,
                    95000,
                    70000,
                    61500,
                    78000,
                    500000000,
                    42000,
                    150000,
                    84000,
                    100000,
                    49000,
                    60000,
                    68000,
                    70000,
                    70000,
                    95000,
                    48000,
                    115000,
                    60000,
                    49000,
                    40000,
                    81500,
                    75000,
                    94000,
                    100000,
                    55000,
                    60000,
                    80000,
                    67000,
                    56000,
                    32000,
                    45000,
                    77000,
                    55000,
                    95000,
                    10001,
                    70000,
                    90000,
                    64000,
                    67473,
                    95000,
                    100000,
                    65000,
                    91000,
                    60000,
                    79000,
                    65000,
                    108000,
                    45000,
                    66000,
                    75000,
                    66500,
                    64000,
                    105000,
                    83000,
                    52000,
                    62000,
                    74000,
                    56700,
                    54000,
                    72000,
                    85000,
                    65000,
                    92000,
                    54000,
                    90000,
                    100000,
                    77250,
                    57000,
                    60000,
                    70000,
                    80000,
                    48000,
                    74000,
                    70000,
                    55000,
                    25000,
                    48000,
                    90000,
                    58000,
                    65000,
                    50400,
                    68500,
                    69000,
                    48000,
                    58000,
                    70000,
                    57000,
                    106000,
                    49200,
                    42000,
                    50000,
                    43000,
                    77000,
                    67000,
                    21000,
                    40000,
                    64000,
                    90000,
                    25300,
                    80000,
                    85600,
                    55200,
                    92000,
                    96000,
                    60000,
                    85000,
                    110000,
                    90000,
                    55000,
                    172000,
                    14400,
                    25000,
                    105000,
                    63000,
                    72000,
                    65000,
                    83000,
                    200000,
                    115000,
                    58000,
                    50000,
                    75000,
                    140000,
                    80000,
                    54179.13,
                    65000,
                    49000,
                    50000,
                    59000,
                    52500,
                    30000,
                    83000,
                    59000,
                    10001,
                    50000,
                    75000,
                    54000,
                    58000,
                    70000,
                    48000,
                    88000,
                    57750,
                    45000,
                    75000,
                    113000,
                    74000,
                    82000,
                    82000,
                    64800,
                    70000,
                    72000,
                    82000,
                    80000,
                    65000,
                    77000,
                    80000,
                    65000,
                    59064,
                    90000,
                    150000,
                    70000,
                    53500,
                    90000,
                    75000,
                    65000,
                    60000,
                    62400,
                    62000,
                    30000,
                    90000,
                    35000,
                    62000,
                    60000,
                    65600,
                    80000,
                    32000,
                    53000,
                    65000,
                    78000,
                    55500,
                    100000,
                    38000,
                    36000,
                    65000,
                    100000,
                    36000,
                    60000,
                    60000,
                    100000,
                    66000,
                    73000,
                    64000,
                    55000,
                    74000,
                    60000,
                    67500,
                    90000,
                    124000,
                    65000,
                    75000,
                    57000,
                    57000,
                    120000,
                    24000,
                    60000,
                    58000,
                    75000,
                    71000,
                    52500,
                    85000,
                    50000,
                    66000,
                    95000,
                    50000,
                    70000,
                    87000,
                    68000,
                    54000,
                    83000,
                    110000,
                    93000,
                    73700,
                    85000,
                    87550,
                    80000,
                    65000,
                    40700,
                    48000,
                    60000,
                    47745,
                    60000,
                    43500,
                    60000,
                    90000,
                    60000,
                    90000,
                    120000,
                    98000,
                    51000,
                    69000,
                    57000,
                    49850,
                    50000,
                    65000,
                    73000,
                    37500,
                    65000,
                    42000,
                    85000,
                    70000,
                    45000,
                    100000,
                    68000,
                    50400,
                    70000,
                    55000,
                    55000,
                    90000,
                    75000,
                    80000,
                    61000,
                    50000,
                    69000,
                    75000,
                    95000,
                    70000,
                    74000,
                    65000,
                    65000,
                    85000,
                    110000,
                    77000,
                    60000,
                    60000,
                    68000,
                    45500,
                    72000,
                    67000,
                    85000,
                    75000,
                    70000,
                    82000,
                    85000,
                    70000,
                    60000,
                    45000,
                    11500,
                    84000,
                    80000,
                    46000,
                    75000,
                    40000,
                    100000,
                    115000,
                    99000,
                    90000,
                    72000,
                    54000,
                    45000,
                    65000,
                    80000,
                    45000,
                    60000,
                    75000,
                    92000,
                    90000,
                    17500,
                    63000,
                    65000,
                    75000,
                    110000,
                    60000,
                    70000,
                    70000,
                    70000,
                    70000,
                    70000,
                    40000,
                    62000,
                    57000,
                    90000,
                    60000,
                    72500,
                    75000,
                    85000,
                    62500,
                    65900,
                    85000,
                    95000,
                    77500,
                    75000,
                    30000,
                    111111,
                    75000,
                    30000,
                    64000,
                    51000,
                    110000,
                    107000,
                    100000,
                    70000,
                    70000,
                    68000,
                    46000,
                    100000,
                    70200,
                    75000,
                    75000,
                    85000,
                    66000,
                    90000,
                    58000,
                    90000,
                    35000,
                    47500,
                    65000,
                    72000,
                    73000,
                    50000,
                    72000,
                    16320,
                    68000,
                    70000,
                    57600,
                    68000,
                    75000,
                    95000,
                    82000,
                    90000,
                    52000,
                    65000,
                    100000,
                    95000,
                    55000,
                    200000,
                    85000,
                    68250,
                    63000,
                    63000,
                    63000,
                    65000,
                    75000,
                    70000,
                    100000,
                    60000,
                    20000,
                    20000,
                    76000,
                    84700,
                    52000,
                    95000,
                    50500,
                    68000,
                    130000,
                    55000,
                    95000,
                    55000,
                    90000,
                    108500,
                    70000,
                    60000,
                    110000,
                    38350,
                    65000
                  ],
                  "yaxis": "y"
                }
              ],
              "layout": {
                "legend": {
                  "tracegroupgap": 0
                },
                "margin": {
                  "t": 60
                },
                "template": {
                  "data": {
                    "bar": [
                      {
                        "error_x": {
                          "color": "#2a3f5f"
                        },
                        "error_y": {
                          "color": "#2a3f5f"
                        },
                        "marker": {
                          "line": {
                            "color": "#E5ECF6",
                            "width": 0.5
                          }
                        },
                        "type": "bar"
                      }
                    ],
                    "barpolar": [
                      {
                        "marker": {
                          "line": {
                            "color": "#E5ECF6",
                            "width": 0.5
                          }
                        },
                        "type": "barpolar"
                      }
                    ],
                    "carpet": [
                      {
                        "aaxis": {
                          "endlinecolor": "#2a3f5f",
                          "gridcolor": "white",
                          "linecolor": "white",
                          "minorgridcolor": "white",
                          "startlinecolor": "#2a3f5f"
                        },
                        "baxis": {
                          "endlinecolor": "#2a3f5f",
                          "gridcolor": "white",
                          "linecolor": "white",
                          "minorgridcolor": "white",
                          "startlinecolor": "#2a3f5f"
                        },
                        "type": "carpet"
                      }
                    ],
                    "choropleth": [
                      {
                        "colorbar": {
                          "outlinewidth": 0,
                          "ticks": ""
                        },
                        "type": "choropleth"
                      }
                    ],
                    "contour": [
                      {
                        "colorbar": {
                          "outlinewidth": 0,
                          "ticks": ""
                        },
                        "colorscale": [
                          [
                            0,
                            "#0d0887"
                          ],
                          [
                            0.1111111111111111,
                            "#46039f"
                          ],
                          [
                            0.2222222222222222,
                            "#7201a8"
                          ],
                          [
                            0.3333333333333333,
                            "#9c179e"
                          ],
                          [
                            0.4444444444444444,
                            "#bd3786"
                          ],
                          [
                            0.5555555555555556,
                            "#d8576b"
                          ],
                          [
                            0.6666666666666666,
                            "#ed7953"
                          ],
                          [
                            0.7777777777777778,
                            "#fb9f3a"
                          ],
                          [
                            0.8888888888888888,
                            "#fdca26"
                          ],
                          [
                            1,
                            "#f0f921"
                          ]
                        ],
                        "type": "contour"
                      }
                    ],
                    "contourcarpet": [
                      {
                        "colorbar": {
                          "outlinewidth": 0,
                          "ticks": ""
                        },
                        "type": "contourcarpet"
                      }
                    ],
                    "heatmap": [
                      {
                        "colorbar": {
                          "outlinewidth": 0,
                          "ticks": ""
                        },
                        "colorscale": [
                          [
                            0,
                            "#0d0887"
                          ],
                          [
                            0.1111111111111111,
                            "#46039f"
                          ],
                          [
                            0.2222222222222222,
                            "#7201a8"
                          ],
                          [
                            0.3333333333333333,
                            "#9c179e"
                          ],
                          [
                            0.4444444444444444,
                            "#bd3786"
                          ],
                          [
                            0.5555555555555556,
                            "#d8576b"
                          ],
                          [
                            0.6666666666666666,
                            "#ed7953"
                          ],
                          [
                            0.7777777777777778,
                            "#fb9f3a"
                          ],
                          [
                            0.8888888888888888,
                            "#fdca26"
                          ],
                          [
                            1,
                            "#f0f921"
                          ]
                        ],
                        "type": "heatmap"
                      }
                    ],
                    "heatmapgl": [
                      {
                        "colorbar": {
                          "outlinewidth": 0,
                          "ticks": ""
                        },
                        "colorscale": [
                          [
                            0,
                            "#0d0887"
                          ],
                          [
                            0.1111111111111111,
                            "#46039f"
                          ],
                          [
                            0.2222222222222222,
                            "#7201a8"
                          ],
                          [
                            0.3333333333333333,
                            "#9c179e"
                          ],
                          [
                            0.4444444444444444,
                            "#bd3786"
                          ],
                          [
                            0.5555555555555556,
                            "#d8576b"
                          ],
                          [
                            0.6666666666666666,
                            "#ed7953"
                          ],
                          [
                            0.7777777777777778,
                            "#fb9f3a"
                          ],
                          [
                            0.8888888888888888,
                            "#fdca26"
                          ],
                          [
                            1,
                            "#f0f921"
                          ]
                        ],
                        "type": "heatmapgl"
                      }
                    ],
                    "histogram": [
                      {
                        "marker": {
                          "colorbar": {
                            "outlinewidth": 0,
                            "ticks": ""
                          }
                        },
                        "type": "histogram"
                      }
                    ],
                    "histogram2d": [
                      {
                        "colorbar": {
                          "outlinewidth": 0,
                          "ticks": ""
                        },
                        "colorscale": [
                          [
                            0,
                            "#0d0887"
                          ],
                          [
                            0.1111111111111111,
                            "#46039f"
                          ],
                          [
                            0.2222222222222222,
                            "#7201a8"
                          ],
                          [
                            0.3333333333333333,
                            "#9c179e"
                          ],
                          [
                            0.4444444444444444,
                            "#bd3786"
                          ],
                          [
                            0.5555555555555556,
                            "#d8576b"
                          ],
                          [
                            0.6666666666666666,
                            "#ed7953"
                          ],
                          [
                            0.7777777777777778,
                            "#fb9f3a"
                          ],
                          [
                            0.8888888888888888,
                            "#fdca26"
                          ],
                          [
                            1,
                            "#f0f921"
                          ]
                        ],
                        "type": "histogram2d"
                      }
                    ],
                    "histogram2dcontour": [
                      {
                        "colorbar": {
                          "outlinewidth": 0,
                          "ticks": ""
                        },
                        "colorscale": [
                          [
                            0,
                            "#0d0887"
                          ],
                          [
                            0.1111111111111111,
                            "#46039f"
                          ],
                          [
                            0.2222222222222222,
                            "#7201a8"
                          ],
                          [
                            0.3333333333333333,
                            "#9c179e"
                          ],
                          [
                            0.4444444444444444,
                            "#bd3786"
                          ],
                          [
                            0.5555555555555556,
                            "#d8576b"
                          ],
                          [
                            0.6666666666666666,
                            "#ed7953"
                          ],
                          [
                            0.7777777777777778,
                            "#fb9f3a"
                          ],
                          [
                            0.8888888888888888,
                            "#fdca26"
                          ],
                          [
                            1,
                            "#f0f921"
                          ]
                        ],
                        "type": "histogram2dcontour"
                      }
                    ],
                    "mesh3d": [
                      {
                        "colorbar": {
                          "outlinewidth": 0,
                          "ticks": ""
                        },
                        "type": "mesh3d"
                      }
                    ],
                    "parcoords": [
                      {
                        "line": {
                          "colorbar": {
                            "outlinewidth": 0,
                            "ticks": ""
                          }
                        },
                        "type": "parcoords"
                      }
                    ],
                    "pie": [
                      {
                        "automargin": true,
                        "type": "pie"
                      }
                    ],
                    "scatter": [
                      {
                        "marker": {
                          "colorbar": {
                            "outlinewidth": 0,
                            "ticks": ""
                          }
                        },
                        "type": "scatter"
                      }
                    ],
                    "scatter3d": [
                      {
                        "line": {
                          "colorbar": {
                            "outlinewidth": 0,
                            "ticks": ""
                          }
                        },
                        "marker": {
                          "colorbar": {
                            "outlinewidth": 0,
                            "ticks": ""
                          }
                        },
                        "type": "scatter3d"
                      }
                    ],
                    "scattercarpet": [
                      {
                        "marker": {
                          "colorbar": {
                            "outlinewidth": 0,
                            "ticks": ""
                          }
                        },
                        "type": "scattercarpet"
                      }
                    ],
                    "scattergeo": [
                      {
                        "marker": {
                          "colorbar": {
                            "outlinewidth": 0,
                            "ticks": ""
                          }
                        },
                        "type": "scattergeo"
                      }
                    ],
                    "scattergl": [
                      {
                        "marker": {
                          "colorbar": {
                            "outlinewidth": 0,
                            "ticks": ""
                          }
                        },
                        "type": "scattergl"
                      }
                    ],
                    "scattermapbox": [
                      {
                        "marker": {
                          "colorbar": {
                            "outlinewidth": 0,
                            "ticks": ""
                          }
                        },
                        "type": "scattermapbox"
                      }
                    ],
                    "scatterpolar": [
                      {
                        "marker": {
                          "colorbar": {
                            "outlinewidth": 0,
                            "ticks": ""
                          }
                        },
                        "type": "scatterpolar"
                      }
                    ],
                    "scatterpolargl": [
                      {
                        "marker": {
                          "colorbar": {
                            "outlinewidth": 0,
                            "ticks": ""
                          }
                        },
                        "type": "scatterpolargl"
                      }
                    ],
                    "scatterternary": [
                      {
                        "marker": {
                          "colorbar": {
                            "outlinewidth": 0,
                            "ticks": ""
                          }
                        },
                        "type": "scatterternary"
                      }
                    ],
                    "surface": [
                      {
                        "colorbar": {
                          "outlinewidth": 0,
                          "ticks": ""
                        },
                        "colorscale": [
                          [
                            0,
                            "#0d0887"
                          ],
                          [
                            0.1111111111111111,
                            "#46039f"
                          ],
                          [
                            0.2222222222222222,
                            "#7201a8"
                          ],
                          [
                            0.3333333333333333,
                            "#9c179e"
                          ],
                          [
                            0.4444444444444444,
                            "#bd3786"
                          ],
                          [
                            0.5555555555555556,
                            "#d8576b"
                          ],
                          [
                            0.6666666666666666,
                            "#ed7953"
                          ],
                          [
                            0.7777777777777778,
                            "#fb9f3a"
                          ],
                          [
                            0.8888888888888888,
                            "#fdca26"
                          ],
                          [
                            1,
                            "#f0f921"
                          ]
                        ],
                        "type": "surface"
                      }
                    ],
                    "table": [
                      {
                        "cells": {
                          "fill": {
                            "color": "#EBF0F8"
                          },
                          "line": {
                            "color": "white"
                          }
                        },
                        "header": {
                          "fill": {
                            "color": "#C8D4E3"
                          },
                          "line": {
                            "color": "white"
                          }
                        },
                        "type": "table"
                      }
                    ]
                  },
                  "layout": {
                    "annotationdefaults": {
                      "arrowcolor": "#2a3f5f",
                      "arrowhead": 0,
                      "arrowwidth": 1
                    },
                    "autotypenumbers": "strict",
                    "coloraxis": {
                      "colorbar": {
                        "outlinewidth": 0,
                        "ticks": ""
                      }
                    },
                    "colorscale": {
                      "diverging": [
                        [
                          0,
                          "#8e0152"
                        ],
                        [
                          0.1,
                          "#c51b7d"
                        ],
                        [
                          0.2,
                          "#de77ae"
                        ],
                        [
                          0.3,
                          "#f1b6da"
                        ],
                        [
                          0.4,
                          "#fde0ef"
                        ],
                        [
                          0.5,
                          "#f7f7f7"
                        ],
                        [
                          0.6,
                          "#e6f5d0"
                        ],
                        [
                          0.7,
                          "#b8e186"
                        ],
                        [
                          0.8,
                          "#7fbc41"
                        ],
                        [
                          0.9,
                          "#4d9221"
                        ],
                        [
                          1,
                          "#276419"
                        ]
                      ],
                      "sequential": [
                        [
                          0,
                          "#0d0887"
                        ],
                        [
                          0.1111111111111111,
                          "#46039f"
                        ],
                        [
                          0.2222222222222222,
                          "#7201a8"
                        ],
                        [
                          0.3333333333333333,
                          "#9c179e"
                        ],
                        [
                          0.4444444444444444,
                          "#bd3786"
                        ],
                        [
                          0.5555555555555556,
                          "#d8576b"
                        ],
                        [
                          0.6666666666666666,
                          "#ed7953"
                        ],
                        [
                          0.7777777777777778,
                          "#fb9f3a"
                        ],
                        [
                          0.8888888888888888,
                          "#fdca26"
                        ],
                        [
                          1,
                          "#f0f921"
                        ]
                      ],
                      "sequentialminus": [
                        [
                          0,
                          "#0d0887"
                        ],
                        [
                          0.1111111111111111,
                          "#46039f"
                        ],
                        [
                          0.2222222222222222,
                          "#7201a8"
                        ],
                        [
                          0.3333333333333333,
                          "#9c179e"
                        ],
                        [
                          0.4444444444444444,
                          "#bd3786"
                        ],
                        [
                          0.5555555555555556,
                          "#d8576b"
                        ],
                        [
                          0.6666666666666666,
                          "#ed7953"
                        ],
                        [
                          0.7777777777777778,
                          "#fb9f3a"
                        ],
                        [
                          0.8888888888888888,
                          "#fdca26"
                        ],
                        [
                          1,
                          "#f0f921"
                        ]
                      ]
                    },
                    "colorway": [
                      "#636efa",
                      "#EF553B",
                      "#00cc96",
                      "#ab63fa",
                      "#FFA15A",
                      "#19d3f3",
                      "#FF6692",
                      "#B6E880",
                      "#FF97FF",
                      "#FECB52"
                    ],
                    "font": {
                      "color": "#2a3f5f"
                    },
                    "geo": {
                      "bgcolor": "white",
                      "lakecolor": "white",
                      "landcolor": "#E5ECF6",
                      "showlakes": true,
                      "showland": true,
                      "subunitcolor": "white"
                    },
                    "hoverlabel": {
                      "align": "left"
                    },
                    "hovermode": "closest",
                    "mapbox": {
                      "style": "light"
                    },
                    "paper_bgcolor": "white",
                    "plot_bgcolor": "#E5ECF6",
                    "polar": {
                      "angularaxis": {
                        "gridcolor": "white",
                        "linecolor": "white",
                        "ticks": ""
                      },
                      "bgcolor": "#E5ECF6",
                      "radialaxis": {
                        "gridcolor": "white",
                        "linecolor": "white",
                        "ticks": ""
                      }
                    },
                    "scene": {
                      "xaxis": {
                        "backgroundcolor": "#E5ECF6",
                        "gridcolor": "white",
                        "gridwidth": 2,
                        "linecolor": "white",
                        "showbackground": true,
                        "ticks": "",
                        "zerolinecolor": "white"
                      },
                      "yaxis": {
                        "backgroundcolor": "#E5ECF6",
                        "gridcolor": "white",
                        "gridwidth": 2,
                        "linecolor": "white",
                        "showbackground": true,
                        "ticks": "",
                        "zerolinecolor": "white"
                      },
                      "zaxis": {
                        "backgroundcolor": "#E5ECF6",
                        "gridcolor": "white",
                        "gridwidth": 2,
                        "linecolor": "white",
                        "showbackground": true,
                        "ticks": "",
                        "zerolinecolor": "white"
                      }
                    },
                    "shapedefaults": {
                      "line": {
                        "color": "#2a3f5f"
                      }
                    },
                    "ternary": {
                      "aaxis": {
                        "gridcolor": "white",
                        "linecolor": "white",
                        "ticks": ""
                      },
                      "baxis": {
                        "gridcolor": "white",
                        "linecolor": "white",
                        "ticks": ""
                      },
                      "bgcolor": "#E5ECF6",
                      "caxis": {
                        "gridcolor": "white",
                        "linecolor": "white",
                        "ticks": ""
                      }
                    },
                    "title": {
                      "x": 0.05
                    },
                    "xaxis": {
                      "automargin": true,
                      "gridcolor": "white",
                      "linecolor": "white",
                      "ticks": "",
                      "title": {
                        "standoff": 15
                      },
                      "zerolinecolor": "white",
                      "zerolinewidth": 2
                    },
                    "yaxis": {
                      "automargin": true,
                      "gridcolor": "white",
                      "linecolor": "white",
                      "ticks": "",
                      "title": {
                        "standoff": 15
                      },
                      "zerolinecolor": "white",
                      "zerolinewidth": 2
                    }
                  }
                },
                "xaxis": {
                  "anchor": "y",
                  "domain": [
                    0,
                    1
                  ],
                  "title": {
                    "text": "Total years of experience"
                  }
                },
                "yaxis": {
                  "anchor": "x",
                  "domain": [
                    0,
                    1
                  ],
                  "title": {
                    "text": "Yearly brutto salary (without bonus and stocks) in EUR"
                  }
                }
              }
            }
          },
          "metadata": {},
          "output_type": "display_data"
        }
      ],
      "source": [
        "fig1=px.line(data_20,x='Total years of experience',y='Yearly brutto salary (without bonus and stocks) in EUR')\n",
        "fig1.show()"
      ]
    },
    {
      "cell_type": "code",
      "execution_count": 327,
      "metadata": {},
      "outputs": [
        {
          "name": "stdout",
          "output_type": "stream",
          "text": [
            "<class 'pandas.core.frame.DataFrame'>\n",
            "RangeIndex: 1253 entries, 0 to 1252\n",
            "Data columns (total 23 columns):\n",
            " #   Column                                                                                                                   Non-Null Count  Dtype  \n",
            "---  ------                                                                                                                   --------------  -----  \n",
            " 0   Timestamp                                                                                                                1253 non-null   object \n",
            " 1   Age                                                                                                                      1253 non-null   float64\n",
            " 2   Gender                                                                                                                   1253 non-null   object \n",
            " 3   City                                                                                                                     1253 non-null   object \n",
            " 4   Position                                                                                                                 1253 non-null   object \n",
            " 5   Total years of experience                                                                                                1253 non-null   object \n",
            " 6   Years of experience in Germany                                                                                           1253 non-null   object \n",
            " 7   Seniority level                                                                                                          1253 non-null   object \n",
            " 8   Your main technology / programming language                                                                              1253 non-null   object \n",
            " 9   Other technologies/programming languages you use often                                                                   1253 non-null   object \n",
            " 10  Yearly brutto salary (without bonus and stocks) in EUR                                                                   1253 non-null   float64\n",
            " 11  Yearly bonus + stocks in EUR                                                                                             1253 non-null   object \n",
            " 12  Annual brutto salary (without bonus and stocks) one year ago. Only answer if staying in the same country                 1253 non-null   float64\n",
            " 13  Annual bonus+stocks one year ago. Only answer if staying in same country                                                 1253 non-null   object \n",
            " 14  Number of vacation days                                                                                                  1253 non-null   object \n",
            " 15  Employment status                                                                                                        1253 non-null   object \n",
            " 16  Сontract duration                                                                                                        1253 non-null   object \n",
            " 17  Main language at work                                                                                                    1253 non-null   object \n",
            " 18  Company size                                                                                                             1253 non-null   object \n",
            " 19  Company type                                                                                                             1253 non-null   object \n",
            " 20  Have you lost your job due to the coronavirus outbreak?                                                                  1253 non-null   object \n",
            " 21  Have you been forced to have a shorter working week (Kurzarbeit)? If yes, how many hours per week                        1253 non-null   float64\n",
            " 22  Have you received additional monetary support from your employer due to Work From Home? If yes, how much in 2020 in EUR  1253 non-null   object \n",
            "dtypes: float64(4), object(19)\n",
            "memory usage: 225.3+ KB\n"
          ]
        }
      ],
      "source": [
        "data_20.info()"
      ]
    },
    {
      "cell_type": "code",
      "execution_count": 355,
      "metadata": {},
      "outputs": [
        {
          "data": {
            "text/html": "<div>\n<style scoped>\n    .dataframe tbody tr th:only-of-type {\n        vertical-align: middle;\n    }\n\n    .dataframe tbody tr th {\n        vertical-align: top;\n    }\n\n    .dataframe thead th {\n        text-align: right;\n    }\n</style>\n<table border=\"1\" class=\"dataframe\">\n  <thead>\n    <tr style=\"text-align: right;\">\n      <th></th>\n      <th>Your main technology / programming language</th>\n    </tr>\n  </thead>\n  <tbody>\n    <tr>\n      <th>Java</th>\n      <td>311</td>\n    </tr>\n    <tr>\n      <th>Python</th>\n      <td>164</td>\n    </tr>\n    <tr>\n      <th>PHP</th>\n      <td>56</td>\n    </tr>\n    <tr>\n      <th>C++</th>\n      <td>38</td>\n    </tr>\n    <tr>\n      <th>JavaScript</th>\n      <td>34</td>\n    </tr>\n    <tr>\n      <th>...</th>\n      <td>...</td>\n    </tr>\n    <tr>\n      <th>Terraform</th>\n      <td>1</td>\n    </tr>\n    <tr>\n      <th>Qml</th>\n      <td>1</td>\n    </tr>\n    <tr>\n      <th>Hardware</th>\n      <td>1</td>\n    </tr>\n    <tr>\n      <th>swift</th>\n      <td>1</td>\n    </tr>\n    <tr>\n      <th>language</th>\n      <td>Java                                          ...</td>\n    </tr>\n  </tbody>\n</table>\n<p>257 rows × 1 columns</p>\n</div>",
            "text/plain": "                  Your main technology / programming language\nJava                                                      311\nPython                                                    164\nPHP                                                        56\nC++                                                        38\nJavaScript                                                 34\n...                                                       ...\nTerraform                                                   1\nQml                                                         1\nHardware                                                    1\nswift                                                       1\nlanguage    Java                                          ...\n\n[257 rows x 1 columns]"
          },
          "execution_count": 355,
          "metadata": {},
          "output_type": "execute_result"
        }
      ],
      "source": [
        "df4['language']=data_20['Your main technology / programming language'].value_counts()\n",
        "df5=pd.DataFrame(df4)\n",
        "df5"
      ]
    },
    {
      "cell_type": "code",
      "execution_count": 365,
      "metadata": {},
      "outputs": [
        {
          "data": {
            "application/vnd.plotly.v1+json": {
              "config": {
                "plotlyServerURL": "https://plot.ly"
              },
              "data": [
                {
                  "alignmentgroup": "True",
                  "hovertemplate": "Your main technology / programming language=%{x}<br>Gender=%{y}<extra></extra>",
                  "legendgroup": "",
                  "marker": {
                    "color": "#636efa"
                  },
                  "name": "",
                  "offsetgroup": "",
                  "orientation": "v",
                  "showlegend": false,
                  "textposition": "auto",
                  "type": "bar",
                  "x": [
                    "TypeScript",
                    "Ruby",
                    "Javascript / Typescript",
                    "Javascript",
                    "C# .NET",
                    "AWS, GCP, Python,K8s",
                    "Javascript",
                    "Typescript",
                    "PHP",
                    "Java",
                    "Aws Hadoop Postgre Typescript",
                    "C++",
                    "PHP",
                    "Typescript",
                    "Java",
                    "Kotlin",
                    "Ruby",
                    "Java",
                    "PHP",
                    "kotlin",
                    "Java",
                    "NodeJS",
                    "Javascript",
                    "Java",
                    "PHP",
                    "iOS",
                    "Kubernetes",
                    "Charles",
                    "Java",
                    "SQL",
                    "Go",
                    "java",
                    "Java",
                    "Java",
                    "Javascript",
                    "Python",
                    "Figma",
                    "JavaScript",
                    "Kotlin",
                    "Go/Python",
                    "React",
                    "Java",
                    "TypeScript",
                    "С#",
                    "Java",
                    "Java",
                    "Java",
                    "Java",
                    "Java",
                    "Python",
                    "Ruby",
                    "Figma",
                    "Java",
                    "PHP",
                    "Java",
                    "PHP",
                    "Php",
                    "Kubernetes",
                    "Go",
                    "ruby on rails",
                    "Java",
                    "Kotlin",
                    "JavaScript/ES6",
                    ".NET",
                    "Javascript",
                    "Hardware",
                    "Java",
                    "C#",
                    "Google Cloud Platform",
                    "Js",
                    "android",
                    "java",
                    "C#",
                    "JavaScript ",
                    "Java",
                    "Java",
                    "Java",
                    "Java",
                    "Scala",
                    "python",
                    "Go",
                    "SQL",
                    "Scala",
                    "Java",
                    "Kotlin",
                    "python",
                    "C#, .net core",
                    "Java",
                    "Python",
                    "Kubernetes",
                    "Python",
                    "VHDL",
                    "Power BI",
                    "Java",
                    "Java",
                    "Java",
                    "PHP ",
                    "none",
                    "Android",
                    "Scala",
                    "Java",
                    "Java",
                    "Java",
                    "PHP",
                    "Java",
                    "JavaScript",
                    "Swift",
                    "ML",
                    "php",
                    "Python",
                    "Python",
                    "JavaScript",
                    "PHP",
                    "Javascript",
                    "Scala",
                    "C++",
                    "Java",
                    "Scala, React.js",
                    "SQL",
                    "PHP",
                    "iOS",
                    "C#",
                    "Java",
                    "Ml/Python",
                    "Swift",
                    "Java",
                    "C#, .net core",
                    "Javascript",
                    "JavaScript/TypeScript",
                    "php",
                    "Python",
                    "Java",
                    "Java",
                    "PHP",
                    "Javascript",
                    "Java",
                    "Java",
                    "Ruby on Rails",
                    "Java",
                    "Ruby",
                    "C#",
                    "Azure, SAP",
                    "Java",
                    "Java",
                    "Scala",
                    "Python",
                    "JavaScript",
                    "Java",
                    "java",
                    "Java",
                    "Python",
                    "python",
                    "Java",
                    "Java",
                    "Java",
                    "Java",
                    "Java",
                    "PHP",
                    "Frontend",
                    "Java, JavaScript",
                    "Java",
                    "PHP",
                    "yaml",
                    "Python ",
                    "Javascript",
                    "Java",
                    "JS",
                    "Java ",
                    "Java",
                    "Java",
                    "Python",
                    "Swift",
                    "PHP",
                    "Swift",
                    "Java",
                    "Java",
                    "Python",
                    "Java",
                    "PHP",
                    "-",
                    "Android",
                    "JavaScript",
                    "Kotlin",
                    "Python",
                    "php",
                    "Java",
                    "Python ",
                    "Agile",
                    "Kotlin",
                    "C",
                    "TypeScript, JavaScript",
                    "Python ",
                    "Pegasystems platform ",
                    "Javascript",
                    "C++, Java, Embedded C",
                    "Cloud",
                    "Java",
                    "DC Management",
                    "C#",
                    "Java",
                    "Go",
                    "Java",
                    "Scala",
                    "Python",
                    "Java",
                    "Swift",
                    "Java",
                    "Python",
                    "Python",
                    "Scala",
                    "--",
                    "python",
                    "Java",
                    "Java",
                    "Swift",
                    "Python",
                    "Java",
                    "Java",
                    "SWIFT",
                    "Java, angular, Aws",
                    "Swift, objective-c",
                    "Java",
                    "Golang",
                    "PHP",
                    "go",
                    "Java",
                    "Java",
                    "Kotlin",
                    "DevOps",
                    ".net",
                    "Node.js",
                    "iOS",
                    "R",
                    "Java, Javascript",
                    "Python",
                    "Java",
                    "C++",
                    "Ruby",
                    "C++",
                    ".NET",
                    "R",
                    "C++",
                    "JS",
                    "Scala",
                    "Python",
                    "Bash",
                    "C#",
                    "Python",
                    ".Net",
                    "Network",
                    "Java",
                    "nothing",
                    "Python",
                    "Qlik BI Tool, SQL",
                    "Java",
                    "PHP",
                    "Java",
                    "Javascript",
                    "Swift",
                    "Java",
                    "Python",
                    "Javascript",
                    "Cloud",
                    "Java",
                    "PHP",
                    "Blockchain",
                    "PHP",
                    "Java",
                    "Java",
                    "Android",
                    "Java",
                    "Angular",
                    "Autonomous Driving",
                    "c#",
                    "Java",
                    "Java",
                    "Java",
                    "Js, TypeScript, Angular",
                    "go",
                    "Java",
                    ".NET",
                    "Javascript",
                    "Java",
                    "Python",
                    "Python",
                    "T-SQL",
                    "Java",
                    "Java",
                    "Kotlin",
                    "JavaScript",
                    "Java",
                    "python",
                    "c++",
                    "Java, terraform",
                    "PHP",
                    "iOS",
                    "Pascal, VB.NET, C#",
                    "Java",
                    "Python",
                    "PHP",
                    "SQL",
                    "Oracle",
                    "Ruby",
                    "Java",
                    "PHP",
                    "Javascript ",
                    "Angular, React",
                    ".net",
                    "Elixir",
                    "Java",
                    "Kotlin",
                    "iOS",
                    "Elixir",
                    "NodeJS, Typescript, AWS",
                    "Scala",
                    "Erlang",
                    "TypeScript",
                    "JavaScript",
                    "Scala",
                    "JavaScript",
                    "PHP",
                    "C#",
                    "C#",
                    "PHP",
                    "Java",
                    "Java",
                    "Go",
                    "Java, JS",
                    "Objective-C",
                    "Ruby",
                    "Python ",
                    "QA",
                    "C++",
                    "Python",
                    "TypeScript",
                    "C#",
                    "Ruby",
                    "C++/C#",
                    "Go",
                    "C++",
                    "Java",
                    "Python",
                    "ABAP",
                    "Javascript / Typescript",
                    "Python ",
                    "Java/Kotlin",
                    "php",
                    "Typescript / Angular",
                    "Javascript",
                    "Java",
                    "PHP",
                    "Kubernetes",
                    ".NET",
                    "C++",
                    "ABAP",
                    "Kubernetes",
                    "Javascript",
                    "Java",
                    "Java",
                    "Ruby",
                    "Java",
                    "Java",
                    "Java",
                    "React/Typescript",
                    "Python",
                    "Java",
                    "Python",
                    "Golang ",
                    "Python",
                    "C#",
                    "Java",
                    "Java",
                    "Java",
                    "Java",
                    "Python",
                    "iOS",
                    "Python ",
                    "Angular",
                    "php",
                    "Ruby",
                    "Java",
                    "Salesforce ",
                    "javascript",
                    "Python",
                    "C++",
                    "TypeScript",
                    "Kotlin",
                    "Java/C++",
                    "Scala / Python",
                    "C++",
                    "Java",
                    "Python",
                    "Java",
                    "C",
                    "Java",
                    "Java",
                    "Java",
                    "Java/Scala",
                    "Python",
                    "Java",
                    "Javascript",
                    "PHP",
                    "Python",
                    "C++",
                    "Java",
                    "Java",
                    "python",
                    "Ruby",
                    "Swift",
                    "JavaScript",
                    "Java",
                    "PHP",
                    "Java",
                    "Python ",
                    "Java",
                    "Web developer",
                    "JavaScript/Typescript",
                    "Java",
                    "Java",
                    "Javascript",
                    "Java",
                    "Android",
                    "PHP",
                    "Python",
                    ".NET",
                    "TypeScript, React",
                    "Java",
                    "Kotlin",
                    "Java",
                    "Swift",
                    "Java",
                    "python",
                    "Python / JavaScript (React)",
                    "JavaScript / typescript",
                    "Java",
                    "Terraform",
                    "JavaScript",
                    "SQL",
                    "PHP",
                    "JavaScript",
                    "Swift",
                    "JAVA",
                    "Apache Spark",
                    "C#",
                    "Java",
                    ".NET",
                    "Ruby",
                    "python",
                    "JavaScript",
                    "C#",
                    "Computer Networking,  Network Security ",
                    "Java",
                    "C#",
                    "Javascript",
                    "Java",
                    "Elixir",
                    "SAP BW / ABAP",
                    "Go, PHP, SQL",
                    "Swift",
                    "ABAP",
                    "Java",
                    "java",
                    "Kotlin ",
                    "Jira",
                    "Qml",
                    "C",
                    "PHP",
                    "AWS",
                    "Java",
                    "C#/.NET",
                    "PHP",
                    "PHP",
                    "JS",
                    "Java",
                    "PHP",
                    ".Net",
                    "Android",
                    "Javascript",
                    "Javascript / Typescript",
                    "JavaScript",
                    "JavaScript",
                    ".NET",
                    "JavaScript",
                    "JavaScript",
                    "python",
                    "Java",
                    "JavaScript ",
                    "Go",
                    "Java",
                    "Java",
                    "PHP",
                    "Go",
                    "Python",
                    "Java",
                    "Python ",
                    "C#",
                    "Python",
                    "Python",
                    "Python ",
                    "Python",
                    "Python",
                    "Java",
                    "Java",
                    "Python",
                    "Swift",
                    "Python",
                    "Java",
                    "Javascript",
                    "Javascript / Typescript",
                    "java",
                    "Kotlin, Java",
                    "Go",
                    "SQL",
                    "Python",
                    "Java",
                    "Linux Kernel",
                    "Java",
                    "Javascript",
                    "several",
                    "Java",
                    "C#",
                    "Java",
                    "Python ",
                    "javascript",
                    "Java",
                    "Python",
                    "Android/Kotlin",
                    "Python",
                    "embedded",
                    "Java",
                    "JavaScript",
                    "PHP",
                    "Java/Groovy",
                    "Python ",
                    "Java",
                    "PHP",
                    "Python ",
                    "Typescript",
                    "Python",
                    "typescript",
                    "Swift",
                    "Scala",
                    "python",
                    "java",
                    "Python + SQL",
                    "javascript",
                    "Java",
                    "Go",
                    "Java",
                    "Java",
                    "Typescript",
                    "Typescript, Web apps",
                    "Python",
                    "Python",
                    "Python",
                    "Scala",
                    "PHP",
                    "JavaScript",
                    "Java",
                    "Python",
                    "Swift",
                    "Terraform ",
                    "Java",
                    "python",
                    "Java",
                    "Python",
                    "Scala",
                    "Java",
                    "AWS",
                    "Java",
                    "Java, .Net",
                    "Python",
                    "Python, statistics, SQL",
                    "Scala",
                    "C",
                    "Java",
                    "C++",
                    "Java",
                    "Node.js",
                    "Sql, BQ, tableau, gtm, ga",
                    "React ",
                    "Business Development Manager Operation ",
                    "TypeScript",
                    "Typescript",
                    "Management",
                    "Javascript / Typescript",
                    "Bash",
                    "C++",
                    "Java",
                    "Python",
                    "C++",
                    "Java",
                    "JS",
                    "Java",
                    "Python",
                    "C++",
                    "Java, Kotlin",
                    "Python",
                    "R",
                    "Nodejs",
                    "TS",
                    "Python",
                    "C++",
                    "Python",
                    "PHP",
                    "sql",
                    "javascript",
                    "JavaScript ",
                    "Java",
                    "Java",
                    "Spark, Pytorch",
                    "Java",
                    "PHP",
                    "C/C++",
                    "javascript",
                    "Golang",
                    "Java",
                    "java/scala/go/clouds/devops",
                    "Java",
                    "JS",
                    "C#",
                    "Java",
                    "C",
                    "Java",
                    "C/C++",
                    "Java",
                    "Java ",
                    "Java",
                    "Java",
                    "Python",
                    "Swift",
                    "Java",
                    "Python",
                    ".net",
                    "Linux/UNIX, GIT, Virtualisation Platforms, *shell(s) scripts",
                    "AWS",
                    "Python",
                    "Java",
                    "php",
                    "Python",
                    "Java",
                    "TypeScript",
                    "Java",
                    "Python, SQL",
                    "python",
                    "Swift",
                    "Java",
                    "JavaScript",
                    "DWH",
                    "JavaScript",
                    "Python",
                    "QA",
                    "python",
                    "Swift",
                    "Azure",
                    "C++",
                    "Sketch, Figma",
                    "Python",
                    "Java",
                    "iOS",
                    "Kotlin",
                    "Java",
                    "Java",
                    "Java",
                    "JS",
                    "js",
                    "k8s",
                    "Java",
                    "Php",
                    "Java",
                    "Kotlin",
                    "Java",
                    "Frontend: react, node.js",
                    "VB, RPA, Python",
                    "Go",
                    "FBD",
                    "Java",
                    "C, C++",
                    "Java",
                    "Swift, Objective-C, iOS",
                    "Ruby",
                    "Ruby",
                    "Embedded",
                    "Go",
                    "JavaScript / TypeScript",
                    "Kotlin",
                    "Javascript",
                    "Java",
                    "Java",
                    "JavaScript",
                    "python",
                    "Java",
                    "Java",
                    "Java",
                    "Java",
                    "SAP / ABAP",
                    "Python",
                    "Kubrrnetes",
                    "Java",
                    "Java",
                    "python",
                    "Java",
                    "C#",
                    "Swift",
                    "C++",
                    "iOS",
                    "JavaScript",
                    "PHP",
                    "Java",
                    "TypeScript",
                    "JS",
                    "Java",
                    "Python",
                    "ABAP",
                    "Java",
                    "Python",
                    "networking, linux, automation, cloud",
                    "PHP",
                    "java",
                    "Java",
                    "UML",
                    "python",
                    "JavaScript",
                    "Spark",
                    "Js, reactJS ",
                    "Scala",
                    "Java",
                    "Cobol",
                    "Java",
                    "JavaScript ",
                    "ABAP",
                    "JavaScript",
                    "SRE",
                    "Python ",
                    "Java",
                    "Java",
                    "Android",
                    "Clojure",
                    "Javascript",
                    "JS, WDIO",
                    "Python",
                    "Ruby",
                    "Terraform, Kubernetes, AWS, GCP, Ansible, Puppet",
                    "JavaScript ",
                    "Java",
                    "TypeScript",
                    "JS",
                    "Elixir",
                    "Go",
                    "Java",
                    "Python",
                    "Spring",
                    "Python",
                    "PHP ",
                    "Javascript",
                    "Java",
                    "Java",
                    "C#",
                    "Java",
                    "Swift",
                    "PHP",
                    "C, C++",
                    "Java",
                    "Java",
                    "Python",
                    "swift",
                    "React",
                    ".Net",
                    "Java",
                    "Swift",
                    "Javascript",
                    "Golang",
                    "Офмф",
                    "C++",
                    "php",
                    "python",
                    "Python",
                    "Kotlin",
                    "React JS",
                    "Java",
                    "Java",
                    "Python",
                    "Python",
                    "Java",
                    "Python",
                    "Python",
                    "Typescript ",
                    "C",
                    "Go",
                    "Go",
                    "Java",
                    "Java",
                    "JavaScript",
                    "Python",
                    "Javascript",
                    "TypeScript/Angular",
                    "golang",
                    "Python",
                    "Java",
                    "R",
                    "C#",
                    "PHP",
                    "Java",
                    "Java",
                    "C#",
                    "Python",
                    "Java",
                    "Go",
                    "C++",
                    "Python",
                    "Kotlin/PHP",
                    "iOS",
                    "Python",
                    "C++",
                    "Java",
                    "Java",
                    "Python ",
                    "JavaScript",
                    "C++",
                    "Java",
                    "C#",
                    "Java",
                    "Go",
                    "python",
                    "Java",
                    "Python",
                    "PHP",
                    "Python",
                    "Python",
                    "python",
                    "TypeScript",
                    "Python",
                    "Java",
                    "Python",
                    "JS",
                    "Python",
                    "SAP ABAP",
                    "Spark",
                    "Go",
                    "Python",
                    "AI",
                    "Python",
                    "Python",
                    "Java",
                    "Swift",
                    "R",
                    "pythin",
                    "C#",
                    "Python",
                    "Java",
                    "Python",
                    "Python",
                    "R",
                    "julia",
                    "Java",
                    "Java & PHP",
                    "Typescript",
                    "Python",
                    "R",
                    "Python",
                    "Python",
                    "Java",
                    "Java",
                    "Java",
                    "Sql ",
                    "Frontend",
                    "Java/Kotlin",
                    "Python",
                    "React",
                    "C++/c",
                    "SQL",
                    "Kubernetes",
                    "Python",
                    "Java",
                    "Python",
                    "Angular, Typescript",
                    "C#",
                    "PHP",
                    "Python",
                    "Java",
                    "Python",
                    "Pyrhon",
                    "Java",
                    ".net",
                    "PM tools",
                    "C++",
                    "Java",
                    "Grails, Groovy",
                    "Java",
                    "Python",
                    "Java",
                    "Ruby",
                    "C++",
                    "PHP",
                    "PHP",
                    "Java",
                    "python ",
                    "JavaScript",
                    ".NET",
                    "React / JavaScript",
                    "Perl",
                    "Java",
                    "kotlin",
                    "Java",
                    ".net",
                    "Python",
                    "Java",
                    "Ruby",
                    "Java",
                    "Python, cloud computing ",
                    "Python",
                    "Java",
                    "JS",
                    "Java",
                    "Haskell",
                    "JavScript",
                    "Java",
                    "JavaScript",
                    "Ruby",
                    "js",
                    "python",
                    "Java",
                    "R",
                    "Java",
                    "Php",
                    "Python",
                    "C++",
                    "Python ",
                    "Python",
                    "Java",
                    "SQL",
                    "Python (Django)",
                    "Python",
                    "C++",
                    "Go",
                    "Python ",
                    "Python",
                    "Python",
                    "Python",
                    "Python",
                    "Python",
                    "Python",
                    "Python ",
                    "JavaScript",
                    "R",
                    "Python",
                    "C",
                    "SQL",
                    "Python",
                    "Java",
                    "Python",
                    "Python",
                    "Kotlin",
                    "TypeScript",
                    "Python",
                    "Network Automation",
                    "Kotlin",
                    "C++",
                    "C++",
                    "Python",
                    "C#",
                    "python",
                    "Python",
                    "Kubernetes, Terraform, GCP",
                    "PowerShell",
                    "Python",
                    "Java",
                    "Python",
                    "JavaScript",
                    "python, scala",
                    "Java",
                    "TypeScript",
                    "Java",
                    "Django, Flask, Plotly Dash",
                    "QA",
                    "python",
                    "Python",
                    "Python",
                    "Python",
                    "Python",
                    "Sql",
                    "C#",
                    "PHP",
                    "Python",
                    "Python",
                    "Javascript / Typescript",
                    "Javascript, Angular",
                    "Python",
                    "C",
                    "C",
                    "Java",
                    "C++",
                    "SAS,SQL,Python",
                    "Typescript",
                    "Node",
                    "Python/SQL",
                    "Python",
                    "php, js, python, docker",
                    "C, Matlab",
                    "C++",
                    "Javascript",
                    "Java",
                    "Java",
                    "TypeScript, Kotlin",
                    "Python ",
                    "C++",
                    "Java",
                    "Ruby",
                    "Cloud",
                    "Javascript",
                    "Java",
                    "Java",
                    "JavaScript / TypeScript",
                    "Java",
                    "Typescript",
                    "Embedded",
                    "Java",
                    "Apotheker",
                    ".net",
                    "Python",
                    "Python",
                    "JavaScript, TypeScript",
                    "Java",
                    "Java",
                    "Tricentis Tosca",
                    "SQL",
                    "Scala",
                    "Python, SQL",
                    "Swift/Kotlin",
                    "JavaScript",
                    "Python ",
                    "Sql ",
                    ".NET",
                    "Java & Distributed Systems Stuff",
                    "Php",
                    ".NET",
                    ".NET",
                    "C++",
                    "javascript",
                    "Elixir",
                    "C#",
                    "Python",
                    "Java",
                    "QA",
                    "Embedded",
                    "Java",
                    "Python",
                    "Java",
                    "Java",
                    "PHP",
                    "PHP",
                    "Scala",
                    "JS",
                    "Java",
                    "python",
                    "Kotlin",
                    "iOS",
                    "jenkins bash",
                    "Java",
                    "Java",
                    "PHP",
                    "Kotlin",
                    "Python",
                    "javascript",
                    "Python",
                    "Python",
                    "Test Management ",
                    "JavaScript",
                    "Python",
                    "TypeScript",
                    "Python",
                    "Python",
                    "Python",
                    "Java",
                    "NodeJS/TS",
                    "PHP/MySQL",
                    "Java",
                    "Python",
                    "Angular, TypeScript",
                    "python",
                    "C#",
                    "Java",
                    "Java",
                    "Java",
                    "Java",
                    "C",
                    "C++",
                    "NLP, Python",
                    "Java",
                    "Python",
                    "Python",
                    "PHP",
                    "php",
                    "Java",
                    "Python, Whole Apache Data Science Stack, AWS",
                    "Python",
                    "Java",
                    "Go",
                    "Java",
                    "Java",
                    "Python",
                    "Php",
                    "Java",
                    "Java",
                    "SQL",
                    "Python",
                    "SQL",
                    "Python ",
                    "Node.js",
                    "Embedded C++",
                    "Python",
                    "Java",
                    "Swift",
                    "Java",
                    "JS",
                    "C++",
                    "Python",
                    "Python",
                    "Java",
                    "Java",
                    "Go",
                    "Java",
                    "NodsJs",
                    "Java",
                    "Javascript/Typescript",
                    "Java",
                    "python",
                    "Linux",
                    "Java",
                    "Java",
                    "Kuberenetes, Openstack",
                    "Java",
                    "c/c++",
                    "Java",
                    "JavaScript/Typescript",
                    "Python",
                    "C#",
                    "Python ",
                    "java",
                    "Swift",
                    "c++",
                    "SQL",
                    ".NET",
                    "Kotlin",
                    "NodeJS",
                    "JS, Java",
                    "Python, Pytorch",
                    "PS, Sketch, React, CSS3",
                    "Python",
                    "Java",
                    "C++",
                    "Python/NLP",
                    "Java",
                    "Python",
                    "Java",
                    "Java",
                    "Javascript",
                    "Scala, Apache Spark",
                    "Python",
                    "c++",
                    "Python",
                    "Java",
                    "Java",
                    "Python",
                    "Python",
                    "Swift, Objective-C",
                    "Python",
                    "React.js / TypeScript",
                    "BI, DWH, ETL/ELT",
                    "Scala",
                    "Java",
                    "Scala",
                    "Scala",
                    "Scala",
                    "Java",
                    "C++",
                    "Java",
                    "Java",
                    "Python",
                    "Kotlin",
                    "Java",
                    "Java",
                    "Python",
                    "GCP",
                    "javascript",
                    "Web",
                    "Python",
                    "Scala",
                    "Python",
                    "PHP",
                    "Python",
                    "PL/SQL",
                    "SAP",
                    "Javascript",
                    "PHP",
                    "Go",
                    "Swift",
                    "scala",
                    "C#",
                    "AWS",
                    "Java",
                    "Java / Scala",
                    "java",
                    "Java",
                    "Magento",
                    "Java",
                    "C++",
                    "Ruby on Rails",
                    ".net",
                    "Python, database technologies",
                    "Android",
                    "SQL",
                    "JavaScript ",
                    "PHP",
                    "Go",
                    "Java",
                    "Java",
                    "C#",
                    "C++, C#",
                    "Kotlin",
                    "python",
                    "Java Backend",
                    "C++",
                    ".net, c++, spss, embeddded",
                    "Ruby on Rails",
                    "TypeScript",
                    ".NET",
                    "Javascript",
                    "Java",
                    "Scala",
                    ".Net, Angular",
                    "Java",
                    "Atlassian JIRA",
                    "Java",
                    "Python",
                    "Python",
                    "Java",
                    "Android",
                    "Qlik",
                    "Java",
                    "spark",
                    "Kubernetes",
                    "SAP",
                    "Java",
                    "Scala",
                    "JavaScript",
                    "Java",
                    "PHP",
                    "Java",
                    "consumer analysis",
                    "PHP",
                    "JavaScript",
                    "yaml"
                  ],
                  "xaxis": "x",
                  "y": [
                    "Male",
                    "Male",
                    "Male",
                    "Male",
                    "Male",
                    "Male",
                    "Male",
                    "Male",
                    "Male",
                    "Male",
                    "Female",
                    "Male",
                    "Male",
                    "Male",
                    "Male",
                    "Male",
                    "Male",
                    "Male",
                    "Male",
                    "Male",
                    "Male",
                    "Male",
                    "Male",
                    "Male",
                    "Male",
                    "Male",
                    "Male",
                    "Male",
                    "Male",
                    "Male",
                    "Male",
                    "Male",
                    "Female",
                    "Male",
                    "Male",
                    "Male",
                    "Female",
                    "Male",
                    "Male",
                    "Male",
                    "Male",
                    "Male",
                    "Male",
                    "Female",
                    "Male",
                    "Male",
                    "Female",
                    "Male",
                    "Female",
                    "Male",
                    "Male",
                    "Female",
                    "Female",
                    "Male",
                    "Male",
                    "Male",
                    "Male",
                    "Male",
                    "Male",
                    "Male",
                    "Female",
                    "Male",
                    "Male",
                    "Male",
                    "Male",
                    "Male",
                    "Male",
                    "Male",
                    "Male",
                    "Male",
                    "Male",
                    "Male",
                    "Male",
                    "Male",
                    "Male",
                    "Male",
                    "Male",
                    "Male",
                    "Male",
                    "Female",
                    "Male",
                    "Female",
                    "Male",
                    "Male",
                    "Male",
                    "Male",
                    "Male",
                    "Female",
                    "Male",
                    "Male",
                    "Male",
                    "Male",
                    "Female",
                    "Female",
                    "Female",
                    "Male",
                    "Male",
                    "Female",
                    "Male",
                    "Male",
                    "Male",
                    "Male",
                    "Female",
                    "Male",
                    "Male",
                    "Male",
                    "Male",
                    "Male",
                    "Male",
                    "Male",
                    "Male",
                    "Male",
                    "Male",
                    "Male",
                    "Male",
                    "Male",
                    "Female",
                    "Female",
                    "Male",
                    "Male",
                    "Male",
                    "Female",
                    "Male",
                    "Female",
                    "Male",
                    "Male",
                    "Male",
                    "Male",
                    "Male",
                    "Male",
                    "Male",
                    "Male",
                    "Male",
                    "Male",
                    "Male",
                    "Male",
                    "Male",
                    "Male",
                    "Male",
                    "Male",
                    "Male",
                    "Male",
                    "Male",
                    "Male",
                    "Male",
                    "Male",
                    "Male",
                    "Female",
                    "Male",
                    "Male",
                    "Male",
                    "Female",
                    "Male",
                    "Female",
                    "Female",
                    "Male",
                    "Male",
                    "Male",
                    "Male",
                    "Male",
                    "Male",
                    "Female",
                    "Male",
                    "Male",
                    "Male",
                    "Female",
                    "Male",
                    "Male",
                    "Male",
                    "Male",
                    "Male",
                    "Male",
                    "Male",
                    "Male",
                    "Male",
                    "Male",
                    "Male",
                    "Male",
                    "Male",
                    "Female",
                    "Male",
                    "Male",
                    "Male",
                    "Male",
                    "Male",
                    "Male",
                    "Male",
                    "Male",
                    "Male",
                    "Male",
                    "Male",
                    "Female",
                    "Male",
                    "Male",
                    "Male",
                    "Male",
                    "Male",
                    "Male",
                    "Female",
                    "Male",
                    "Male",
                    "Male",
                    "Male",
                    "Male",
                    "Female",
                    "Female",
                    "Male",
                    "Male",
                    "Male",
                    "Male",
                    "Female",
                    "Male",
                    "Male",
                    "Male",
                    "Male",
                    "Male",
                    "Female",
                    "Male",
                    "Male",
                    "Male",
                    "Male",
                    "Male",
                    "Male",
                    "Male",
                    "Male",
                    "Male",
                    "Male",
                    "Male",
                    "Male",
                    "Male",
                    "Male",
                    "Female",
                    "Male",
                    "Male",
                    "Male",
                    "Male",
                    "Male",
                    "Male",
                    "Male",
                    "Female",
                    "Female",
                    "Male",
                    "Female",
                    "Male",
                    "Male",
                    "Female",
                    "Male",
                    "Male",
                    "Male",
                    "Male",
                    "Male",
                    "Male",
                    "Male",
                    "Male",
                    "Female",
                    "Male",
                    "Male",
                    "Male",
                    "Male",
                    "Male",
                    "Male",
                    "Male",
                    "Male",
                    "Male",
                    "Male",
                    "Male",
                    "Male",
                    "Male",
                    "Female",
                    "Male",
                    "Male",
                    "Male",
                    "Male",
                    "Male",
                    "Female",
                    "Male",
                    "Male",
                    "Male",
                    "Male",
                    "Male",
                    "Male",
                    "Male",
                    "Female",
                    "Male",
                    "Male",
                    "Female",
                    "Male",
                    "Male",
                    "Male",
                    "Male",
                    "Male",
                    "Male",
                    "Male",
                    "Male",
                    "Male",
                    "Male",
                    "Male",
                    "Male",
                    "Male",
                    "Male",
                    "Male",
                    "Male",
                    "Male",
                    "Male",
                    "Male",
                    "Female",
                    "Male",
                    "Male",
                    "Male",
                    "Male",
                    "Female",
                    "Male",
                    "Male",
                    "Female",
                    "Male",
                    "Male",
                    "Male",
                    "Male",
                    "Diverse",
                    "Male",
                    "Male",
                    "Male",
                    "Male",
                    "Male",
                    "Female",
                    "Male",
                    "Male",
                    "Male",
                    "Male",
                    "Male",
                    "Male",
                    "Male",
                    "Male",
                    "Male",
                    "Male",
                    "Male",
                    "Male",
                    "Male",
                    "Male",
                    "Male",
                    "Male",
                    "Male",
                    "Male",
                    "Male",
                    "Male",
                    "Male",
                    "Male",
                    "Male",
                    "Male",
                    "Male",
                    "Male",
                    "Male",
                    "Male",
                    "Male",
                    "Male",
                    "Male",
                    "Female",
                    "Male",
                    "Male",
                    "Male",
                    "Male",
                    "Male",
                    "Male",
                    "Male",
                    "Male",
                    "Male",
                    "Male",
                    "Male",
                    "Male",
                    "Male",
                    "Male",
                    "Female",
                    "Male",
                    "Female",
                    "Male",
                    "Male",
                    "Male",
                    "Male",
                    "Male",
                    "Male",
                    "Male",
                    "Male",
                    "Male",
                    "Male",
                    "Male",
                    "Male",
                    "Male",
                    "Male",
                    "Male",
                    "Male",
                    "Male",
                    "Male",
                    "Male",
                    "Male",
                    "Male",
                    "Male",
                    "Male",
                    "Male",
                    "Female",
                    "Male",
                    "Male",
                    "Male",
                    "Female",
                    "Male",
                    "Female",
                    "Male",
                    "Male",
                    "Male",
                    "Male",
                    "Male",
                    "Male",
                    "Male",
                    "Female",
                    "Male",
                    "Male",
                    "Male",
                    "Male",
                    "Male",
                    "Male",
                    "Female",
                    "Female",
                    "Male",
                    "Male",
                    "Male",
                    "Male",
                    "Male",
                    "Female",
                    "Female",
                    "Female",
                    "Male",
                    "Female",
                    "Male",
                    "Male",
                    "Male",
                    "Male",
                    "Male",
                    "Male",
                    "Male",
                    "Male",
                    "Male",
                    "Male",
                    "Male",
                    "Male",
                    "Male",
                    "Male",
                    "Male",
                    "Female",
                    "Male",
                    "Female",
                    "Male",
                    "Male",
                    "Female",
                    "Female",
                    "Male",
                    "Male",
                    "Male",
                    "Male",
                    "Male",
                    "Male",
                    "Male",
                    "Male",
                    "Female",
                    "Male",
                    "Female",
                    "Male",
                    "Male",
                    "Male",
                    "Male",
                    "Female",
                    "Male",
                    "Male",
                    "Male",
                    "Female",
                    "Male",
                    "Male",
                    "Male",
                    "Male",
                    "Male",
                    "Female",
                    "Male",
                    "Male",
                    "Male",
                    "Male",
                    "Male",
                    "Male",
                    "Male",
                    "Female",
                    "Male",
                    "Male",
                    "Male",
                    "Male",
                    "Male",
                    "Male",
                    "Male",
                    "Male",
                    "Male",
                    "Male",
                    "Male",
                    "Male",
                    "Male",
                    "Female",
                    "Male",
                    "Male",
                    "Male",
                    "Male",
                    "Male",
                    "Male",
                    "Male",
                    "Male",
                    "Female",
                    "Female",
                    "Male",
                    "Male",
                    "Male",
                    "Female",
                    "Male",
                    "Male",
                    "Male",
                    "Male",
                    "Male",
                    "Male",
                    "Male",
                    "Male",
                    "Female",
                    "Female",
                    "Male",
                    "Male",
                    "Female",
                    "Male",
                    "Male",
                    "Male",
                    "Male",
                    "Male",
                    "Male",
                    "Male",
                    "Male",
                    "Male",
                    "Male",
                    "Male",
                    "Male",
                    "Male",
                    "Male",
                    "Male",
                    "Male",
                    "Male",
                    "Male",
                    "Male",
                    "Male",
                    "Male",
                    "Male",
                    "Male",
                    "Male",
                    "Male",
                    "Male",
                    "Male",
                    "Male",
                    "Male",
                    "Male",
                    "Male",
                    "Male",
                    "Male",
                    "Male",
                    "Male",
                    "Female",
                    "Male",
                    "Male",
                    "Male",
                    "Male",
                    "Male",
                    "Male",
                    "Male",
                    "Female",
                    "Male",
                    "Male",
                    "Male",
                    "Male",
                    "Male",
                    "Male",
                    "Male",
                    "Female",
                    "Male",
                    "Female",
                    "Male",
                    "Male",
                    "Female",
                    "Male",
                    "Male",
                    "Male",
                    "Male",
                    "Female",
                    "Male",
                    "Female",
                    "Male",
                    "Male",
                    "Male",
                    "Male",
                    "Male",
                    "Male",
                    "Male",
                    "Male",
                    "Female",
                    "Female",
                    "Male",
                    "Male",
                    "Male",
                    "Female",
                    "Male",
                    "Male",
                    "Male",
                    "Male",
                    "Male",
                    "Male",
                    "Male",
                    "Male",
                    "Male",
                    "Male",
                    "Female",
                    "Male",
                    "Male",
                    "Male",
                    "Male",
                    "Male",
                    "Male",
                    "Male",
                    "Male",
                    "Male",
                    "Male",
                    "Male",
                    "Male",
                    "Male",
                    "Male",
                    "Female",
                    "Male",
                    "Male",
                    "Male",
                    "Male",
                    "Male",
                    "Male",
                    "Male",
                    "Female",
                    "Male",
                    "Male",
                    "Female",
                    "Female",
                    "Male",
                    "Male",
                    "Male",
                    "Female",
                    "Male",
                    "Male",
                    "Female",
                    "Male",
                    "Female",
                    "Male",
                    "Male",
                    "Male",
                    "Female",
                    "Male",
                    "Male",
                    "Male",
                    "Male",
                    "Female",
                    "Male",
                    "Male",
                    "Male",
                    "Male",
                    "Male",
                    "Male",
                    "Male",
                    "Male",
                    "Female",
                    "Male",
                    "Male",
                    "Male",
                    "Male",
                    "Male",
                    "Male",
                    "Male",
                    "Female",
                    "Male",
                    "Female",
                    "Male",
                    "Male",
                    "Male",
                    "Male",
                    "Female",
                    "Male",
                    "Female",
                    "Male",
                    "Male",
                    "Male",
                    "Male",
                    "Male",
                    "Male",
                    "Female",
                    "Male",
                    "Male",
                    "Male",
                    "Male",
                    "Male",
                    "Male",
                    "Male",
                    "Male",
                    "Male",
                    "Male",
                    "Male",
                    "Male",
                    "Male",
                    "Male",
                    "Male",
                    "Male",
                    "Male",
                    "Male",
                    "Female",
                    "Male",
                    "Male",
                    "Male",
                    "Female",
                    "Male",
                    "Male",
                    "Male",
                    "Male",
                    "Male",
                    "Male",
                    "Male",
                    "Male",
                    "Male",
                    "Diverse",
                    "Male",
                    "Male",
                    "Female",
                    "Male",
                    "Male",
                    "Male",
                    "Male",
                    "Male",
                    "Male",
                    "Male",
                    "Male",
                    "Female",
                    "Male",
                    "Male",
                    "Female",
                    "Male",
                    "Female",
                    "Male",
                    "Male",
                    "Male",
                    "Male",
                    "Female",
                    "Female",
                    "Male",
                    "Male",
                    "Male",
                    "Male",
                    "Female",
                    "Male",
                    "Male",
                    "Male",
                    "Male",
                    "Female",
                    "Male",
                    "Male",
                    "Male",
                    "Male",
                    "Male",
                    "Female",
                    "Male",
                    "Male",
                    "Male",
                    "Male",
                    "Male",
                    "Male",
                    "Male",
                    "Male",
                    "Male",
                    "Male",
                    "Male",
                    "Male",
                    "Male",
                    "Male",
                    "Male",
                    "Male",
                    "Male",
                    "Male",
                    "Male",
                    "Male",
                    "Male",
                    "Male",
                    "Male",
                    "Male",
                    "Male",
                    "Male",
                    "Male",
                    "Male",
                    "Male",
                    "Male",
                    "Male",
                    "Female",
                    "Female",
                    "Male",
                    "Male",
                    "Male",
                    "Male",
                    "Male",
                    "Female",
                    "Male",
                    "Male",
                    "Male",
                    "Male",
                    "Male",
                    "Male",
                    "Male",
                    "Male",
                    "Female",
                    "Male",
                    "Female",
                    "Female",
                    "Male",
                    "Male",
                    "Male",
                    "Male",
                    "Male",
                    "Male",
                    "Male",
                    "Male",
                    "Male",
                    "Male",
                    "Male",
                    "Male",
                    "Male",
                    "Male",
                    "Male",
                    "Male",
                    "Female",
                    "Male",
                    "Male",
                    "Male",
                    "Male",
                    "Male",
                    "Female",
                    "Male",
                    "Female",
                    "Male",
                    "Male",
                    "Female",
                    "Female",
                    "Male",
                    "Female",
                    "Male",
                    "Male",
                    "Male",
                    "Male",
                    "Female",
                    "Female",
                    "Male",
                    "Male",
                    "Male",
                    "Male",
                    "Male",
                    "Male",
                    "Male",
                    "Male",
                    "Male",
                    "Female",
                    "Male",
                    "Female",
                    "Male",
                    "Female",
                    "Male",
                    "Male",
                    "Male",
                    "Male",
                    "Female",
                    "Male",
                    "Male",
                    "Male",
                    "Male",
                    "Male",
                    "Female",
                    "Male",
                    "Male",
                    "Male",
                    "Male",
                    "Male",
                    "Male",
                    "Male",
                    "Male",
                    "Male",
                    "Male",
                    "Female",
                    "Male",
                    "Male",
                    "Male",
                    "Male",
                    "Female",
                    "Female",
                    "Male",
                    "Male",
                    "Male",
                    "Male",
                    "Male",
                    "Male",
                    "Female",
                    "Male",
                    "Male",
                    "Male",
                    "Male",
                    "Male",
                    "Female",
                    "Male",
                    "Male",
                    "Female",
                    "Male",
                    "Male",
                    "Male",
                    "Male",
                    "Male",
                    "Male",
                    "Male",
                    "Male",
                    "Male",
                    "Female",
                    "Male",
                    "Male",
                    "Male",
                    "Male",
                    "Male",
                    "Male",
                    "Male",
                    "Male",
                    "Male",
                    "Female",
                    "Female",
                    "Male",
                    "Male",
                    "Male",
                    "Male",
                    "Male",
                    "Male",
                    "Male",
                    "Male",
                    "Female",
                    "Male",
                    "Male",
                    "Male",
                    "Male",
                    "Male",
                    "Male",
                    "Female",
                    "Male",
                    "Male",
                    "Male",
                    "Male",
                    "Male",
                    "Male",
                    "Male",
                    "Male",
                    "Male",
                    "Male",
                    "Male",
                    "Male",
                    "Male",
                    "Male",
                    "Male",
                    "Male",
                    "Male",
                    "Male",
                    "Male",
                    "Male",
                    "Male",
                    "Male",
                    "Male",
                    "Male",
                    "Female",
                    "Male",
                    "Male",
                    "Male",
                    "Male",
                    "Male",
                    "Male",
                    "Male",
                    "Male",
                    "Male",
                    "Male",
                    "Male",
                    "Male",
                    "Male",
                    "Male",
                    "Male",
                    "Male",
                    "Male",
                    "Female",
                    "Male",
                    "Male",
                    "Male",
                    "Male",
                    "Male",
                    "Male",
                    "Male",
                    "Male",
                    "Male",
                    "Female",
                    "Male",
                    "Female",
                    "Male",
                    "Male",
                    "Male",
                    "Male",
                    "Female",
                    "Male",
                    "Male",
                    "Male",
                    "Male",
                    "Female",
                    "Male",
                    "Male",
                    "Male",
                    "Male",
                    "Male",
                    "Male",
                    "Female",
                    "Male",
                    "Male",
                    "Female",
                    "Female",
                    "Male",
                    "Male",
                    "Male",
                    "Male",
                    "Male",
                    "Female",
                    "Male",
                    "Male",
                    "Male",
                    "Male",
                    "Male",
                    "Male",
                    "Male",
                    "Male",
                    "Female",
                    "Male",
                    "Male",
                    "Female",
                    "Male",
                    "Male",
                    "Male",
                    "Female",
                    "Male",
                    "Male",
                    "Male",
                    "Male",
                    "Female",
                    "Female",
                    "Male",
                    "Male",
                    "Male",
                    "Male",
                    "Male",
                    "Male",
                    "Male",
                    "Male",
                    "Male",
                    "Male",
                    "Female",
                    "Male",
                    "Female",
                    "Male",
                    "Male",
                    "Male",
                    "Female",
                    "Male",
                    "Male",
                    "Male",
                    "Male",
                    "Male",
                    "Male",
                    "Male",
                    "Female",
                    "Female",
                    "Male",
                    "Female",
                    "Male",
                    "Female",
                    "Male",
                    "Male",
                    "Male",
                    "Male",
                    "Male",
                    "Male",
                    "Female",
                    "Male",
                    "Male",
                    "Male",
                    "Male",
                    "Female",
                    "Male",
                    "Male",
                    "Male",
                    "Male",
                    "Male",
                    "Male",
                    "Female",
                    "Male",
                    "Male",
                    "Male",
                    "Male",
                    "Female",
                    "Male",
                    "Male",
                    "Male",
                    "Male",
                    "Male",
                    "Male",
                    "Male",
                    "Male",
                    "Male",
                    "Male",
                    "Male",
                    "Male",
                    "Male",
                    "Male",
                    "Male",
                    "Male",
                    "Male",
                    "Male",
                    "Male",
                    "Male",
                    "Male",
                    "Male",
                    "Male",
                    "Male",
                    "Male",
                    "Female",
                    "Female",
                    "Male",
                    "Male",
                    "Male",
                    "Female",
                    "Male",
                    "Female",
                    "Male",
                    "Male",
                    "Male",
                    "Male",
                    "Male",
                    "Male",
                    "Female",
                    "Male",
                    "Male",
                    "Male",
                    "Male",
                    "Male",
                    "Male",
                    "Male",
                    "Female",
                    "Female",
                    "Female",
                    "Female",
                    "Male",
                    "Male",
                    "Female",
                    "Female",
                    "Male",
                    "Male",
                    "Male",
                    "Male",
                    "Male",
                    "Male",
                    "Male",
                    "Female",
                    "Male",
                    "Male",
                    "Male",
                    "Male",
                    "Male",
                    "Male",
                    "Male",
                    "Male",
                    "Male",
                    "Male",
                    "Male",
                    "Male",
                    "Male",
                    "Female",
                    "Female",
                    "Male",
                    "Male",
                    "Male",
                    "Male",
                    "Male",
                    "Male",
                    "Female",
                    "Male",
                    "Male",
                    "Male",
                    "Male",
                    "Male",
                    "Male",
                    "Male",
                    "Male",
                    "Male",
                    "Male",
                    "Female",
                    "Male",
                    "Male",
                    "Male",
                    "Male",
                    "Male",
                    "Female",
                    "Male",
                    "Male",
                    "Female",
                    "Male",
                    "Male",
                    "Male",
                    "Male",
                    "Male",
                    "Male",
                    "Male",
                    "Male",
                    "Male",
                    "Male",
                    "Male",
                    "Male",
                    "Male",
                    "Male",
                    "Male",
                    "Male",
                    "Male",
                    "Male",
                    "Male",
                    "Male",
                    "Female",
                    "Male",
                    "Male",
                    "Male",
                    "Male",
                    "Male",
                    "Male",
                    "Female",
                    "Male",
                    "Male",
                    "Female",
                    "Male",
                    "Male",
                    "Male",
                    "Male",
                    "Male",
                    "Male",
                    "Male",
                    "Male",
                    "Male"
                  ],
                  "yaxis": "y"
                }
              ],
              "layout": {
                "barmode": "relative",
                "legend": {
                  "tracegroupgap": 0
                },
                "margin": {
                  "t": 60
                },
                "template": {
                  "data": {
                    "bar": [
                      {
                        "error_x": {
                          "color": "#2a3f5f"
                        },
                        "error_y": {
                          "color": "#2a3f5f"
                        },
                        "marker": {
                          "line": {
                            "color": "#E5ECF6",
                            "width": 0.5
                          }
                        },
                        "type": "bar"
                      }
                    ],
                    "barpolar": [
                      {
                        "marker": {
                          "line": {
                            "color": "#E5ECF6",
                            "width": 0.5
                          }
                        },
                        "type": "barpolar"
                      }
                    ],
                    "carpet": [
                      {
                        "aaxis": {
                          "endlinecolor": "#2a3f5f",
                          "gridcolor": "white",
                          "linecolor": "white",
                          "minorgridcolor": "white",
                          "startlinecolor": "#2a3f5f"
                        },
                        "baxis": {
                          "endlinecolor": "#2a3f5f",
                          "gridcolor": "white",
                          "linecolor": "white",
                          "minorgridcolor": "white",
                          "startlinecolor": "#2a3f5f"
                        },
                        "type": "carpet"
                      }
                    ],
                    "choropleth": [
                      {
                        "colorbar": {
                          "outlinewidth": 0,
                          "ticks": ""
                        },
                        "type": "choropleth"
                      }
                    ],
                    "contour": [
                      {
                        "colorbar": {
                          "outlinewidth": 0,
                          "ticks": ""
                        },
                        "colorscale": [
                          [
                            0,
                            "#0d0887"
                          ],
                          [
                            0.1111111111111111,
                            "#46039f"
                          ],
                          [
                            0.2222222222222222,
                            "#7201a8"
                          ],
                          [
                            0.3333333333333333,
                            "#9c179e"
                          ],
                          [
                            0.4444444444444444,
                            "#bd3786"
                          ],
                          [
                            0.5555555555555556,
                            "#d8576b"
                          ],
                          [
                            0.6666666666666666,
                            "#ed7953"
                          ],
                          [
                            0.7777777777777778,
                            "#fb9f3a"
                          ],
                          [
                            0.8888888888888888,
                            "#fdca26"
                          ],
                          [
                            1,
                            "#f0f921"
                          ]
                        ],
                        "type": "contour"
                      }
                    ],
                    "contourcarpet": [
                      {
                        "colorbar": {
                          "outlinewidth": 0,
                          "ticks": ""
                        },
                        "type": "contourcarpet"
                      }
                    ],
                    "heatmap": [
                      {
                        "colorbar": {
                          "outlinewidth": 0,
                          "ticks": ""
                        },
                        "colorscale": [
                          [
                            0,
                            "#0d0887"
                          ],
                          [
                            0.1111111111111111,
                            "#46039f"
                          ],
                          [
                            0.2222222222222222,
                            "#7201a8"
                          ],
                          [
                            0.3333333333333333,
                            "#9c179e"
                          ],
                          [
                            0.4444444444444444,
                            "#bd3786"
                          ],
                          [
                            0.5555555555555556,
                            "#d8576b"
                          ],
                          [
                            0.6666666666666666,
                            "#ed7953"
                          ],
                          [
                            0.7777777777777778,
                            "#fb9f3a"
                          ],
                          [
                            0.8888888888888888,
                            "#fdca26"
                          ],
                          [
                            1,
                            "#f0f921"
                          ]
                        ],
                        "type": "heatmap"
                      }
                    ],
                    "heatmapgl": [
                      {
                        "colorbar": {
                          "outlinewidth": 0,
                          "ticks": ""
                        },
                        "colorscale": [
                          [
                            0,
                            "#0d0887"
                          ],
                          [
                            0.1111111111111111,
                            "#46039f"
                          ],
                          [
                            0.2222222222222222,
                            "#7201a8"
                          ],
                          [
                            0.3333333333333333,
                            "#9c179e"
                          ],
                          [
                            0.4444444444444444,
                            "#bd3786"
                          ],
                          [
                            0.5555555555555556,
                            "#d8576b"
                          ],
                          [
                            0.6666666666666666,
                            "#ed7953"
                          ],
                          [
                            0.7777777777777778,
                            "#fb9f3a"
                          ],
                          [
                            0.8888888888888888,
                            "#fdca26"
                          ],
                          [
                            1,
                            "#f0f921"
                          ]
                        ],
                        "type": "heatmapgl"
                      }
                    ],
                    "histogram": [
                      {
                        "marker": {
                          "colorbar": {
                            "outlinewidth": 0,
                            "ticks": ""
                          }
                        },
                        "type": "histogram"
                      }
                    ],
                    "histogram2d": [
                      {
                        "colorbar": {
                          "outlinewidth": 0,
                          "ticks": ""
                        },
                        "colorscale": [
                          [
                            0,
                            "#0d0887"
                          ],
                          [
                            0.1111111111111111,
                            "#46039f"
                          ],
                          [
                            0.2222222222222222,
                            "#7201a8"
                          ],
                          [
                            0.3333333333333333,
                            "#9c179e"
                          ],
                          [
                            0.4444444444444444,
                            "#bd3786"
                          ],
                          [
                            0.5555555555555556,
                            "#d8576b"
                          ],
                          [
                            0.6666666666666666,
                            "#ed7953"
                          ],
                          [
                            0.7777777777777778,
                            "#fb9f3a"
                          ],
                          [
                            0.8888888888888888,
                            "#fdca26"
                          ],
                          [
                            1,
                            "#f0f921"
                          ]
                        ],
                        "type": "histogram2d"
                      }
                    ],
                    "histogram2dcontour": [
                      {
                        "colorbar": {
                          "outlinewidth": 0,
                          "ticks": ""
                        },
                        "colorscale": [
                          [
                            0,
                            "#0d0887"
                          ],
                          [
                            0.1111111111111111,
                            "#46039f"
                          ],
                          [
                            0.2222222222222222,
                            "#7201a8"
                          ],
                          [
                            0.3333333333333333,
                            "#9c179e"
                          ],
                          [
                            0.4444444444444444,
                            "#bd3786"
                          ],
                          [
                            0.5555555555555556,
                            "#d8576b"
                          ],
                          [
                            0.6666666666666666,
                            "#ed7953"
                          ],
                          [
                            0.7777777777777778,
                            "#fb9f3a"
                          ],
                          [
                            0.8888888888888888,
                            "#fdca26"
                          ],
                          [
                            1,
                            "#f0f921"
                          ]
                        ],
                        "type": "histogram2dcontour"
                      }
                    ],
                    "mesh3d": [
                      {
                        "colorbar": {
                          "outlinewidth": 0,
                          "ticks": ""
                        },
                        "type": "mesh3d"
                      }
                    ],
                    "parcoords": [
                      {
                        "line": {
                          "colorbar": {
                            "outlinewidth": 0,
                            "ticks": ""
                          }
                        },
                        "type": "parcoords"
                      }
                    ],
                    "pie": [
                      {
                        "automargin": true,
                        "type": "pie"
                      }
                    ],
                    "scatter": [
                      {
                        "marker": {
                          "colorbar": {
                            "outlinewidth": 0,
                            "ticks": ""
                          }
                        },
                        "type": "scatter"
                      }
                    ],
                    "scatter3d": [
                      {
                        "line": {
                          "colorbar": {
                            "outlinewidth": 0,
                            "ticks": ""
                          }
                        },
                        "marker": {
                          "colorbar": {
                            "outlinewidth": 0,
                            "ticks": ""
                          }
                        },
                        "type": "scatter3d"
                      }
                    ],
                    "scattercarpet": [
                      {
                        "marker": {
                          "colorbar": {
                            "outlinewidth": 0,
                            "ticks": ""
                          }
                        },
                        "type": "scattercarpet"
                      }
                    ],
                    "scattergeo": [
                      {
                        "marker": {
                          "colorbar": {
                            "outlinewidth": 0,
                            "ticks": ""
                          }
                        },
                        "type": "scattergeo"
                      }
                    ],
                    "scattergl": [
                      {
                        "marker": {
                          "colorbar": {
                            "outlinewidth": 0,
                            "ticks": ""
                          }
                        },
                        "type": "scattergl"
                      }
                    ],
                    "scattermapbox": [
                      {
                        "marker": {
                          "colorbar": {
                            "outlinewidth": 0,
                            "ticks": ""
                          }
                        },
                        "type": "scattermapbox"
                      }
                    ],
                    "scatterpolar": [
                      {
                        "marker": {
                          "colorbar": {
                            "outlinewidth": 0,
                            "ticks": ""
                          }
                        },
                        "type": "scatterpolar"
                      }
                    ],
                    "scatterpolargl": [
                      {
                        "marker": {
                          "colorbar": {
                            "outlinewidth": 0,
                            "ticks": ""
                          }
                        },
                        "type": "scatterpolargl"
                      }
                    ],
                    "scatterternary": [
                      {
                        "marker": {
                          "colorbar": {
                            "outlinewidth": 0,
                            "ticks": ""
                          }
                        },
                        "type": "scatterternary"
                      }
                    ],
                    "surface": [
                      {
                        "colorbar": {
                          "outlinewidth": 0,
                          "ticks": ""
                        },
                        "colorscale": [
                          [
                            0,
                            "#0d0887"
                          ],
                          [
                            0.1111111111111111,
                            "#46039f"
                          ],
                          [
                            0.2222222222222222,
                            "#7201a8"
                          ],
                          [
                            0.3333333333333333,
                            "#9c179e"
                          ],
                          [
                            0.4444444444444444,
                            "#bd3786"
                          ],
                          [
                            0.5555555555555556,
                            "#d8576b"
                          ],
                          [
                            0.6666666666666666,
                            "#ed7953"
                          ],
                          [
                            0.7777777777777778,
                            "#fb9f3a"
                          ],
                          [
                            0.8888888888888888,
                            "#fdca26"
                          ],
                          [
                            1,
                            "#f0f921"
                          ]
                        ],
                        "type": "surface"
                      }
                    ],
                    "table": [
                      {
                        "cells": {
                          "fill": {
                            "color": "#EBF0F8"
                          },
                          "line": {
                            "color": "white"
                          }
                        },
                        "header": {
                          "fill": {
                            "color": "#C8D4E3"
                          },
                          "line": {
                            "color": "white"
                          }
                        },
                        "type": "table"
                      }
                    ]
                  },
                  "layout": {
                    "annotationdefaults": {
                      "arrowcolor": "#2a3f5f",
                      "arrowhead": 0,
                      "arrowwidth": 1
                    },
                    "autotypenumbers": "strict",
                    "coloraxis": {
                      "colorbar": {
                        "outlinewidth": 0,
                        "ticks": ""
                      }
                    },
                    "colorscale": {
                      "diverging": [
                        [
                          0,
                          "#8e0152"
                        ],
                        [
                          0.1,
                          "#c51b7d"
                        ],
                        [
                          0.2,
                          "#de77ae"
                        ],
                        [
                          0.3,
                          "#f1b6da"
                        ],
                        [
                          0.4,
                          "#fde0ef"
                        ],
                        [
                          0.5,
                          "#f7f7f7"
                        ],
                        [
                          0.6,
                          "#e6f5d0"
                        ],
                        [
                          0.7,
                          "#b8e186"
                        ],
                        [
                          0.8,
                          "#7fbc41"
                        ],
                        [
                          0.9,
                          "#4d9221"
                        ],
                        [
                          1,
                          "#276419"
                        ]
                      ],
                      "sequential": [
                        [
                          0,
                          "#0d0887"
                        ],
                        [
                          0.1111111111111111,
                          "#46039f"
                        ],
                        [
                          0.2222222222222222,
                          "#7201a8"
                        ],
                        [
                          0.3333333333333333,
                          "#9c179e"
                        ],
                        [
                          0.4444444444444444,
                          "#bd3786"
                        ],
                        [
                          0.5555555555555556,
                          "#d8576b"
                        ],
                        [
                          0.6666666666666666,
                          "#ed7953"
                        ],
                        [
                          0.7777777777777778,
                          "#fb9f3a"
                        ],
                        [
                          0.8888888888888888,
                          "#fdca26"
                        ],
                        [
                          1,
                          "#f0f921"
                        ]
                      ],
                      "sequentialminus": [
                        [
                          0,
                          "#0d0887"
                        ],
                        [
                          0.1111111111111111,
                          "#46039f"
                        ],
                        [
                          0.2222222222222222,
                          "#7201a8"
                        ],
                        [
                          0.3333333333333333,
                          "#9c179e"
                        ],
                        [
                          0.4444444444444444,
                          "#bd3786"
                        ],
                        [
                          0.5555555555555556,
                          "#d8576b"
                        ],
                        [
                          0.6666666666666666,
                          "#ed7953"
                        ],
                        [
                          0.7777777777777778,
                          "#fb9f3a"
                        ],
                        [
                          0.8888888888888888,
                          "#fdca26"
                        ],
                        [
                          1,
                          "#f0f921"
                        ]
                      ]
                    },
                    "colorway": [
                      "#636efa",
                      "#EF553B",
                      "#00cc96",
                      "#ab63fa",
                      "#FFA15A",
                      "#19d3f3",
                      "#FF6692",
                      "#B6E880",
                      "#FF97FF",
                      "#FECB52"
                    ],
                    "font": {
                      "color": "#2a3f5f"
                    },
                    "geo": {
                      "bgcolor": "white",
                      "lakecolor": "white",
                      "landcolor": "#E5ECF6",
                      "showlakes": true,
                      "showland": true,
                      "subunitcolor": "white"
                    },
                    "hoverlabel": {
                      "align": "left"
                    },
                    "hovermode": "closest",
                    "mapbox": {
                      "style": "light"
                    },
                    "paper_bgcolor": "white",
                    "plot_bgcolor": "#E5ECF6",
                    "polar": {
                      "angularaxis": {
                        "gridcolor": "white",
                        "linecolor": "white",
                        "ticks": ""
                      },
                      "bgcolor": "#E5ECF6",
                      "radialaxis": {
                        "gridcolor": "white",
                        "linecolor": "white",
                        "ticks": ""
                      }
                    },
                    "scene": {
                      "xaxis": {
                        "backgroundcolor": "#E5ECF6",
                        "gridcolor": "white",
                        "gridwidth": 2,
                        "linecolor": "white",
                        "showbackground": true,
                        "ticks": "",
                        "zerolinecolor": "white"
                      },
                      "yaxis": {
                        "backgroundcolor": "#E5ECF6",
                        "gridcolor": "white",
                        "gridwidth": 2,
                        "linecolor": "white",
                        "showbackground": true,
                        "ticks": "",
                        "zerolinecolor": "white"
                      },
                      "zaxis": {
                        "backgroundcolor": "#E5ECF6",
                        "gridcolor": "white",
                        "gridwidth": 2,
                        "linecolor": "white",
                        "showbackground": true,
                        "ticks": "",
                        "zerolinecolor": "white"
                      }
                    },
                    "shapedefaults": {
                      "line": {
                        "color": "#2a3f5f"
                      }
                    },
                    "ternary": {
                      "aaxis": {
                        "gridcolor": "white",
                        "linecolor": "white",
                        "ticks": ""
                      },
                      "baxis": {
                        "gridcolor": "white",
                        "linecolor": "white",
                        "ticks": ""
                      },
                      "bgcolor": "#E5ECF6",
                      "caxis": {
                        "gridcolor": "white",
                        "linecolor": "white",
                        "ticks": ""
                      }
                    },
                    "title": {
                      "x": 0.05
                    },
                    "xaxis": {
                      "automargin": true,
                      "gridcolor": "white",
                      "linecolor": "white",
                      "ticks": "",
                      "title": {
                        "standoff": 15
                      },
                      "zerolinecolor": "white",
                      "zerolinewidth": 2
                    },
                    "yaxis": {
                      "automargin": true,
                      "gridcolor": "white",
                      "linecolor": "white",
                      "ticks": "",
                      "title": {
                        "standoff": 15
                      },
                      "zerolinecolor": "white",
                      "zerolinewidth": 2
                    }
                  }
                },
                "xaxis": {
                  "anchor": "y",
                  "domain": [
                    0,
                    1
                  ],
                  "title": {
                    "text": "Your main technology / programming language"
                  }
                },
                "yaxis": {
                  "anchor": "x",
                  "domain": [
                    0,
                    1
                  ],
                  "title": {
                    "text": "Gender"
                  }
                }
              }
            }
          },
          "metadata": {},
          "output_type": "display_data"
        }
      ],
      "source": [
        "fig = px.bar(data_20, x='Your main technology / programming language', y='Gender')\n",
        "fig.show()"
      ]
    },
    {
      "cell_type": "code",
      "execution_count": 376,
      "metadata": {},
      "outputs": [
        {
          "data": {
            "text/plain": "Male       1059\nFemale      192\nDiverse       2\nName: Gender, dtype: int64"
          },
          "execution_count": 376,
          "metadata": {},
          "output_type": "execute_result"
        }
      ],
      "source": [
        "df6=data_20['Gender'].value_counts()\n",
        "df6"
      ]
    },
    {
      "cell_type": "code",
      "execution_count": 375,
      "metadata": {},
      "outputs": [
        {
          "data": {
            "application/vnd.plotly.v1+json": {
              "config": {
                "plotlyServerURL": "https://plot.ly"
              },
              "data": [
                {
                  "domain": {
                    "x": [
                      0,
                      1
                    ],
                    "y": [
                      0,
                      1
                    ]
                  },
                  "hovertemplate": "Gender=%{label}<br>value=%{value}<extra></extra>",
                  "labels": [
                    1059,
                    192,
                    2
                  ],
                  "legendgroup": "",
                  "name": "",
                  "showlegend": true,
                  "type": "pie",
                  "values": [
                    1059,
                    192,
                    2
                  ]
                }
              ],
              "layout": {
                "legend": {
                  "tracegroupgap": 0
                },
                "template": {
                  "data": {
                    "bar": [
                      {
                        "error_x": {
                          "color": "#2a3f5f"
                        },
                        "error_y": {
                          "color": "#2a3f5f"
                        },
                        "marker": {
                          "line": {
                            "color": "#E5ECF6",
                            "width": 0.5
                          }
                        },
                        "type": "bar"
                      }
                    ],
                    "barpolar": [
                      {
                        "marker": {
                          "line": {
                            "color": "#E5ECF6",
                            "width": 0.5
                          }
                        },
                        "type": "barpolar"
                      }
                    ],
                    "carpet": [
                      {
                        "aaxis": {
                          "endlinecolor": "#2a3f5f",
                          "gridcolor": "white",
                          "linecolor": "white",
                          "minorgridcolor": "white",
                          "startlinecolor": "#2a3f5f"
                        },
                        "baxis": {
                          "endlinecolor": "#2a3f5f",
                          "gridcolor": "white",
                          "linecolor": "white",
                          "minorgridcolor": "white",
                          "startlinecolor": "#2a3f5f"
                        },
                        "type": "carpet"
                      }
                    ],
                    "choropleth": [
                      {
                        "colorbar": {
                          "outlinewidth": 0,
                          "ticks": ""
                        },
                        "type": "choropleth"
                      }
                    ],
                    "contour": [
                      {
                        "colorbar": {
                          "outlinewidth": 0,
                          "ticks": ""
                        },
                        "colorscale": [
                          [
                            0,
                            "#0d0887"
                          ],
                          [
                            0.1111111111111111,
                            "#46039f"
                          ],
                          [
                            0.2222222222222222,
                            "#7201a8"
                          ],
                          [
                            0.3333333333333333,
                            "#9c179e"
                          ],
                          [
                            0.4444444444444444,
                            "#bd3786"
                          ],
                          [
                            0.5555555555555556,
                            "#d8576b"
                          ],
                          [
                            0.6666666666666666,
                            "#ed7953"
                          ],
                          [
                            0.7777777777777778,
                            "#fb9f3a"
                          ],
                          [
                            0.8888888888888888,
                            "#fdca26"
                          ],
                          [
                            1,
                            "#f0f921"
                          ]
                        ],
                        "type": "contour"
                      }
                    ],
                    "contourcarpet": [
                      {
                        "colorbar": {
                          "outlinewidth": 0,
                          "ticks": ""
                        },
                        "type": "contourcarpet"
                      }
                    ],
                    "heatmap": [
                      {
                        "colorbar": {
                          "outlinewidth": 0,
                          "ticks": ""
                        },
                        "colorscale": [
                          [
                            0,
                            "#0d0887"
                          ],
                          [
                            0.1111111111111111,
                            "#46039f"
                          ],
                          [
                            0.2222222222222222,
                            "#7201a8"
                          ],
                          [
                            0.3333333333333333,
                            "#9c179e"
                          ],
                          [
                            0.4444444444444444,
                            "#bd3786"
                          ],
                          [
                            0.5555555555555556,
                            "#d8576b"
                          ],
                          [
                            0.6666666666666666,
                            "#ed7953"
                          ],
                          [
                            0.7777777777777778,
                            "#fb9f3a"
                          ],
                          [
                            0.8888888888888888,
                            "#fdca26"
                          ],
                          [
                            1,
                            "#f0f921"
                          ]
                        ],
                        "type": "heatmap"
                      }
                    ],
                    "heatmapgl": [
                      {
                        "colorbar": {
                          "outlinewidth": 0,
                          "ticks": ""
                        },
                        "colorscale": [
                          [
                            0,
                            "#0d0887"
                          ],
                          [
                            0.1111111111111111,
                            "#46039f"
                          ],
                          [
                            0.2222222222222222,
                            "#7201a8"
                          ],
                          [
                            0.3333333333333333,
                            "#9c179e"
                          ],
                          [
                            0.4444444444444444,
                            "#bd3786"
                          ],
                          [
                            0.5555555555555556,
                            "#d8576b"
                          ],
                          [
                            0.6666666666666666,
                            "#ed7953"
                          ],
                          [
                            0.7777777777777778,
                            "#fb9f3a"
                          ],
                          [
                            0.8888888888888888,
                            "#fdca26"
                          ],
                          [
                            1,
                            "#f0f921"
                          ]
                        ],
                        "type": "heatmapgl"
                      }
                    ],
                    "histogram": [
                      {
                        "marker": {
                          "colorbar": {
                            "outlinewidth": 0,
                            "ticks": ""
                          }
                        },
                        "type": "histogram"
                      }
                    ],
                    "histogram2d": [
                      {
                        "colorbar": {
                          "outlinewidth": 0,
                          "ticks": ""
                        },
                        "colorscale": [
                          [
                            0,
                            "#0d0887"
                          ],
                          [
                            0.1111111111111111,
                            "#46039f"
                          ],
                          [
                            0.2222222222222222,
                            "#7201a8"
                          ],
                          [
                            0.3333333333333333,
                            "#9c179e"
                          ],
                          [
                            0.4444444444444444,
                            "#bd3786"
                          ],
                          [
                            0.5555555555555556,
                            "#d8576b"
                          ],
                          [
                            0.6666666666666666,
                            "#ed7953"
                          ],
                          [
                            0.7777777777777778,
                            "#fb9f3a"
                          ],
                          [
                            0.8888888888888888,
                            "#fdca26"
                          ],
                          [
                            1,
                            "#f0f921"
                          ]
                        ],
                        "type": "histogram2d"
                      }
                    ],
                    "histogram2dcontour": [
                      {
                        "colorbar": {
                          "outlinewidth": 0,
                          "ticks": ""
                        },
                        "colorscale": [
                          [
                            0,
                            "#0d0887"
                          ],
                          [
                            0.1111111111111111,
                            "#46039f"
                          ],
                          [
                            0.2222222222222222,
                            "#7201a8"
                          ],
                          [
                            0.3333333333333333,
                            "#9c179e"
                          ],
                          [
                            0.4444444444444444,
                            "#bd3786"
                          ],
                          [
                            0.5555555555555556,
                            "#d8576b"
                          ],
                          [
                            0.6666666666666666,
                            "#ed7953"
                          ],
                          [
                            0.7777777777777778,
                            "#fb9f3a"
                          ],
                          [
                            0.8888888888888888,
                            "#fdca26"
                          ],
                          [
                            1,
                            "#f0f921"
                          ]
                        ],
                        "type": "histogram2dcontour"
                      }
                    ],
                    "mesh3d": [
                      {
                        "colorbar": {
                          "outlinewidth": 0,
                          "ticks": ""
                        },
                        "type": "mesh3d"
                      }
                    ],
                    "parcoords": [
                      {
                        "line": {
                          "colorbar": {
                            "outlinewidth": 0,
                            "ticks": ""
                          }
                        },
                        "type": "parcoords"
                      }
                    ],
                    "pie": [
                      {
                        "automargin": true,
                        "type": "pie"
                      }
                    ],
                    "scatter": [
                      {
                        "marker": {
                          "colorbar": {
                            "outlinewidth": 0,
                            "ticks": ""
                          }
                        },
                        "type": "scatter"
                      }
                    ],
                    "scatter3d": [
                      {
                        "line": {
                          "colorbar": {
                            "outlinewidth": 0,
                            "ticks": ""
                          }
                        },
                        "marker": {
                          "colorbar": {
                            "outlinewidth": 0,
                            "ticks": ""
                          }
                        },
                        "type": "scatter3d"
                      }
                    ],
                    "scattercarpet": [
                      {
                        "marker": {
                          "colorbar": {
                            "outlinewidth": 0,
                            "ticks": ""
                          }
                        },
                        "type": "scattercarpet"
                      }
                    ],
                    "scattergeo": [
                      {
                        "marker": {
                          "colorbar": {
                            "outlinewidth": 0,
                            "ticks": ""
                          }
                        },
                        "type": "scattergeo"
                      }
                    ],
                    "scattergl": [
                      {
                        "marker": {
                          "colorbar": {
                            "outlinewidth": 0,
                            "ticks": ""
                          }
                        },
                        "type": "scattergl"
                      }
                    ],
                    "scattermapbox": [
                      {
                        "marker": {
                          "colorbar": {
                            "outlinewidth": 0,
                            "ticks": ""
                          }
                        },
                        "type": "scattermapbox"
                      }
                    ],
                    "scatterpolar": [
                      {
                        "marker": {
                          "colorbar": {
                            "outlinewidth": 0,
                            "ticks": ""
                          }
                        },
                        "type": "scatterpolar"
                      }
                    ],
                    "scatterpolargl": [
                      {
                        "marker": {
                          "colorbar": {
                            "outlinewidth": 0,
                            "ticks": ""
                          }
                        },
                        "type": "scatterpolargl"
                      }
                    ],
                    "scatterternary": [
                      {
                        "marker": {
                          "colorbar": {
                            "outlinewidth": 0,
                            "ticks": ""
                          }
                        },
                        "type": "scatterternary"
                      }
                    ],
                    "surface": [
                      {
                        "colorbar": {
                          "outlinewidth": 0,
                          "ticks": ""
                        },
                        "colorscale": [
                          [
                            0,
                            "#0d0887"
                          ],
                          [
                            0.1111111111111111,
                            "#46039f"
                          ],
                          [
                            0.2222222222222222,
                            "#7201a8"
                          ],
                          [
                            0.3333333333333333,
                            "#9c179e"
                          ],
                          [
                            0.4444444444444444,
                            "#bd3786"
                          ],
                          [
                            0.5555555555555556,
                            "#d8576b"
                          ],
                          [
                            0.6666666666666666,
                            "#ed7953"
                          ],
                          [
                            0.7777777777777778,
                            "#fb9f3a"
                          ],
                          [
                            0.8888888888888888,
                            "#fdca26"
                          ],
                          [
                            1,
                            "#f0f921"
                          ]
                        ],
                        "type": "surface"
                      }
                    ],
                    "table": [
                      {
                        "cells": {
                          "fill": {
                            "color": "#EBF0F8"
                          },
                          "line": {
                            "color": "white"
                          }
                        },
                        "header": {
                          "fill": {
                            "color": "#C8D4E3"
                          },
                          "line": {
                            "color": "white"
                          }
                        },
                        "type": "table"
                      }
                    ]
                  },
                  "layout": {
                    "annotationdefaults": {
                      "arrowcolor": "#2a3f5f",
                      "arrowhead": 0,
                      "arrowwidth": 1
                    },
                    "autotypenumbers": "strict",
                    "coloraxis": {
                      "colorbar": {
                        "outlinewidth": 0,
                        "ticks": ""
                      }
                    },
                    "colorscale": {
                      "diverging": [
                        [
                          0,
                          "#8e0152"
                        ],
                        [
                          0.1,
                          "#c51b7d"
                        ],
                        [
                          0.2,
                          "#de77ae"
                        ],
                        [
                          0.3,
                          "#f1b6da"
                        ],
                        [
                          0.4,
                          "#fde0ef"
                        ],
                        [
                          0.5,
                          "#f7f7f7"
                        ],
                        [
                          0.6,
                          "#e6f5d0"
                        ],
                        [
                          0.7,
                          "#b8e186"
                        ],
                        [
                          0.8,
                          "#7fbc41"
                        ],
                        [
                          0.9,
                          "#4d9221"
                        ],
                        [
                          1,
                          "#276419"
                        ]
                      ],
                      "sequential": [
                        [
                          0,
                          "#0d0887"
                        ],
                        [
                          0.1111111111111111,
                          "#46039f"
                        ],
                        [
                          0.2222222222222222,
                          "#7201a8"
                        ],
                        [
                          0.3333333333333333,
                          "#9c179e"
                        ],
                        [
                          0.4444444444444444,
                          "#bd3786"
                        ],
                        [
                          0.5555555555555556,
                          "#d8576b"
                        ],
                        [
                          0.6666666666666666,
                          "#ed7953"
                        ],
                        [
                          0.7777777777777778,
                          "#fb9f3a"
                        ],
                        [
                          0.8888888888888888,
                          "#fdca26"
                        ],
                        [
                          1,
                          "#f0f921"
                        ]
                      ],
                      "sequentialminus": [
                        [
                          0,
                          "#0d0887"
                        ],
                        [
                          0.1111111111111111,
                          "#46039f"
                        ],
                        [
                          0.2222222222222222,
                          "#7201a8"
                        ],
                        [
                          0.3333333333333333,
                          "#9c179e"
                        ],
                        [
                          0.4444444444444444,
                          "#bd3786"
                        ],
                        [
                          0.5555555555555556,
                          "#d8576b"
                        ],
                        [
                          0.6666666666666666,
                          "#ed7953"
                        ],
                        [
                          0.7777777777777778,
                          "#fb9f3a"
                        ],
                        [
                          0.8888888888888888,
                          "#fdca26"
                        ],
                        [
                          1,
                          "#f0f921"
                        ]
                      ]
                    },
                    "colorway": [
                      "#636efa",
                      "#EF553B",
                      "#00cc96",
                      "#ab63fa",
                      "#FFA15A",
                      "#19d3f3",
                      "#FF6692",
                      "#B6E880",
                      "#FF97FF",
                      "#FECB52"
                    ],
                    "font": {
                      "color": "#2a3f5f"
                    },
                    "geo": {
                      "bgcolor": "white",
                      "lakecolor": "white",
                      "landcolor": "#E5ECF6",
                      "showlakes": true,
                      "showland": true,
                      "subunitcolor": "white"
                    },
                    "hoverlabel": {
                      "align": "left"
                    },
                    "hovermode": "closest",
                    "mapbox": {
                      "style": "light"
                    },
                    "paper_bgcolor": "white",
                    "plot_bgcolor": "#E5ECF6",
                    "polar": {
                      "angularaxis": {
                        "gridcolor": "white",
                        "linecolor": "white",
                        "ticks": ""
                      },
                      "bgcolor": "#E5ECF6",
                      "radialaxis": {
                        "gridcolor": "white",
                        "linecolor": "white",
                        "ticks": ""
                      }
                    },
                    "scene": {
                      "xaxis": {
                        "backgroundcolor": "#E5ECF6",
                        "gridcolor": "white",
                        "gridwidth": 2,
                        "linecolor": "white",
                        "showbackground": true,
                        "ticks": "",
                        "zerolinecolor": "white"
                      },
                      "yaxis": {
                        "backgroundcolor": "#E5ECF6",
                        "gridcolor": "white",
                        "gridwidth": 2,
                        "linecolor": "white",
                        "showbackground": true,
                        "ticks": "",
                        "zerolinecolor": "white"
                      },
                      "zaxis": {
                        "backgroundcolor": "#E5ECF6",
                        "gridcolor": "white",
                        "gridwidth": 2,
                        "linecolor": "white",
                        "showbackground": true,
                        "ticks": "",
                        "zerolinecolor": "white"
                      }
                    },
                    "shapedefaults": {
                      "line": {
                        "color": "#2a3f5f"
                      }
                    },
                    "ternary": {
                      "aaxis": {
                        "gridcolor": "white",
                        "linecolor": "white",
                        "ticks": ""
                      },
                      "baxis": {
                        "gridcolor": "white",
                        "linecolor": "white",
                        "ticks": ""
                      },
                      "bgcolor": "#E5ECF6",
                      "caxis": {
                        "gridcolor": "white",
                        "linecolor": "white",
                        "ticks": ""
                      }
                    },
                    "title": {
                      "x": 0.05
                    },
                    "xaxis": {
                      "automargin": true,
                      "gridcolor": "white",
                      "linecolor": "white",
                      "ticks": "",
                      "title": {
                        "standoff": 15
                      },
                      "zerolinecolor": "white",
                      "zerolinewidth": 2
                    },
                    "yaxis": {
                      "automargin": true,
                      "gridcolor": "white",
                      "linecolor": "white",
                      "ticks": "",
                      "title": {
                        "standoff": 15
                      },
                      "zerolinecolor": "white",
                      "zerolinewidth": 2
                    }
                  }
                },
                "title": {
                  "text": "Gender"
                }
              }
            }
          },
          "metadata": {},
          "output_type": "display_data"
        }
      ],
      "source": [
        "fig=px.pie(df6,values=df6, names='Gender', title='Gender')\n",
        "fig.show()"
      ]
    },
    {
      "cell_type": "markdown",
      "metadata": {
        "id": "uo95NopBCo6w"
      },
      "source": [
        "## Bonus Section [Optional but carries bonus marks]\r\n",
        "This dataset is as raw and real as it can get while conducting yearly surveys. You might have observed that the data is not clean and structured and requires some thorough cleaning before deriving meaningful plots. When combined with the power of Plotly and Dash, there are endless possibilities for the insightful visualizations you can create. \r\n",
        "\r\n",
        "This section is to let you experiment, explore and create as many visualizations as you’d like. You never know, if we like the creativity and the extra work, you might receive some bonus marks!\r\n"
      ]
    },
    {
      "cell_type": "code",
      "execution_count": null,
      "metadata": {
        "id": "tCY1-a_SFlWq"
      },
      "outputs": [],
      "source": []
    },
    {
      "cell_type": "markdown",
      "metadata": {
        "id": "eZhk-3nbFl2n"
      },
      "source": [
        "# Conclusion\r\n",
        "This brings us to the end of the assignment and to the bootcamp. We hope you had a great learning time. :)\r\n",
        "\r\n",
        "Now, you can submit your notebook for assessment. "
      ]
    }
  ],
  "metadata": {
    "colab": {
      "name": "Template_Notebook_DAV_Final_Assignment.ipynb",
      "provenance": []
    },
    "kernelspec": {
      "display_name": "Python 3",
      "name": "python3"
    },
    "language_info": {}
  },
  "nbformat": 4,
  "nbformat_minor": 0
}